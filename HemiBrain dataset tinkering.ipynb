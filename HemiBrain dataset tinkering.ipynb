{
  "cells": [
    {
      "cell_type": "code",
      "execution_count": 1,
      "metadata": {
        "colab": {
          "base_uri": "https://localhost:8080/"
        },
        "id": "u4tK4vJnm9d6",
        "outputId": "408c39db-577b-434a-a49b-ba6381fe01e3"
      },
      "outputs": [
        {
          "output_type": "stream",
          "name": "stdout",
          "text": [
            "Drive already mounted at /content/drive; to attempt to forcibly remount, call drive.mount(\"/content/drive\", force_remount=True).\n"
          ]
        }
      ],
      "source": [
        "from google.colab import drive\n",
        "drive.mount('/content/drive')"
      ],
      "id": "u4tK4vJnm9d6"
    },
    {
      "cell_type": "code",
      "execution_count": 2,
      "metadata": {
        "id": "xYS7Y-JFnH38"
      },
      "outputs": [],
      "source": [
        "import os\n",
        "os.chdir('drive/MyDrive/2022 EECS 6691/Final Project')"
      ],
      "id": "xYS7Y-JFnH38"
    },
    {
      "cell_type": "code",
      "execution_count": 3,
      "metadata": {
        "id": "5a160698"
      },
      "outputs": [],
      "source": [
        "import numpy as np\n",
        "import pandas as pd\n",
        "import torch\n",
        "import torch.nn.init as init"
      ],
      "id": "5a160698"
    },
    {
      "cell_type": "code",
      "execution_count": 4,
      "metadata": {
        "colab": {
          "base_uri": "https://localhost:8080/"
        },
        "id": "E8ngwzPueYDb",
        "outputId": "dec1d284-6203-4c08-f2c2-71d86087baa2"
      },
      "outputs": [
        {
          "output_type": "execute_result",
          "data": {
            "text/plain": [
              "4741"
            ]
          },
          "metadata": {},
          "execution_count": 4
        }
      ],
      "source": [
        "traced_neurons_new = pd.read_csv('exported-traced-adjacencies/traced-neurons.csv')\n",
        "traced_neurons_new['type'].nunique()"
      ],
      "id": "E8ngwzPueYDb"
    },
    {
      "cell_type": "code",
      "execution_count": 5,
      "metadata": {
        "id": "89fc7a3c"
      },
      "outputs": [],
      "source": [
        "traced_neurons = pd.read_csv('exported-traced-adjacencies/traced-neurons.csv')\n",
        "traced_roi_connections = pd.read_csv('exported-traced-adjacencies/traced-roi-connections.csv')\n",
        "traced_total_connections = pd.read_csv('exported-traced-adjacencies/traced-total-connections.csv')"
      ],
      "id": "89fc7a3c"
    },
    {
      "cell_type": "code",
      "execution_count": null,
      "metadata": {
        "colab": {
          "base_uri": "https://localhost:8080/",
          "height": 423
        },
        "id": "XIFGh07GsiJD",
        "outputId": "42e45a88-861b-4263-ca0d-3f2a43675398"
      },
      "outputs": [
        {
          "data": {
            "text/html": [
              "\n",
              "  <div id=\"df-49e9082f-5f1d-4439-a4c7-cd5e60eb714d\">\n",
              "    <div class=\"colab-df-container\">\n",
              "      <div>\n",
              "<style scoped>\n",
              "    .dataframe tbody tr th:only-of-type {\n",
              "        vertical-align: middle;\n",
              "    }\n",
              "\n",
              "    .dataframe tbody tr th {\n",
              "        vertical-align: top;\n",
              "    }\n",
              "\n",
              "    .dataframe thead th {\n",
              "        text-align: right;\n",
              "    }\n",
              "</style>\n",
              "<table border=\"1\" class=\"dataframe\">\n",
              "  <thead>\n",
              "    <tr style=\"text-align: right;\">\n",
              "      <th></th>\n",
              "      <th>bodyId_pre</th>\n",
              "      <th>bodyId_post</th>\n",
              "      <th>weight</th>\n",
              "    </tr>\n",
              "  </thead>\n",
              "  <tbody>\n",
              "    <tr>\n",
              "      <th>0</th>\n",
              "      <td>5813054846</td>\n",
              "      <td>5813020143</td>\n",
              "      <td>1</td>\n",
              "    </tr>\n",
              "    <tr>\n",
              "      <th>1</th>\n",
              "      <td>5813054846</td>\n",
              "      <td>2215550458</td>\n",
              "      <td>1</td>\n",
              "    </tr>\n",
              "    <tr>\n",
              "      <th>2</th>\n",
              "      <td>5813054846</td>\n",
              "      <td>1448575109</td>\n",
              "      <td>1</td>\n",
              "    </tr>\n",
              "    <tr>\n",
              "      <th>3</th>\n",
              "      <td>5813054846</td>\n",
              "      <td>1223388206</td>\n",
              "      <td>1</td>\n",
              "    </tr>\n",
              "    <tr>\n",
              "      <th>4</th>\n",
              "      <td>5813054846</td>\n",
              "      <td>1913403687</td>\n",
              "      <td>1</td>\n",
              "    </tr>\n",
              "    <tr>\n",
              "      <th>...</th>\n",
              "      <td>...</td>\n",
              "      <td>...</td>\n",
              "      <td>...</td>\n",
              "    </tr>\n",
              "    <tr>\n",
              "      <th>3413155</th>\n",
              "      <td>453794660</td>\n",
              "      <td>481070027</td>\n",
              "      <td>1</td>\n",
              "    </tr>\n",
              "    <tr>\n",
              "      <th>3413156</th>\n",
              "      <td>453794660</td>\n",
              "      <td>423792440</td>\n",
              "      <td>2</td>\n",
              "    </tr>\n",
              "    <tr>\n",
              "      <th>3413157</th>\n",
              "      <td>453794660</td>\n",
              "      <td>455172836</td>\n",
              "      <td>1</td>\n",
              "    </tr>\n",
              "    <tr>\n",
              "      <th>3413158</th>\n",
              "      <td>453794660</td>\n",
              "      <td>388975834</td>\n",
              "      <td>3</td>\n",
              "    </tr>\n",
              "    <tr>\n",
              "      <th>3413159</th>\n",
              "      <td>453794660</td>\n",
              "      <td>767904550</td>\n",
              "      <td>1</td>\n",
              "    </tr>\n",
              "  </tbody>\n",
              "</table>\n",
              "<p>3413160 rows × 3 columns</p>\n",
              "</div>\n",
              "      <button class=\"colab-df-convert\" onclick=\"convertToInteractive('df-49e9082f-5f1d-4439-a4c7-cd5e60eb714d')\"\n",
              "              title=\"Convert this dataframe to an interactive table.\"\n",
              "              style=\"display:none;\">\n",
              "        \n",
              "  <svg xmlns=\"http://www.w3.org/2000/svg\" height=\"24px\"viewBox=\"0 0 24 24\"\n",
              "       width=\"24px\">\n",
              "    <path d=\"M0 0h24v24H0V0z\" fill=\"none\"/>\n",
              "    <path d=\"M18.56 5.44l.94 2.06.94-2.06 2.06-.94-2.06-.94-.94-2.06-.94 2.06-2.06.94zm-11 1L8.5 8.5l.94-2.06 2.06-.94-2.06-.94L8.5 2.5l-.94 2.06-2.06.94zm10 10l.94 2.06.94-2.06 2.06-.94-2.06-.94-.94-2.06-.94 2.06-2.06.94z\"/><path d=\"M17.41 7.96l-1.37-1.37c-.4-.4-.92-.59-1.43-.59-.52 0-1.04.2-1.43.59L10.3 9.45l-7.72 7.72c-.78.78-.78 2.05 0 2.83L4 21.41c.39.39.9.59 1.41.59.51 0 1.02-.2 1.41-.59l7.78-7.78 2.81-2.81c.8-.78.8-2.07 0-2.86zM5.41 20L4 18.59l7.72-7.72 1.47 1.35L5.41 20z\"/>\n",
              "  </svg>\n",
              "      </button>\n",
              "      \n",
              "  <style>\n",
              "    .colab-df-container {\n",
              "      display:flex;\n",
              "      flex-wrap:wrap;\n",
              "      gap: 12px;\n",
              "    }\n",
              "\n",
              "    .colab-df-convert {\n",
              "      background-color: #E8F0FE;\n",
              "      border: none;\n",
              "      border-radius: 50%;\n",
              "      cursor: pointer;\n",
              "      display: none;\n",
              "      fill: #1967D2;\n",
              "      height: 32px;\n",
              "      padding: 0 0 0 0;\n",
              "      width: 32px;\n",
              "    }\n",
              "\n",
              "    .colab-df-convert:hover {\n",
              "      background-color: #E2EBFA;\n",
              "      box-shadow: 0px 1px 2px rgba(60, 64, 67, 0.3), 0px 1px 3px 1px rgba(60, 64, 67, 0.15);\n",
              "      fill: #174EA6;\n",
              "    }\n",
              "\n",
              "    [theme=dark] .colab-df-convert {\n",
              "      background-color: #3B4455;\n",
              "      fill: #D2E3FC;\n",
              "    }\n",
              "\n",
              "    [theme=dark] .colab-df-convert:hover {\n",
              "      background-color: #434B5C;\n",
              "      box-shadow: 0px 1px 3px 1px rgba(0, 0, 0, 0.15);\n",
              "      filter: drop-shadow(0px 1px 2px rgba(0, 0, 0, 0.3));\n",
              "      fill: #FFFFFF;\n",
              "    }\n",
              "  </style>\n",
              "\n",
              "      <script>\n",
              "        const buttonEl =\n",
              "          document.querySelector('#df-49e9082f-5f1d-4439-a4c7-cd5e60eb714d button.colab-df-convert');\n",
              "        buttonEl.style.display =\n",
              "          google.colab.kernel.accessAllowed ? 'block' : 'none';\n",
              "\n",
              "        async function convertToInteractive(key) {\n",
              "          const element = document.querySelector('#df-49e9082f-5f1d-4439-a4c7-cd5e60eb714d');\n",
              "          const dataTable =\n",
              "            await google.colab.kernel.invokeFunction('convertToInteractive',\n",
              "                                                     [key], {});\n",
              "          if (!dataTable) return;\n",
              "\n",
              "          const docLinkHtml = 'Like what you see? Visit the ' +\n",
              "            '<a target=\"_blank\" href=https://colab.research.google.com/notebooks/data_table.ipynb>data table notebook</a>'\n",
              "            + ' to learn more about interactive tables.';\n",
              "          element.innerHTML = '';\n",
              "          dataTable['output_type'] = 'display_data';\n",
              "          await google.colab.output.renderOutput(dataTable, element);\n",
              "          const docLink = document.createElement('div');\n",
              "          docLink.innerHTML = docLinkHtml;\n",
              "          element.appendChild(docLink);\n",
              "        }\n",
              "      </script>\n",
              "    </div>\n",
              "  </div>\n",
              "  "
            ],
            "text/plain": [
              "         bodyId_pre  bodyId_post  weight\n",
              "0        5813054846   5813020143       1\n",
              "1        5813054846   2215550458       1\n",
              "2        5813054846   1448575109       1\n",
              "3        5813054846   1223388206       1\n",
              "4        5813054846   1913403687       1\n",
              "...             ...          ...     ...\n",
              "3413155   453794660    481070027       1\n",
              "3413156   453794660    423792440       2\n",
              "3413157   453794660    455172836       1\n",
              "3413158   453794660    388975834       3\n",
              "3413159   453794660    767904550       1\n",
              "\n",
              "[3413160 rows x 3 columns]"
            ]
          },
          "execution_count": 37,
          "metadata": {},
          "output_type": "execute_result"
        }
      ],
      "source": [
        "traced_total_connections"
      ],
      "id": "XIFGh07GsiJD"
    },
    {
      "cell_type": "code",
      "execution_count": null,
      "metadata": {
        "colab": {
          "base_uri": "https://localhost:8080/",
          "height": 423
        },
        "id": "3da0f808",
        "outputId": "987aaa8d-2d7a-4624-fb48-40345470da6e",
        "scrolled": true
      },
      "outputs": [
        {
          "data": {
            "text/html": [
              "\n",
              "  <div id=\"df-a86f9eea-4229-4d5f-aaa0-d5a2558112e0\">\n",
              "    <div class=\"colab-df-container\">\n",
              "      <div>\n",
              "<style scoped>\n",
              "    .dataframe tbody tr th:only-of-type {\n",
              "        vertical-align: middle;\n",
              "    }\n",
              "\n",
              "    .dataframe tbody tr th {\n",
              "        vertical-align: top;\n",
              "    }\n",
              "\n",
              "    .dataframe thead th {\n",
              "        text-align: right;\n",
              "    }\n",
              "</style>\n",
              "<table border=\"1\" class=\"dataframe\">\n",
              "  <thead>\n",
              "    <tr style=\"text-align: right;\">\n",
              "      <th></th>\n",
              "      <th>bodyId</th>\n",
              "      <th>instance</th>\n",
              "      <th>type</th>\n",
              "    </tr>\n",
              "  </thead>\n",
              "  <tbody>\n",
              "    <tr>\n",
              "      <th>0</th>\n",
              "      <td>5813054846</td>\n",
              "      <td>PVM03y_pct(PVM03)_R</td>\n",
              "      <td>PVM03y_pct</td>\n",
              "    </tr>\n",
              "    <tr>\n",
              "      <th>1</th>\n",
              "      <td>1479492693</td>\n",
              "      <td>AVL13t_pct(AVL13)_R</td>\n",
              "      <td>AVL13t_pct</td>\n",
              "    </tr>\n",
              "    <tr>\n",
              "      <th>2</th>\n",
              "      <td>5812982999</td>\n",
              "      <td>KCg</td>\n",
              "      <td>KCg</td>\n",
              "    </tr>\n",
              "    <tr>\n",
              "      <th>3</th>\n",
              "      <td>1720300275</td>\n",
              "      <td>AVL04v_d_pct(AVL04)_R</td>\n",
              "      <td>AVL04v_d_pct</td>\n",
              "    </tr>\n",
              "    <tr>\n",
              "      <th>4</th>\n",
              "      <td>5813060766</td>\n",
              "      <td>PDL14m_a_pct(PDL14)_R</td>\n",
              "      <td>PDL14m_a_pct</td>\n",
              "    </tr>\n",
              "    <tr>\n",
              "      <th>...</th>\n",
              "      <td>...</td>\n",
              "      <td>...</td>\n",
              "      <td>...</td>\n",
              "    </tr>\n",
              "    <tr>\n",
              "      <th>21658</th>\n",
              "      <td>583132200</td>\n",
              "      <td>(ADM01)_L</td>\n",
              "      <td>NaN</td>\n",
              "    </tr>\n",
              "    <tr>\n",
              "      <th>21659</th>\n",
              "      <td>5813098080</td>\n",
              "      <td>ADL01os_pct(ADL01)_R</td>\n",
              "      <td>ADL01os_pct</td>\n",
              "    </tr>\n",
              "    <tr>\n",
              "      <th>21660</th>\n",
              "      <td>1948478919</td>\n",
              "      <td>AVL14t_pct(AVL14)_R</td>\n",
              "      <td>AVL14t_pct</td>\n",
              "    </tr>\n",
              "    <tr>\n",
              "      <th>21661</th>\n",
              "      <td>604061479</td>\n",
              "      <td>AVL12j_pct(AVL12)_R</td>\n",
              "      <td>AVL12j_pct</td>\n",
              "    </tr>\n",
              "    <tr>\n",
              "      <th>21662</th>\n",
              "      <td>453794660</td>\n",
              "      <td>ADM04n_d_pct(ADM04)_R</td>\n",
              "      <td>ADM04n_d_pct</td>\n",
              "    </tr>\n",
              "  </tbody>\n",
              "</table>\n",
              "<p>21663 rows × 3 columns</p>\n",
              "</div>\n",
              "      <button class=\"colab-df-convert\" onclick=\"convertToInteractive('df-a86f9eea-4229-4d5f-aaa0-d5a2558112e0')\"\n",
              "              title=\"Convert this dataframe to an interactive table.\"\n",
              "              style=\"display:none;\">\n",
              "        \n",
              "  <svg xmlns=\"http://www.w3.org/2000/svg\" height=\"24px\"viewBox=\"0 0 24 24\"\n",
              "       width=\"24px\">\n",
              "    <path d=\"M0 0h24v24H0V0z\" fill=\"none\"/>\n",
              "    <path d=\"M18.56 5.44l.94 2.06.94-2.06 2.06-.94-2.06-.94-.94-2.06-.94 2.06-2.06.94zm-11 1L8.5 8.5l.94-2.06 2.06-.94-2.06-.94L8.5 2.5l-.94 2.06-2.06.94zm10 10l.94 2.06.94-2.06 2.06-.94-2.06-.94-.94-2.06-.94 2.06-2.06.94z\"/><path d=\"M17.41 7.96l-1.37-1.37c-.4-.4-.92-.59-1.43-.59-.52 0-1.04.2-1.43.59L10.3 9.45l-7.72 7.72c-.78.78-.78 2.05 0 2.83L4 21.41c.39.39.9.59 1.41.59.51 0 1.02-.2 1.41-.59l7.78-7.78 2.81-2.81c.8-.78.8-2.07 0-2.86zM5.41 20L4 18.59l7.72-7.72 1.47 1.35L5.41 20z\"/>\n",
              "  </svg>\n",
              "      </button>\n",
              "      \n",
              "  <style>\n",
              "    .colab-df-container {\n",
              "      display:flex;\n",
              "      flex-wrap:wrap;\n",
              "      gap: 12px;\n",
              "    }\n",
              "\n",
              "    .colab-df-convert {\n",
              "      background-color: #E8F0FE;\n",
              "      border: none;\n",
              "      border-radius: 50%;\n",
              "      cursor: pointer;\n",
              "      display: none;\n",
              "      fill: #1967D2;\n",
              "      height: 32px;\n",
              "      padding: 0 0 0 0;\n",
              "      width: 32px;\n",
              "    }\n",
              "\n",
              "    .colab-df-convert:hover {\n",
              "      background-color: #E2EBFA;\n",
              "      box-shadow: 0px 1px 2px rgba(60, 64, 67, 0.3), 0px 1px 3px 1px rgba(60, 64, 67, 0.15);\n",
              "      fill: #174EA6;\n",
              "    }\n",
              "\n",
              "    [theme=dark] .colab-df-convert {\n",
              "      background-color: #3B4455;\n",
              "      fill: #D2E3FC;\n",
              "    }\n",
              "\n",
              "    [theme=dark] .colab-df-convert:hover {\n",
              "      background-color: #434B5C;\n",
              "      box-shadow: 0px 1px 3px 1px rgba(0, 0, 0, 0.15);\n",
              "      filter: drop-shadow(0px 1px 2px rgba(0, 0, 0, 0.3));\n",
              "      fill: #FFFFFF;\n",
              "    }\n",
              "  </style>\n",
              "\n",
              "      <script>\n",
              "        const buttonEl =\n",
              "          document.querySelector('#df-a86f9eea-4229-4d5f-aaa0-d5a2558112e0 button.colab-df-convert');\n",
              "        buttonEl.style.display =\n",
              "          google.colab.kernel.accessAllowed ? 'block' : 'none';\n",
              "\n",
              "        async function convertToInteractive(key) {\n",
              "          const element = document.querySelector('#df-a86f9eea-4229-4d5f-aaa0-d5a2558112e0');\n",
              "          const dataTable =\n",
              "            await google.colab.kernel.invokeFunction('convertToInteractive',\n",
              "                                                     [key], {});\n",
              "          if (!dataTable) return;\n",
              "\n",
              "          const docLinkHtml = 'Like what you see? Visit the ' +\n",
              "            '<a target=\"_blank\" href=https://colab.research.google.com/notebooks/data_table.ipynb>data table notebook</a>'\n",
              "            + ' to learn more about interactive tables.';\n",
              "          element.innerHTML = '';\n",
              "          dataTable['output_type'] = 'display_data';\n",
              "          await google.colab.output.renderOutput(dataTable, element);\n",
              "          const docLink = document.createElement('div');\n",
              "          docLink.innerHTML = docLinkHtml;\n",
              "          element.appendChild(docLink);\n",
              "        }\n",
              "      </script>\n",
              "    </div>\n",
              "  </div>\n",
              "  "
            ],
            "text/plain": [
              "           bodyId               instance          type\n",
              "0      5813054846    PVM03y_pct(PVM03)_R    PVM03y_pct\n",
              "1      1479492693    AVL13t_pct(AVL13)_R    AVL13t_pct\n",
              "2      5812982999                    KCg           KCg\n",
              "3      1720300275  AVL04v_d_pct(AVL04)_R  AVL04v_d_pct\n",
              "4      5813060766  PDL14m_a_pct(PDL14)_R  PDL14m_a_pct\n",
              "...           ...                    ...           ...\n",
              "21658   583132200              (ADM01)_L           NaN\n",
              "21659  5813098080   ADL01os_pct(ADL01)_R   ADL01os_pct\n",
              "21660  1948478919    AVL14t_pct(AVL14)_R    AVL14t_pct\n",
              "21661   604061479    AVL12j_pct(AVL12)_R    AVL12j_pct\n",
              "21662   453794660  ADM04n_d_pct(ADM04)_R  ADM04n_d_pct\n",
              "\n",
              "[21663 rows x 3 columns]"
            ]
          },
          "execution_count": 7,
          "metadata": {},
          "output_type": "execute_result"
        }
      ],
      "source": [
        "traced_neurons"
      ],
      "id": "3da0f808"
    },
    {
      "cell_type": "code",
      "execution_count": 6,
      "metadata": {
        "id": "6Y21krHdnvDM"
      },
      "outputs": [],
      "source": [
        "# clean neurons\n",
        "for index, row in traced_neurons.iterrows():\n",
        "    if pd.isnull(row['type']):\n",
        "        traced_neurons.drop(index, inplace=True)\n"
      ],
      "id": "6Y21krHdnvDM"
    },
    {
      "cell_type": "code",
      "execution_count": null,
      "metadata": {
        "colab": {
          "base_uri": "https://localhost:8080/",
          "height": 423
        },
        "id": "dYfiloWXoGAp",
        "outputId": "c62f4ed9-0b15-435c-e7e3-7f3fe41c8c5e"
      },
      "outputs": [
        {
          "data": {
            "text/html": [
              "\n",
              "  <div id=\"df-f3d700ba-0bb3-45c5-bbbb-35d6655fe454\">\n",
              "    <div class=\"colab-df-container\">\n",
              "      <div>\n",
              "<style scoped>\n",
              "    .dataframe tbody tr th:only-of-type {\n",
              "        vertical-align: middle;\n",
              "    }\n",
              "\n",
              "    .dataframe tbody tr th {\n",
              "        vertical-align: top;\n",
              "    }\n",
              "\n",
              "    .dataframe thead th {\n",
              "        text-align: right;\n",
              "    }\n",
              "</style>\n",
              "<table border=\"1\" class=\"dataframe\">\n",
              "  <thead>\n",
              "    <tr style=\"text-align: right;\">\n",
              "      <th></th>\n",
              "      <th>bodyId</th>\n",
              "      <th>instance</th>\n",
              "      <th>type</th>\n",
              "    </tr>\n",
              "  </thead>\n",
              "  <tbody>\n",
              "    <tr>\n",
              "      <th>0</th>\n",
              "      <td>5813054846</td>\n",
              "      <td>PVM03y_pct(PVM03)_R</td>\n",
              "      <td>PVM03y_pct</td>\n",
              "    </tr>\n",
              "    <tr>\n",
              "      <th>1</th>\n",
              "      <td>1479492693</td>\n",
              "      <td>AVL13t_pct(AVL13)_R</td>\n",
              "      <td>AVL13t_pct</td>\n",
              "    </tr>\n",
              "    <tr>\n",
              "      <th>2</th>\n",
              "      <td>5812982999</td>\n",
              "      <td>KCg</td>\n",
              "      <td>KCg</td>\n",
              "    </tr>\n",
              "    <tr>\n",
              "      <th>3</th>\n",
              "      <td>1720300275</td>\n",
              "      <td>AVL04v_d_pct(AVL04)_R</td>\n",
              "      <td>AVL04v_d_pct</td>\n",
              "    </tr>\n",
              "    <tr>\n",
              "      <th>4</th>\n",
              "      <td>5813060766</td>\n",
              "      <td>PDL14m_a_pct(PDL14)_R</td>\n",
              "      <td>PDL14m_a_pct</td>\n",
              "    </tr>\n",
              "    <tr>\n",
              "      <th>...</th>\n",
              "      <td>...</td>\n",
              "      <td>...</td>\n",
              "      <td>...</td>\n",
              "    </tr>\n",
              "    <tr>\n",
              "      <th>21657</th>\n",
              "      <td>5812988128</td>\n",
              "      <td>LC9(PLBDL3)_R</td>\n",
              "      <td>LC9</td>\n",
              "    </tr>\n",
              "    <tr>\n",
              "      <th>21659</th>\n",
              "      <td>5813098080</td>\n",
              "      <td>ADL01os_pct(ADL01)_R</td>\n",
              "      <td>ADL01os_pct</td>\n",
              "    </tr>\n",
              "    <tr>\n",
              "      <th>21660</th>\n",
              "      <td>1948478919</td>\n",
              "      <td>AVL14t_pct(AVL14)_R</td>\n",
              "      <td>AVL14t_pct</td>\n",
              "    </tr>\n",
              "    <tr>\n",
              "      <th>21661</th>\n",
              "      <td>604061479</td>\n",
              "      <td>AVL12j_pct(AVL12)_R</td>\n",
              "      <td>AVL12j_pct</td>\n",
              "    </tr>\n",
              "    <tr>\n",
              "      <th>21662</th>\n",
              "      <td>453794660</td>\n",
              "      <td>ADM04n_d_pct(ADM04)_R</td>\n",
              "      <td>ADM04n_d_pct</td>\n",
              "    </tr>\n",
              "  </tbody>\n",
              "</table>\n",
              "<p>18837 rows × 3 columns</p>\n",
              "</div>\n",
              "      <button class=\"colab-df-convert\" onclick=\"convertToInteractive('df-f3d700ba-0bb3-45c5-bbbb-35d6655fe454')\"\n",
              "              title=\"Convert this dataframe to an interactive table.\"\n",
              "              style=\"display:none;\">\n",
              "        \n",
              "  <svg xmlns=\"http://www.w3.org/2000/svg\" height=\"24px\"viewBox=\"0 0 24 24\"\n",
              "       width=\"24px\">\n",
              "    <path d=\"M0 0h24v24H0V0z\" fill=\"none\"/>\n",
              "    <path d=\"M18.56 5.44l.94 2.06.94-2.06 2.06-.94-2.06-.94-.94-2.06-.94 2.06-2.06.94zm-11 1L8.5 8.5l.94-2.06 2.06-.94-2.06-.94L8.5 2.5l-.94 2.06-2.06.94zm10 10l.94 2.06.94-2.06 2.06-.94-2.06-.94-.94-2.06-.94 2.06-2.06.94z\"/><path d=\"M17.41 7.96l-1.37-1.37c-.4-.4-.92-.59-1.43-.59-.52 0-1.04.2-1.43.59L10.3 9.45l-7.72 7.72c-.78.78-.78 2.05 0 2.83L4 21.41c.39.39.9.59 1.41.59.51 0 1.02-.2 1.41-.59l7.78-7.78 2.81-2.81c.8-.78.8-2.07 0-2.86zM5.41 20L4 18.59l7.72-7.72 1.47 1.35L5.41 20z\"/>\n",
              "  </svg>\n",
              "      </button>\n",
              "      \n",
              "  <style>\n",
              "    .colab-df-container {\n",
              "      display:flex;\n",
              "      flex-wrap:wrap;\n",
              "      gap: 12px;\n",
              "    }\n",
              "\n",
              "    .colab-df-convert {\n",
              "      background-color: #E8F0FE;\n",
              "      border: none;\n",
              "      border-radius: 50%;\n",
              "      cursor: pointer;\n",
              "      display: none;\n",
              "      fill: #1967D2;\n",
              "      height: 32px;\n",
              "      padding: 0 0 0 0;\n",
              "      width: 32px;\n",
              "    }\n",
              "\n",
              "    .colab-df-convert:hover {\n",
              "      background-color: #E2EBFA;\n",
              "      box-shadow: 0px 1px 2px rgba(60, 64, 67, 0.3), 0px 1px 3px 1px rgba(60, 64, 67, 0.15);\n",
              "      fill: #174EA6;\n",
              "    }\n",
              "\n",
              "    [theme=dark] .colab-df-convert {\n",
              "      background-color: #3B4455;\n",
              "      fill: #D2E3FC;\n",
              "    }\n",
              "\n",
              "    [theme=dark] .colab-df-convert:hover {\n",
              "      background-color: #434B5C;\n",
              "      box-shadow: 0px 1px 3px 1px rgba(0, 0, 0, 0.15);\n",
              "      filter: drop-shadow(0px 1px 2px rgba(0, 0, 0, 0.3));\n",
              "      fill: #FFFFFF;\n",
              "    }\n",
              "  </style>\n",
              "\n",
              "      <script>\n",
              "        const buttonEl =\n",
              "          document.querySelector('#df-f3d700ba-0bb3-45c5-bbbb-35d6655fe454 button.colab-df-convert');\n",
              "        buttonEl.style.display =\n",
              "          google.colab.kernel.accessAllowed ? 'block' : 'none';\n",
              "\n",
              "        async function convertToInteractive(key) {\n",
              "          const element = document.querySelector('#df-f3d700ba-0bb3-45c5-bbbb-35d6655fe454');\n",
              "          const dataTable =\n",
              "            await google.colab.kernel.invokeFunction('convertToInteractive',\n",
              "                                                     [key], {});\n",
              "          if (!dataTable) return;\n",
              "\n",
              "          const docLinkHtml = 'Like what you see? Visit the ' +\n",
              "            '<a target=\"_blank\" href=https://colab.research.google.com/notebooks/data_table.ipynb>data table notebook</a>'\n",
              "            + ' to learn more about interactive tables.';\n",
              "          element.innerHTML = '';\n",
              "          dataTable['output_type'] = 'display_data';\n",
              "          await google.colab.output.renderOutput(dataTable, element);\n",
              "          const docLink = document.createElement('div');\n",
              "          docLink.innerHTML = docLinkHtml;\n",
              "          element.appendChild(docLink);\n",
              "        }\n",
              "      </script>\n",
              "    </div>\n",
              "  </div>\n",
              "  "
            ],
            "text/plain": [
              "           bodyId               instance          type\n",
              "0      5813054846    PVM03y_pct(PVM03)_R    PVM03y_pct\n",
              "1      1479492693    AVL13t_pct(AVL13)_R    AVL13t_pct\n",
              "2      5812982999                    KCg           KCg\n",
              "3      1720300275  AVL04v_d_pct(AVL04)_R  AVL04v_d_pct\n",
              "4      5813060766  PDL14m_a_pct(PDL14)_R  PDL14m_a_pct\n",
              "...           ...                    ...           ...\n",
              "21657  5812988128          LC9(PLBDL3)_R           LC9\n",
              "21659  5813098080   ADL01os_pct(ADL01)_R   ADL01os_pct\n",
              "21660  1948478919    AVL14t_pct(AVL14)_R    AVL14t_pct\n",
              "21661   604061479    AVL12j_pct(AVL12)_R    AVL12j_pct\n",
              "21662   453794660  ADM04n_d_pct(ADM04)_R  ADM04n_d_pct\n",
              "\n",
              "[18837 rows x 3 columns]"
            ]
          },
          "execution_count": 20,
          "metadata": {},
          "output_type": "execute_result"
        }
      ],
      "source": [
        "traced_neurons"
      ],
      "id": "dYfiloWXoGAp"
    },
    {
      "cell_type": "code",
      "execution_count": 7,
      "metadata": {
        "id": "ab512848"
      },
      "outputs": [],
      "source": [
        "num_nodes = 18837"
      ],
      "id": "ab512848"
    },
    {
      "cell_type": "code",
      "execution_count": 8,
      "metadata": {
        "colab": {
          "base_uri": "https://localhost:8080/"
        },
        "id": "c2468dfd",
        "outputId": "cdc9de53-c578-4455-906c-cc7de1664858"
      },
      "outputs": [
        {
          "output_type": "stream",
          "name": "stdout",
          "text": [
            "6068\n",
            "4741\n"
          ]
        }
      ],
      "source": [
        "unique_instances = traced_neurons['instance'].unique()\n",
        "print(len(unique_instances))\n",
        "unique_types = traced_neurons['type'].unique()\n",
        "print(len(unique_types))"
      ],
      "id": "c2468dfd"
    },
    {
      "cell_type": "code",
      "execution_count": 9,
      "metadata": {
        "id": "fc90a080"
      },
      "outputs": [],
      "source": [
        "bodyIds = traced_neurons['bodyId'].unique()"
      ],
      "id": "fc90a080"
    },
    {
      "cell_type": "code",
      "execution_count": 10,
      "metadata": {
        "id": "ClI74iB1s6qf"
      },
      "outputs": [],
      "source": [
        "# clean traced_neuron_connections\n",
        "# for index, row in traced_total_connections.iterrows():\n",
        "#     if row['bodyId_pre'] not in bodyIds or row['bodyId_post'] not in bodyIds:\n",
        "#         traced_total_connections.drop(index, inplace=True)\n",
        "traced_total_connections = traced_total_connections.loc[traced_total_connections['bodyId_pre'].isin(bodyIds) & traced_total_connections['bodyId_post'].isin(bodyIds)]\n",
        "# x.loc[x['name'].isin(names), 'score'].sum()\n"
      ],
      "id": "ClI74iB1s6qf"
    },
    {
      "cell_type": "code",
      "execution_count": 66,
      "metadata": {
        "id": "NvlTCM0AYIeL",
        "colab": {
          "base_uri": "https://localhost:8080/",
          "height": 206
        },
        "outputId": "74493d0d-2c92-4e0a-e9c1-6754d95166c5"
      },
      "outputs": [
        {
          "output_type": "execute_result",
          "data": {
            "text/plain": [
              "       bodyId               instance          type\n",
              "0  5813054846    PVM03y_pct(PVM03)_R    PVM03y_pct\n",
              "1  1479492693    AVL13t_pct(AVL13)_R    AVL13t_pct\n",
              "2  5812982999                    KCg           KCg\n",
              "3  1720300275  AVL04v_d_pct(AVL04)_R  AVL04v_d_pct\n",
              "4  5813060766  PDL14m_a_pct(PDL14)_R  PDL14m_a_pct"
            ],
            "text/html": [
              "\n",
              "  <div id=\"df-15221e93-50c2-4120-a0a9-e1c44df97721\">\n",
              "    <div class=\"colab-df-container\">\n",
              "      <div>\n",
              "<style scoped>\n",
              "    .dataframe tbody tr th:only-of-type {\n",
              "        vertical-align: middle;\n",
              "    }\n",
              "\n",
              "    .dataframe tbody tr th {\n",
              "        vertical-align: top;\n",
              "    }\n",
              "\n",
              "    .dataframe thead th {\n",
              "        text-align: right;\n",
              "    }\n",
              "</style>\n",
              "<table border=\"1\" class=\"dataframe\">\n",
              "  <thead>\n",
              "    <tr style=\"text-align: right;\">\n",
              "      <th></th>\n",
              "      <th>bodyId</th>\n",
              "      <th>instance</th>\n",
              "      <th>type</th>\n",
              "    </tr>\n",
              "  </thead>\n",
              "  <tbody>\n",
              "    <tr>\n",
              "      <th>0</th>\n",
              "      <td>5813054846</td>\n",
              "      <td>PVM03y_pct(PVM03)_R</td>\n",
              "      <td>PVM03y_pct</td>\n",
              "    </tr>\n",
              "    <tr>\n",
              "      <th>1</th>\n",
              "      <td>1479492693</td>\n",
              "      <td>AVL13t_pct(AVL13)_R</td>\n",
              "      <td>AVL13t_pct</td>\n",
              "    </tr>\n",
              "    <tr>\n",
              "      <th>2</th>\n",
              "      <td>5812982999</td>\n",
              "      <td>KCg</td>\n",
              "      <td>KCg</td>\n",
              "    </tr>\n",
              "    <tr>\n",
              "      <th>3</th>\n",
              "      <td>1720300275</td>\n",
              "      <td>AVL04v_d_pct(AVL04)_R</td>\n",
              "      <td>AVL04v_d_pct</td>\n",
              "    </tr>\n",
              "    <tr>\n",
              "      <th>4</th>\n",
              "      <td>5813060766</td>\n",
              "      <td>PDL14m_a_pct(PDL14)_R</td>\n",
              "      <td>PDL14m_a_pct</td>\n",
              "    </tr>\n",
              "  </tbody>\n",
              "</table>\n",
              "</div>\n",
              "      <button class=\"colab-df-convert\" onclick=\"convertToInteractive('df-15221e93-50c2-4120-a0a9-e1c44df97721')\"\n",
              "              title=\"Convert this dataframe to an interactive table.\"\n",
              "              style=\"display:none;\">\n",
              "        \n",
              "  <svg xmlns=\"http://www.w3.org/2000/svg\" height=\"24px\"viewBox=\"0 0 24 24\"\n",
              "       width=\"24px\">\n",
              "    <path d=\"M0 0h24v24H0V0z\" fill=\"none\"/>\n",
              "    <path d=\"M18.56 5.44l.94 2.06.94-2.06 2.06-.94-2.06-.94-.94-2.06-.94 2.06-2.06.94zm-11 1L8.5 8.5l.94-2.06 2.06-.94-2.06-.94L8.5 2.5l-.94 2.06-2.06.94zm10 10l.94 2.06.94-2.06 2.06-.94-2.06-.94-.94-2.06-.94 2.06-2.06.94z\"/><path d=\"M17.41 7.96l-1.37-1.37c-.4-.4-.92-.59-1.43-.59-.52 0-1.04.2-1.43.59L10.3 9.45l-7.72 7.72c-.78.78-.78 2.05 0 2.83L4 21.41c.39.39.9.59 1.41.59.51 0 1.02-.2 1.41-.59l7.78-7.78 2.81-2.81c.8-.78.8-2.07 0-2.86zM5.41 20L4 18.59l7.72-7.72 1.47 1.35L5.41 20z\"/>\n",
              "  </svg>\n",
              "      </button>\n",
              "      \n",
              "  <style>\n",
              "    .colab-df-container {\n",
              "      display:flex;\n",
              "      flex-wrap:wrap;\n",
              "      gap: 12px;\n",
              "    }\n",
              "\n",
              "    .colab-df-convert {\n",
              "      background-color: #E8F0FE;\n",
              "      border: none;\n",
              "      border-radius: 50%;\n",
              "      cursor: pointer;\n",
              "      display: none;\n",
              "      fill: #1967D2;\n",
              "      height: 32px;\n",
              "      padding: 0 0 0 0;\n",
              "      width: 32px;\n",
              "    }\n",
              "\n",
              "    .colab-df-convert:hover {\n",
              "      background-color: #E2EBFA;\n",
              "      box-shadow: 0px 1px 2px rgba(60, 64, 67, 0.3), 0px 1px 3px 1px rgba(60, 64, 67, 0.15);\n",
              "      fill: #174EA6;\n",
              "    }\n",
              "\n",
              "    [theme=dark] .colab-df-convert {\n",
              "      background-color: #3B4455;\n",
              "      fill: #D2E3FC;\n",
              "    }\n",
              "\n",
              "    [theme=dark] .colab-df-convert:hover {\n",
              "      background-color: #434B5C;\n",
              "      box-shadow: 0px 1px 3px 1px rgba(0, 0, 0, 0.15);\n",
              "      filter: drop-shadow(0px 1px 2px rgba(0, 0, 0, 0.3));\n",
              "      fill: #FFFFFF;\n",
              "    }\n",
              "  </style>\n",
              "\n",
              "      <script>\n",
              "        const buttonEl =\n",
              "          document.querySelector('#df-15221e93-50c2-4120-a0a9-e1c44df97721 button.colab-df-convert');\n",
              "        buttonEl.style.display =\n",
              "          google.colab.kernel.accessAllowed ? 'block' : 'none';\n",
              "\n",
              "        async function convertToInteractive(key) {\n",
              "          const element = document.querySelector('#df-15221e93-50c2-4120-a0a9-e1c44df97721');\n",
              "          const dataTable =\n",
              "            await google.colab.kernel.invokeFunction('convertToInteractive',\n",
              "                                                     [key], {});\n",
              "          if (!dataTable) return;\n",
              "\n",
              "          const docLinkHtml = 'Like what you see? Visit the ' +\n",
              "            '<a target=\"_blank\" href=https://colab.research.google.com/notebooks/data_table.ipynb>data table notebook</a>'\n",
              "            + ' to learn more about interactive tables.';\n",
              "          element.innerHTML = '';\n",
              "          dataTable['output_type'] = 'display_data';\n",
              "          await google.colab.output.renderOutput(dataTable, element);\n",
              "          const docLink = document.createElement('div');\n",
              "          docLink.innerHTML = docLinkHtml;\n",
              "          element.appendChild(docLink);\n",
              "        }\n",
              "      </script>\n",
              "    </div>\n",
              "  </div>\n",
              "  "
            ]
          },
          "metadata": {},
          "execution_count": 66
        }
      ],
      "source": [
        "traced_neurons.head()"
      ],
      "id": "NvlTCM0AYIeL"
    },
    {
      "cell_type": "code",
      "execution_count": 11,
      "metadata": {
        "id": "01aa38f5"
      },
      "outputs": [],
      "source": [
        "# assign indexes\n",
        "label_idx_dict = {}\n",
        "for i, label in enumerate(unique_types):\n",
        "    label_idx_dict[label] = i"
      ],
      "id": "01aa38f5"
    },
    {
      "cell_type": "code",
      "execution_count": 12,
      "metadata": {
        "id": "e609e168"
      },
      "outputs": [],
      "source": [
        "labels = [label_idx_dict[label] for label in traced_neurons['type'].values]"
      ],
      "id": "e609e168"
    },
    {
      "cell_type": "code",
      "execution_count": null,
      "metadata": {
        "colab": {
          "base_uri": "https://localhost:8080/"
        },
        "id": "fJdaGQjECIUa",
        "outputId": "e61e8172-429b-4ebf-f102-1d9a79d11244"
      },
      "outputs": [
        {
          "data": {
            "text/plain": [
              "18837"
            ]
          },
          "execution_count": 41,
          "metadata": {},
          "output_type": "execute_result"
        }
      ],
      "source": [
        "len(labels)"
      ],
      "id": "fJdaGQjECIUa"
    },
    {
      "cell_type": "code",
      "execution_count": 13,
      "metadata": {
        "colab": {
          "base_uri": "https://localhost:8080/"
        },
        "id": "e0ba2233",
        "outputId": "420af8cc-98b4-401e-ae46-7d408c353212"
      },
      "outputs": [
        {
          "output_type": "stream",
          "name": "stdout",
          "text": [
            "4741\n"
          ]
        }
      ],
      "source": [
        "# get number of neuron types\n",
        "num_classes = traced_neurons['type'].nunique()\n",
        "print(num_classes)"
      ],
      "id": "e0ba2233"
    },
    {
      "cell_type": "code",
      "execution_count": null,
      "metadata": {
        "colab": {
          "base_uri": "https://localhost:8080/",
          "height": 423
        },
        "id": "8ff30170",
        "outputId": "39a864a1-89d8-4dc1-d2b9-949d9574ad44"
      },
      "outputs": [
        {
          "data": {
            "text/html": [
              "\n",
              "  <div id=\"df-c1d7b714-1db1-4dc8-8978-c9e10896f87a\">\n",
              "    <div class=\"colab-df-container\">\n",
              "      <div>\n",
              "<style scoped>\n",
              "    .dataframe tbody tr th:only-of-type {\n",
              "        vertical-align: middle;\n",
              "    }\n",
              "\n",
              "    .dataframe tbody tr th {\n",
              "        vertical-align: top;\n",
              "    }\n",
              "\n",
              "    .dataframe thead th {\n",
              "        text-align: right;\n",
              "    }\n",
              "</style>\n",
              "<table border=\"1\" class=\"dataframe\">\n",
              "  <thead>\n",
              "    <tr style=\"text-align: right;\">\n",
              "      <th></th>\n",
              "      <th>bodyId_pre</th>\n",
              "      <th>bodyId_post</th>\n",
              "      <th>weight</th>\n",
              "    </tr>\n",
              "  </thead>\n",
              "  <tbody>\n",
              "    <tr>\n",
              "      <th>0</th>\n",
              "      <td>5813054846</td>\n",
              "      <td>5813020143</td>\n",
              "      <td>1</td>\n",
              "    </tr>\n",
              "    <tr>\n",
              "      <th>1</th>\n",
              "      <td>5813054846</td>\n",
              "      <td>2215550458</td>\n",
              "      <td>1</td>\n",
              "    </tr>\n",
              "    <tr>\n",
              "      <th>2</th>\n",
              "      <td>5813054846</td>\n",
              "      <td>1448575109</td>\n",
              "      <td>1</td>\n",
              "    </tr>\n",
              "    <tr>\n",
              "      <th>3</th>\n",
              "      <td>5813054846</td>\n",
              "      <td>1223388206</td>\n",
              "      <td>1</td>\n",
              "    </tr>\n",
              "    <tr>\n",
              "      <th>4</th>\n",
              "      <td>5813054846</td>\n",
              "      <td>1913403687</td>\n",
              "      <td>1</td>\n",
              "    </tr>\n",
              "    <tr>\n",
              "      <th>...</th>\n",
              "      <td>...</td>\n",
              "      <td>...</td>\n",
              "      <td>...</td>\n",
              "    </tr>\n",
              "    <tr>\n",
              "      <th>3413155</th>\n",
              "      <td>453794660</td>\n",
              "      <td>481070027</td>\n",
              "      <td>1</td>\n",
              "    </tr>\n",
              "    <tr>\n",
              "      <th>3413156</th>\n",
              "      <td>453794660</td>\n",
              "      <td>423792440</td>\n",
              "      <td>2</td>\n",
              "    </tr>\n",
              "    <tr>\n",
              "      <th>3413157</th>\n",
              "      <td>453794660</td>\n",
              "      <td>455172836</td>\n",
              "      <td>1</td>\n",
              "    </tr>\n",
              "    <tr>\n",
              "      <th>3413158</th>\n",
              "      <td>453794660</td>\n",
              "      <td>388975834</td>\n",
              "      <td>3</td>\n",
              "    </tr>\n",
              "    <tr>\n",
              "      <th>3413159</th>\n",
              "      <td>453794660</td>\n",
              "      <td>767904550</td>\n",
              "      <td>1</td>\n",
              "    </tr>\n",
              "  </tbody>\n",
              "</table>\n",
              "<p>3413160 rows × 3 columns</p>\n",
              "</div>\n",
              "      <button class=\"colab-df-convert\" onclick=\"convertToInteractive('df-c1d7b714-1db1-4dc8-8978-c9e10896f87a')\"\n",
              "              title=\"Convert this dataframe to an interactive table.\"\n",
              "              style=\"display:none;\">\n",
              "        \n",
              "  <svg xmlns=\"http://www.w3.org/2000/svg\" height=\"24px\"viewBox=\"0 0 24 24\"\n",
              "       width=\"24px\">\n",
              "    <path d=\"M0 0h24v24H0V0z\" fill=\"none\"/>\n",
              "    <path d=\"M18.56 5.44l.94 2.06.94-2.06 2.06-.94-2.06-.94-.94-2.06-.94 2.06-2.06.94zm-11 1L8.5 8.5l.94-2.06 2.06-.94-2.06-.94L8.5 2.5l-.94 2.06-2.06.94zm10 10l.94 2.06.94-2.06 2.06-.94-2.06-.94-.94-2.06-.94 2.06-2.06.94z\"/><path d=\"M17.41 7.96l-1.37-1.37c-.4-.4-.92-.59-1.43-.59-.52 0-1.04.2-1.43.59L10.3 9.45l-7.72 7.72c-.78.78-.78 2.05 0 2.83L4 21.41c.39.39.9.59 1.41.59.51 0 1.02-.2 1.41-.59l7.78-7.78 2.81-2.81c.8-.78.8-2.07 0-2.86zM5.41 20L4 18.59l7.72-7.72 1.47 1.35L5.41 20z\"/>\n",
              "  </svg>\n",
              "      </button>\n",
              "      \n",
              "  <style>\n",
              "    .colab-df-container {\n",
              "      display:flex;\n",
              "      flex-wrap:wrap;\n",
              "      gap: 12px;\n",
              "    }\n",
              "\n",
              "    .colab-df-convert {\n",
              "      background-color: #E8F0FE;\n",
              "      border: none;\n",
              "      border-radius: 50%;\n",
              "      cursor: pointer;\n",
              "      display: none;\n",
              "      fill: #1967D2;\n",
              "      height: 32px;\n",
              "      padding: 0 0 0 0;\n",
              "      width: 32px;\n",
              "    }\n",
              "\n",
              "    .colab-df-convert:hover {\n",
              "      background-color: #E2EBFA;\n",
              "      box-shadow: 0px 1px 2px rgba(60, 64, 67, 0.3), 0px 1px 3px 1px rgba(60, 64, 67, 0.15);\n",
              "      fill: #174EA6;\n",
              "    }\n",
              "\n",
              "    [theme=dark] .colab-df-convert {\n",
              "      background-color: #3B4455;\n",
              "      fill: #D2E3FC;\n",
              "    }\n",
              "\n",
              "    [theme=dark] .colab-df-convert:hover {\n",
              "      background-color: #434B5C;\n",
              "      box-shadow: 0px 1px 3px 1px rgba(0, 0, 0, 0.15);\n",
              "      filter: drop-shadow(0px 1px 2px rgba(0, 0, 0, 0.3));\n",
              "      fill: #FFFFFF;\n",
              "    }\n",
              "  </style>\n",
              "\n",
              "      <script>\n",
              "        const buttonEl =\n",
              "          document.querySelector('#df-c1d7b714-1db1-4dc8-8978-c9e10896f87a button.colab-df-convert');\n",
              "        buttonEl.style.display =\n",
              "          google.colab.kernel.accessAllowed ? 'block' : 'none';\n",
              "\n",
              "        async function convertToInteractive(key) {\n",
              "          const element = document.querySelector('#df-c1d7b714-1db1-4dc8-8978-c9e10896f87a');\n",
              "          const dataTable =\n",
              "            await google.colab.kernel.invokeFunction('convertToInteractive',\n",
              "                                                     [key], {});\n",
              "          if (!dataTable) return;\n",
              "\n",
              "          const docLinkHtml = 'Like what you see? Visit the ' +\n",
              "            '<a target=\"_blank\" href=https://colab.research.google.com/notebooks/data_table.ipynb>data table notebook</a>'\n",
              "            + ' to learn more about interactive tables.';\n",
              "          element.innerHTML = '';\n",
              "          dataTable['output_type'] = 'display_data';\n",
              "          await google.colab.output.renderOutput(dataTable, element);\n",
              "          const docLink = document.createElement('div');\n",
              "          docLink.innerHTML = docLinkHtml;\n",
              "          element.appendChild(docLink);\n",
              "        }\n",
              "      </script>\n",
              "    </div>\n",
              "  </div>\n",
              "  "
            ],
            "text/plain": [
              "         bodyId_pre  bodyId_post  weight\n",
              "0        5813054846   5813020143       1\n",
              "1        5813054846   2215550458       1\n",
              "2        5813054846   1448575109       1\n",
              "3        5813054846   1223388206       1\n",
              "4        5813054846   1913403687       1\n",
              "...             ...          ...     ...\n",
              "3413155   453794660    481070027       1\n",
              "3413156   453794660    423792440       2\n",
              "3413157   453794660    455172836       1\n",
              "3413158   453794660    388975834       3\n",
              "3413159   453794660    767904550       1\n",
              "\n",
              "[3413160 rows x 3 columns]"
            ]
          },
          "execution_count": 43,
          "metadata": {},
          "output_type": "execute_result"
        }
      ],
      "source": [
        "traced_total_connections"
      ],
      "id": "8ff30170"
    },
    {
      "cell_type": "code",
      "execution_count": 14,
      "metadata": {
        "id": "eddacc52"
      },
      "outputs": [],
      "source": [
        "# assign indexes to bodyIds\n",
        "bodyIds = traced_neurons['bodyId'].unique()\n",
        "bodyIds = sorted(bodyIds)"
      ],
      "id": "eddacc52"
    },
    {
      "cell_type": "code",
      "execution_count": 15,
      "metadata": {
        "id": "ObLCNE5_Y05e"
      },
      "outputs": [],
      "source": [
        "bodyId_idx_dict = {}\n",
        "for i, bodyId in enumerate(bodyIds):\n",
        "    bodyId_idx_dict[bodyId] = i"
      ],
      "id": "ObLCNE5_Y05e"
    },
    {
      "cell_type": "code",
      "execution_count": 16,
      "metadata": {
        "id": "3e6360f3"
      },
      "outputs": [],
      "source": [
        "def bodyId_to_idx(bodyId):\n",
        "    if type(bodyIds) == list:\n",
        "        return bodyIds.index(bodyId)\n",
        "    elif type(bodyIds) == np.array:\n",
        "        return bodyIds.where(bodyId)"
      ],
      "id": "3e6360f3"
    },
    {
      "cell_type": "code",
      "execution_count": 17,
      "metadata": {
        "id": "YfipX91pYgEQ"
      },
      "outputs": [],
      "source": [
        "## add self loops\n",
        "self_loop_array = np.zeros((num_nodes, 3))\n",
        "for i, bodyId in enumerate(bodyId_idx_dict.keys()):\n",
        "    self_loop_array[i, 0] = bodyId\n",
        "    self_loop_array[i, 1] = bodyId\n",
        "    self_loop_array[i, 2] = 1\n",
        "self_loop_df = pd.DataFrame(self_loop_array, columns = ['bodyId_pre', 'bodyId_post', 'weight'])\n",
        "\n",
        "traced_total_connections = pd.concat([traced_total_connections, self_loop_df])"
      ],
      "id": "YfipX91pYgEQ"
    },
    {
      "cell_type": "code",
      "execution_count": 18,
      "metadata": {
        "id": "2459e0fb"
      },
      "outputs": [],
      "source": [
        "import os\n",
        "os.environ['DGLBACKEND'] = 'pytorch'\n",
        "import torch\n",
        "import torch.nn as nn\n",
        "import torch.nn.functional as F\n",
        "\n",
        "# import dgl\n",
        "# import dgl.data\n",
        "# from dgl.utils import expand_as_pair\n",
        "# import dgl.function as fn\n",
        "\n",
        "import timeit"
      ],
      "id": "2459e0fb"
    },
    {
      "cell_type": "code",
      "execution_count": 19,
      "metadata": {
        "id": "6abf032f"
      },
      "outputs": [],
      "source": [
        "bodyId_idx_dict = {}\n",
        "for i, bodyId in enumerate(bodyIds):\n",
        "    bodyId_idx_dict[bodyId] = i"
      ],
      "id": "6abf032f"
    },
    {
      "cell_type": "code",
      "execution_count": 20,
      "metadata": {
        "colab": {
          "base_uri": "https://localhost:8080/"
        },
        "id": "7e02daa1",
        "outputId": "38f51843-9fd2-42ce-d72a-7a44c1c95201"
      },
      "outputs": [
        {
          "output_type": "stream",
          "name": "stdout",
          "text": [
            "time elapsed: 4.5276179019999745 s\n"
          ]
        }
      ],
      "source": [
        "start = timeit.default_timer()\n",
        "pre_indexes = np.vectorize(bodyId_idx_dict.get)(traced_total_connections['bodyId_pre'].values)\n",
        "end = timeit.default_timer()\n",
        "print(f\"time elapsed: {end - start} s\")\n",
        "# from https://stackoverflow.com/questions/16992713/translate-every-element-in-numpy-array-according-to-key"
      ],
      "id": "7e02daa1"
    },
    {
      "cell_type": "code",
      "execution_count": null,
      "metadata": {
        "colab": {
          "base_uri": "https://localhost:8080/"
        },
        "id": "9l6B8EmMcwlU",
        "outputId": "111fa3a8-b3c0-4a8e-f2dd-e54a40ca2200"
      },
      "outputs": [
        {
          "name": "stdout",
          "output_type": "stream",
          "text": [
            "21662\n"
          ]
        }
      ],
      "source": [
        "print(max(pre_indexes))"
      ],
      "id": "9l6B8EmMcwlU"
    },
    {
      "cell_type": "code",
      "execution_count": 21,
      "metadata": {
        "colab": {
          "base_uri": "https://localhost:8080/"
        },
        "id": "e90e10f7",
        "outputId": "15067009-aa07-40aa-ffe5-6ae808931fc7"
      },
      "outputs": [
        {
          "output_type": "stream",
          "name": "stdout",
          "text": [
            "time elapsed: 5.350169486999903 s\n"
          ]
        }
      ],
      "source": [
        "start = timeit.default_timer()\n",
        "post_indexes = np.vectorize(bodyId_idx_dict.get)(traced_total_connections['bodyId_post'].values)\n",
        "end = timeit.default_timer()\n",
        "print(f\"time elapsed: {end - start} s\")\n",
        "# from https://stackoverflow.com/questions/16992713/translate-every-element-in-numpy-array-according-to-key"
      ],
      "id": "e90e10f7"
    },
    {
      "cell_type": "code",
      "execution_count": 22,
      "metadata": {
        "colab": {
          "base_uri": "https://localhost:8080/"
        },
        "id": "a5399c27",
        "outputId": "06de5b0a-87ff-42d8-a918-d2ea961743ca"
      },
      "outputs": [
        {
          "output_type": "stream",
          "name": "stdout",
          "text": [
            "time elapsed: 0.0002875220000078116 s\n"
          ]
        }
      ],
      "source": [
        "start = timeit.default_timer()\n",
        "edge_weights = traced_total_connections['weight'].values\n",
        "end = timeit.default_timer()\n",
        "print(f\"time elapsed: {end - start} s\")"
      ],
      "id": "a5399c27"
    },
    {
      "cell_type": "code",
      "execution_count": 46,
      "metadata": {
        "colab": {
          "base_uri": "https://localhost:8080/",
          "height": 362
        },
        "id": "2fa2267d",
        "outputId": "c6c1692d-0c88-40a0-a4b8-6dadbece05ed"
      },
      "outputs": [
        {
          "output_type": "stream",
          "name": "stdout",
          "text": [
            "Looking in indexes: https://pypi.org/simple, https://us-python.pkg.dev/colab-wheels/public/simple/\n",
            "Requirement already satisfied: numpy in /usr/local/lib/python3.10/dist-packages (1.22.4)\n",
            "Collecting numpy\n",
            "  Downloading numpy-1.24.3-cp310-cp310-manylinux_2_17_x86_64.manylinux2014_x86_64.whl (17.3 MB)\n",
            "\u001b[2K     \u001b[90m━━━━━━━━━━━━━━━━━━━━━━━━━━━━━━━━━━━━━━━━\u001b[0m \u001b[32m17.3/17.3 MB\u001b[0m \u001b[31m61.5 MB/s\u001b[0m eta \u001b[36m0:00:00\u001b[0m\n",
            "\u001b[?25hInstalling collected packages: numpy\n",
            "  Attempting uninstall: numpy\n",
            "    Found existing installation: numpy 1.22.4\n",
            "    Uninstalling numpy-1.22.4:\n",
            "      Successfully uninstalled numpy-1.22.4\n",
            "\u001b[31mERROR: pip's dependency resolver does not currently take into account all the packages that are installed. This behaviour is the source of the following dependency conflicts.\n",
            "numba 0.56.4 requires numpy<1.24,>=1.18, but you have numpy 1.24.3 which is incompatible.\n",
            "tensorflow 2.12.0 requires numpy<1.24,>=1.22, but you have numpy 1.24.3 which is incompatible.\u001b[0m\u001b[31m\n",
            "\u001b[0mSuccessfully installed numpy-1.24.3\n"
          ]
        },
        {
          "output_type": "display_data",
          "data": {
            "application/vnd.colab-display-data+json": {
              "pip_warning": {
                "packages": [
                  "numpy"
                ]
              }
            }
          },
          "metadata": {}
        }
      ],
      "source": [
        "!pip install numpy --upgrade"
      ],
      "id": "2fa2267d"
    },
    {
      "cell_type": "code",
      "execution_count": 23,
      "metadata": {
        "id": "peHaUDrVcvjT",
        "colab": {
          "base_uri": "https://localhost:8080/",
          "height": 372
        },
        "outputId": "cfcfff74-881b-4e8b-feb4-5ab629bb329f"
      },
      "outputs": [
        {
          "output_type": "error",
          "ename": "AttributeError",
          "evalue": "ignored",
          "traceback": [
            "\u001b[0;31m---------------------------------------------------------------------------\u001b[0m",
            "\u001b[0;31mAttributeError\u001b[0m                            Traceback (most recent call last)",
            "\u001b[0;32m<ipython-input-23-fe7a6507f881>\u001b[0m in \u001b[0;36m<cell line: 6>\u001b[0;34m()\u001b[0m\n\u001b[1;32m      4\u001b[0m \u001b[0;31m#     np.append(post_indexes, i)\u001b[0m\u001b[0;34m\u001b[0m\u001b[0;34m\u001b[0m\u001b[0m\n\u001b[1;32m      5\u001b[0m \u001b[0;34m\u001b[0m\u001b[0m\n\u001b[0;32m----> 6\u001b[0;31m \u001b[0mpre_indexes\u001b[0m \u001b[0;34m=\u001b[0m \u001b[0mnp\u001b[0m\u001b[0;34m.\u001b[0m\u001b[0mconcat\u001b[0m\u001b[0;34m(\u001b[0m\u001b[0;34m[\u001b[0m\u001b[0mpre_indexes\u001b[0m\u001b[0;34m,\u001b[0m \u001b[0mnp\u001b[0m\u001b[0;34m.\u001b[0m\u001b[0marray\u001b[0m\u001b[0;34m(\u001b[0m\u001b[0mlist\u001b[0m\u001b[0;34m(\u001b[0m\u001b[0mrange\u001b[0m\u001b[0;34m(\u001b[0m\u001b[0mnum_nodes\u001b[0m\u001b[0;34m)\u001b[0m\u001b[0;34m)\u001b[0m\u001b[0;34m)\u001b[0m\u001b[0;34m]\u001b[0m\u001b[0;34m)\u001b[0m\u001b[0;34m\u001b[0m\u001b[0;34m\u001b[0m\u001b[0m\n\u001b[0m\u001b[1;32m      7\u001b[0m \u001b[0mpost_indexes\u001b[0m \u001b[0;34m=\u001b[0m \u001b[0mnp\u001b[0m\u001b[0;34m.\u001b[0m\u001b[0mconcat\u001b[0m\u001b[0;34m(\u001b[0m\u001b[0;34m[\u001b[0m\u001b[0mpost_indexes\u001b[0m\u001b[0;34m,\u001b[0m \u001b[0mnp\u001b[0m\u001b[0;34m.\u001b[0m\u001b[0marray\u001b[0m\u001b[0;34m(\u001b[0m\u001b[0mlist\u001b[0m\u001b[0;34m(\u001b[0m\u001b[0mrange\u001b[0m\u001b[0;34m(\u001b[0m\u001b[0mnum_nodes\u001b[0m\u001b[0;34m)\u001b[0m\u001b[0;34m)\u001b[0m\u001b[0;34m)\u001b[0m\u001b[0;34m]\u001b[0m\u001b[0;34m)\u001b[0m\u001b[0;34m\u001b[0m\u001b[0;34m\u001b[0m\u001b[0m\n\u001b[1;32m      8\u001b[0m \u001b[0;31m# 3 minutes\u001b[0m\u001b[0;34m\u001b[0m\u001b[0;34m\u001b[0m\u001b[0m\n",
            "\u001b[0;32m/usr/local/lib/python3.10/dist-packages/numpy/__init__.py\u001b[0m in \u001b[0;36m__getattr__\u001b[0;34m(attr)\u001b[0m\n\u001b[1;32m    318\u001b[0m             \u001b[0;32mreturn\u001b[0m \u001b[0mTester\u001b[0m\u001b[0;34m\u001b[0m\u001b[0;34m\u001b[0m\u001b[0m\n\u001b[1;32m    319\u001b[0m \u001b[0;34m\u001b[0m\u001b[0m\n\u001b[0;32m--> 320\u001b[0;31m         raise AttributeError(\"module {!r} has no attribute \"\n\u001b[0m\u001b[1;32m    321\u001b[0m                              \"{!r}\".format(__name__, attr))\n\u001b[1;32m    322\u001b[0m \u001b[0;34m\u001b[0m\u001b[0m\n",
            "\u001b[0;31mAttributeError\u001b[0m: module 'numpy' has no attribute 'concat'"
          ]
        }
      ],
      "source": [
        "# how long to add self loops\n",
        "# for i in range(num_nodes):\n",
        "#     np.append(pre_indexes, i)\n",
        "#     np.append(post_indexes, i)\n",
        "\n",
        "pre_indexes = np.concat([pre_indexes, np.array(list(range(num_nodes)))])\n",
        "post_indexes = np.concat([post_indexes, np.array(list(range(num_nodes)))])\n",
        "# 3 minutes"
      ],
      "id": "peHaUDrVcvjT"
    },
    {
      "cell_type": "code",
      "execution_count": 24,
      "metadata": {
        "id": "eeeea227",
        "colab": {
          "base_uri": "https://localhost:8080/",
          "height": 226
        },
        "outputId": "7d974db9-1a63-4638-ecc1-bf7e889fe675"
      },
      "outputs": [
        {
          "output_type": "error",
          "ename": "NameError",
          "evalue": "ignored",
          "traceback": [
            "\u001b[0;31m---------------------------------------------------------------------------\u001b[0m",
            "\u001b[0;31mNameError\u001b[0m                                 Traceback (most recent call last)",
            "\u001b[0;32m<ipython-input-24-2185b8e6d844>\u001b[0m in \u001b[0;36m<cell line: 2>\u001b[0;34m()\u001b[0m\n\u001b[1;32m      1\u001b[0m \u001b[0mstart\u001b[0m \u001b[0;34m=\u001b[0m \u001b[0mtimeit\u001b[0m\u001b[0;34m.\u001b[0m\u001b[0mdefault_timer\u001b[0m\u001b[0;34m(\u001b[0m\u001b[0;34m)\u001b[0m\u001b[0;34m\u001b[0m\u001b[0;34m\u001b[0m\u001b[0m\n\u001b[0;32m----> 2\u001b[0;31m \u001b[0mgraph\u001b[0m \u001b[0;34m=\u001b[0m \u001b[0mdgl\u001b[0m\u001b[0;34m.\u001b[0m\u001b[0mgraph\u001b[0m\u001b[0;34m(\u001b[0m\u001b[0;34m(\u001b[0m\u001b[0mpre_indexes\u001b[0m\u001b[0;34m,\u001b[0m \u001b[0mpost_indexes\u001b[0m\u001b[0;34m)\u001b[0m\u001b[0;34m,\u001b[0m \u001b[0mnum_nodes\u001b[0m\u001b[0;34m=\u001b[0m\u001b[0mnum_nodes\u001b[0m\u001b[0;34m)\u001b[0m\u001b[0;34m\u001b[0m\u001b[0;34m\u001b[0m\u001b[0m\n\u001b[0m\u001b[1;32m      3\u001b[0m \u001b[0mend\u001b[0m \u001b[0;34m=\u001b[0m \u001b[0mtimeit\u001b[0m\u001b[0;34m.\u001b[0m\u001b[0mdefault_timer\u001b[0m\u001b[0;34m(\u001b[0m\u001b[0;34m)\u001b[0m\u001b[0;34m\u001b[0m\u001b[0;34m\u001b[0m\u001b[0m\n\u001b[1;32m      4\u001b[0m \u001b[0mprint\u001b[0m\u001b[0;34m(\u001b[0m\u001b[0;34mf\"time elapsed: {end-start}s\"\u001b[0m\u001b[0;34m)\u001b[0m\u001b[0;34m\u001b[0m\u001b[0;34m\u001b[0m\u001b[0m\n",
            "\u001b[0;31mNameError\u001b[0m: name 'dgl' is not defined"
          ]
        }
      ],
      "source": [
        "start = timeit.default_timer()\n",
        "graph = dgl.graph((pre_indexes, post_indexes), num_nodes=num_nodes)\n",
        "end = timeit.default_timer()\n",
        "print(f\"time elapsed: {end-start}s\")"
      ],
      "id": "eeeea227"
    },
    {
      "cell_type": "code",
      "execution_count": null,
      "metadata": {
        "id": "11a831d6",
        "outputId": "fb41b809-8fd5-48a3-963c-0b8f95a2e0d4"
      },
      "outputs": [
        {
          "data": {
            "text/plain": [
              "Graph(num_nodes=21663, num_edges=3413160,\n",
              "      ndata_schemes={}\n",
              "      edata_schemes={})"
            ]
          },
          "execution_count": 22,
          "metadata": {},
          "output_type": "execute_result"
        }
      ],
      "source": [
        "graph"
      ],
      "id": "11a831d6"
    },
    {
      "cell_type": "code",
      "execution_count": null,
      "metadata": {
        "id": "24ffe97f"
      },
      "outputs": [],
      "source": [
        "import torch"
      ],
      "id": "24ffe97f"
    },
    {
      "cell_type": "code",
      "execution_count": null,
      "metadata": {
        "id": "G3GP8_1Do1gh"
      },
      "outputs": [],
      "source": [],
      "id": "G3GP8_1Do1gh"
    },
    {
      "cell_type": "code",
      "execution_count": null,
      "metadata": {
        "id": "b95bd079"
      },
      "outputs": [],
      "source": [
        "A = torch.eye(num_nodes)"
      ],
      "id": "b95bd079"
    },
    {
      "cell_type": "code",
      "execution_count": 25,
      "metadata": {
        "id": "e0889e87"
      },
      "outputs": [],
      "source": [
        "# raw adjacency matrix\n",
        "\n",
        "# start with self-loops\n",
        "A = np.eye(num_nodes) "
      ],
      "id": "e0889e87"
    },
    {
      "cell_type": "code",
      "execution_count": 26,
      "metadata": {
        "id": "0780a439"
      },
      "outputs": [],
      "source": [
        "for pre, post, weight in zip(pre_indexes, post_indexes, edge_weights):\n",
        "    # MxN, N is pre, M is post\n",
        "    if pre in bodyIds and post in bodyIds:\n",
        "        A[post, pre] += weight"
      ],
      "id": "0780a439"
    },
    {
      "cell_type": "code",
      "execution_count": 27,
      "metadata": {
        "id": "1a94a372"
      },
      "outputs": [],
      "source": [
        "# normalize columns with L1 norm\n",
        "for j in range(A.shape[0]):\n",
        "    A[:, j] = A[:, j] / sum(A[:, j]) "
      ],
      "id": "1a94a372"
    },
    {
      "cell_type": "code",
      "execution_count": null,
      "metadata": {
        "colab": {
          "base_uri": "https://localhost:8080/"
        },
        "id": "3Rm-ci4WPBuQ",
        "outputId": "5d219e36-e431-4f4f-ae4f-9aa479ff1600"
      },
      "outputs": [
        {
          "name": "stdout",
          "output_type": "stream",
          "text": [
            "1.0\n",
            "1.0\n"
          ]
        }
      ],
      "source": [
        "print(sum(A[:, 1710]))\n",
        "print(sum(A[1710, :])) # note: normalizing should prevent APL dominance from bias...?"
      ],
      "id": "3Rm-ci4WPBuQ"
    },
    {
      "cell_type": "code",
      "execution_count": null,
      "metadata": {
        "id": "be5rIfxGPC7q"
      },
      "outputs": [],
      "source": [
        "A[]"
      ],
      "id": "be5rIfxGPC7q"
    },
    {
      "cell_type": "code",
      "execution_count": null,
      "metadata": {
        "colab": {
          "base_uri": "https://localhost:8080/"
        },
        "id": "6d1fb656",
        "outputId": "2e283a42-74a5-461d-8165-105940a5d3ea"
      },
      "outputs": [
        {
          "data": {
            "text/plain": [
              "1.0"
            ]
          },
          "execution_count": 50,
          "metadata": {},
          "output_type": "execute_result"
        }
      ],
      "source": [
        "sum(A[:, 0])"
      ],
      "id": "6d1fb656"
    },
    {
      "cell_type": "code",
      "execution_count": null,
      "metadata": {
        "id": "BN7v7LJQrkzT"
      },
      "outputs": [],
      "source": [
        "# convert to tesnor\n",
        "A_tensor = torch.tensor(A)"
      ],
      "id": "BN7v7LJQrkzT"
    },
    {
      "cell_type": "code",
      "execution_count": null,
      "metadata": {
        "id": "bCnb-pGjyCyG"
      },
      "outputs": [],
      "source": [],
      "id": "bCnb-pGjyCyG"
    },
    {
      "cell_type": "code",
      "execution_count": 28,
      "metadata": {
        "id": "9WDYPlifsg02"
      },
      "outputs": [],
      "source": [
        "# get indegree\n",
        "in_degree = np.zeros(num_nodes)\n",
        "out_degree = np.zeros(num_nodes)\n",
        "\n",
        "for pre, post, weight in zip(pre_indexes, post_indexes, edge_weights):\n",
        "\n",
        "    # if pre in bodyIds and post in bodyIds:\n",
        "        in_degree[post] += weight\n",
        "        out_degree[pre] += weight"
      ],
      "id": "9WDYPlifsg02"
    },
    {
      "cell_type": "code",
      "execution_count": null,
      "metadata": {
        "colab": {
          "base_uri": "https://localhost:8080/"
        },
        "id": "NOhRjiFvryRb",
        "outputId": "92b4eb40-b923-4210-a7ce-62f077060728"
      },
      "outputs": [
        {
          "data": {
            "text/plain": [
              "0.0"
            ]
          },
          "execution_count": 32,
          "metadata": {},
          "output_type": "execute_result"
        }
      ],
      "source": [
        "max(in_degree)"
      ],
      "id": "NOhRjiFvryRb"
    },
    {
      "cell_type": "code",
      "execution_count": null,
      "metadata": {
        "colab": {
          "base_uri": "https://localhost:8080/"
        },
        "id": "sFcbpjf4r2SY",
        "outputId": "de7fa77d-ccea-457e-de24-2f9de44db6e9"
      },
      "outputs": [
        {
          "data": {
            "text/plain": [
              "0.0"
            ]
          },
          "execution_count": 33,
          "metadata": {},
          "output_type": "execute_result"
        }
      ],
      "source": [
        "max(out_degree)"
      ],
      "id": "sFcbpjf4r2SY"
    },
    {
      "cell_type": "markdown",
      "metadata": {
        "id": "atPW3HiHt49L"
      },
      "source": [
        "## Getting metadata"
      ],
      "id": "atPW3HiHt49L"
    },
    {
      "cell_type": "code",
      "execution_count": null,
      "metadata": {
        "id": "IfHNi2xz228g"
      },
      "outputs": [],
      "source": [],
      "id": "IfHNi2xz228g"
    },
    {
      "cell_type": "markdown",
      "metadata": {
        "id": "GDnOTr-923qf"
      },
      "source": [
        "## Metadata for synapses"
      ],
      "id": "GDnOTr-923qf"
    },
    {
      "cell_type": "code",
      "execution_count": 29,
      "metadata": {
        "colab": {
          "base_uri": "https://localhost:8080/"
        },
        "id": "51cb6d37",
        "outputId": "878aa89c-a7de-4250-9004-80950e8a77e2"
      },
      "outputs": [
        {
          "output_type": "stream",
          "name": "stderr",
          "text": [
            "<ipython-input-29-b48670fde3be>:1: DtypeWarning: Columns (8,36) have mixed types. Specify dtype option on import or set low_memory=False.\n",
            "  csv_synapses = pd.read_csv('data-raw/hemibrain_all_neurons_metrics_polypre_centrifugal_synapses.csv')\n"
          ]
        }
      ],
      "source": [
        "csv_synapses = pd.read_csv('data-raw/hemibrain_all_neurons_metrics_polypre_centrifugal_synapses.csv')"
      ],
      "id": "51cb6d37"
    },
    {
      "cell_type": "code",
      "source": [
        "traced_neurons['type'].value_counts()[:20]"
      ],
      "metadata": {
        "id": "Ld3cPQgFeT4a",
        "outputId": "52b23fd0-d7c2-4e9e-e7c2-b8805464d9ba",
        "colab": {
          "base_uri": "https://localhost:8080/"
        }
      },
      "id": "Ld3cPQgFeT4a",
      "execution_count": 82,
      "outputs": [
        {
          "output_type": "execute_result",
          "data": {
            "text/plain": [
              "KCab-sc         828\n",
              "KCg             701\n",
              "LC10            448\n",
              "MC61            346\n",
              "KCa'b'          336\n",
              "LC12            226\n",
              "LC17            186\n",
              "olfactory LN    175\n",
              "LC9             135\n",
              "MC64            121\n",
              "PFNp_a          115\n",
              "PFNp_b          114\n",
              "LPC1            113\n",
              "LLPC3           110\n",
              "LC18            103\n",
              "LLPC2c           92\n",
              "LPLC2            85\n",
              "LC16             83\n",
              "LC13             81\n",
              "LC21             75\n",
              "Name: type, dtype: int64"
            ]
          },
          "metadata": {},
          "execution_count": 82
        }
      ]
    },
    {
      "cell_type": "code",
      "source": [
        "plt.bar(range(num_classes), traced_neurons['type'].value_counts())\n",
        "plt.title('Cell type frequency')\n",
        "plt.xlabel('cell type index')\n",
        "plt.ylabel('number of occurrences')"
      ],
      "metadata": {
        "id": "IYbfpiX3iW5Q",
        "outputId": "d9f4dfa3-8f49-44b1-9320-6c4da8900b0f",
        "colab": {
          "base_uri": "https://localhost:8080/",
          "height": 490
        }
      },
      "id": "IYbfpiX3iW5Q",
      "execution_count": 88,
      "outputs": [
        {
          "output_type": "execute_result",
          "data": {
            "text/plain": [
              "Text(0, 0.5, 'number of occurrences')"
            ]
          },
          "metadata": {},
          "execution_count": 88
        },
        {
          "output_type": "display_data",
          "data": {
            "text/plain": [
              "<Figure size 640x480 with 1 Axes>"
            ],
            "image/png": "[encoded data removed]"
          },
          "metadata": {}
        }
      ]
    },
    {
      "cell_type": "code",
      "source": [
        "plt.bar(['KCab-sc', 'KGg', 'LC10', 'MC61', \"KCa'b'\", 'LC12', 'LC17', 'olfactory LN', 'LC9', 'MC64', 'PFNp_a', 'PFNp_b', 'LPLC1', 'LLPC3', 'LC18', 'LLPC2c', 'LPLC2', 'LC16', 'LC13', 'LC21', 'average'], list(traced_neurons['type'].value_counts()[:20]) + [3.973])\n",
        "plt.xlabel('neuron cell type')\n",
        "plt.ylabel('number of occurrences')\n",
        "plt.title('Top cell types by frequency')\n",
        "plt.xticks(rotation=90)"
      ],
      "metadata": {
        "id": "8vAJG4JhfWqG",
        "outputId": "a0b0fb93-6a74-485d-de13-21dd32a28afd",
        "colab": {
          "base_uri": "https://localhost:8080/",
          "height": 944
        }
      },
      "id": "8vAJG4JhfWqG",
      "execution_count": 85,
      "outputs": [
        {
          "output_type": "execute_result",
          "data": {
            "text/plain": [
              "([0, 1, 2, 3, 4, 5, 6, 7, 8, 9, 10, 11, 12, 13, 14, 15, 16, 17, 18, 19, 20],\n",
              " [Text(0, 0, 'KCab-sc'),\n",
              "  Text(1, 0, 'KGg'),\n",
              "  Text(2, 0, 'LC10'),\n",
              "  Text(3, 0, 'MC61'),\n",
              "  Text(4, 0, \"KCa'b'\"),\n",
              "  Text(5, 0, 'LC12'),\n",
              "  Text(6, 0, 'LC17'),\n",
              "  Text(7, 0, 'olfactory LN'),\n",
              "  Text(8, 0, 'LC9'),\n",
              "  Text(9, 0, 'MC64'),\n",
              "  Text(10, 0, 'PFNp_a'),\n",
              "  Text(11, 0, 'PFNp_b'),\n",
              "  Text(12, 0, 'LPLC1'),\n",
              "  Text(13, 0, 'LLPC3'),\n",
              "  Text(14, 0, 'LC18'),\n",
              "  Text(15, 0, 'LLPC2c'),\n",
              "  Text(16, 0, 'LPLC2'),\n",
              "  Text(17, 0, 'LC16'),\n",
              "  Text(18, 0, 'LC13'),\n",
              "  Text(19, 0, 'LC21'),\n",
              "  Text(20, 0, 'average')])"
            ]
          },
          "metadata": {},
          "execution_count": 85
        },
        {
          "output_type": "display_data",
          "data": {
            "text/plain": [
              "<Figure size 640x480 with 1 Axes>"
            ],
            "image/png": "[encoded data removed]"
          },
          "metadata": {}
        }
      ]
    },
    {
      "cell_type": "code",
      "source": [
        "np.mean(traced_neurons['type'].value_counts())"
      ],
      "metadata": {
        "id": "ViS1BNhofLwr",
        "outputId": "15e732c0-568a-4f94-b018-ac2fd86d3762",
        "colab": {
          "base_uri": "https://localhost:8080/"
        }
      },
      "id": "ViS1BNhofLwr",
      "execution_count": 77,
      "outputs": [
        {
          "output_type": "execute_result",
          "data": {
            "text/plain": [
              "3.973212402446741"
            ]
          },
          "metadata": {},
          "execution_count": 77
        }
      ]
    },
    {
      "cell_type": "code",
      "source": [],
      "metadata": {
        "id": "T-7nF7oEfQ9I"
      },
      "id": "T-7nF7oEfQ9I",
      "execution_count": null,
      "outputs": []
    },
    {
      "cell_type": "code",
      "execution_count": null,
      "metadata": {
        "colab": {
          "base_uri": "https://localhost:8080/"
        },
        "id": "8ac4edcd",
        "outputId": "1790790a-6d26-4978-8c95-4c54e2e3d383"
      },
      "outputs": [
        {
          "data": {
            "text/plain": [
              "Index(['cellBodyFiber', 'bodyid', 'pre', 'post', 'upstream', 'downstream',\n",
              "       'status', 'statusLabel', 'cropped', 'name', 'type', 'voxels', 'notes',\n",
              "       'soma', 'ito_lee_lineage', 'ito_lee_hemilineage', 'hartenstein_lineage',\n",
              "       'hartenstein_hemilineage', 'putative.classic.transmitter',\n",
              "       'putative.other.transmitter', 'FAFB.match', 'FAFB.match.quality',\n",
              "       'layer', 'ct.layer', 'overlap_locality', 'position', 'point', 'X', 'Y',\n",
              "       'Z', 'soma.edit', 'cut', 'truncated', 'manual_edit', 'splittable',\n",
              "       'skeletonization', 'checked', 'user', 'time', 'note', 'priority',\n",
              "       'edited.cable', 'orig.soma', 'orig.cut', 'soma.checked', 'cbf',\n",
              "       'total_outputs', 'total_inputs', 'axon_outputs', 'dend_outputs',\n",
              "       'axon_inputs', 'dend_inputs', 'total_outputs_density',\n",
              "       'total_inputs_density', 'axon_outputs_density', 'dend_outputs_density',\n",
              "       'axon_inputs_density', 'dend_inputs_density', 'total_length',\n",
              "       'axon_length', 'dend_length', 'pd_length', 'segregation_index'],\n",
              "      dtype='object')"
            ]
          },
          "execution_count": 67,
          "metadata": {},
          "output_type": "execute_result"
        }
      ],
      "source": [
        "csv_synapses.columns"
      ],
      "id": "8ac4edcd"
    },
    {
      "cell_type": "code",
      "execution_count": null,
      "metadata": {
        "colab": {
          "background_save": true
        },
        "id": "mQzcVuEgoZ8I",
        "outputId": "bcba0045-9463-4442-d909-dd161a285453"
      },
      "outputs": [
        {
          "name": "stdout",
          "output_type": "stream",
          "text": [
            "bodyid {<class 'numpy.int64'>}\n",
            "pre {<class 'numpy.int64'>}\n",
            "post {<class 'numpy.int64'>}\n",
            "upstream {<class 'numpy.int64'>}\n",
            "downstream {<class 'numpy.int64'>}\n",
            "status {<class 'str'>}\n",
            "statusLabel {<class 'str'>}\n",
            "voxels {<class 'numpy.int64'>}\n",
            "soma {<class 'numpy.bool_'>}\n",
            "position {<class 'numpy.int64'>}\n",
            "X {<class 'numpy.float64'>}\n",
            "Y {<class 'numpy.float64'>}\n",
            "Z {<class 'numpy.float64'>}\n",
            "soma.edit {<class 'str'>}\n",
            "checked {<class 'str'>, <class 'int'>}\n",
            "time {<class 'str'>}\n",
            "soma.checked {<class 'numpy.bool_'>}\n",
            "total_outputs {<class 'numpy.int64'>}\n",
            "total_inputs {<class 'numpy.int64'>}\n",
            "axon_outputs {<class 'numpy.int64'>}\n",
            "dend_outputs {<class 'numpy.int64'>}\n",
            "axon_inputs {<class 'numpy.int64'>}\n",
            "dend_inputs {<class 'numpy.int64'>}\n",
            "total_outputs_density {<class 'numpy.float64'>}\n",
            "total_inputs_density {<class 'numpy.float64'>}\n",
            "total_length {<class 'numpy.float64'>}\n"
          ]
        }
      ],
      "source": [
        "# determine which columns have NaN\n",
        "for col in csv_synapses.columns:\n",
        "    # print(col, set(type(entry) for entry in csv_synapses[col].unique()))\n",
        "    # print(col, csv_synapses[col].isnull().values.any(), set(type(entry) for entry in csv_synapses[col].unique()))\n",
        "    if not csv_synapses[col].isnull().values.any():\n",
        "        print(col, set(type(entry) for entry in csv_synapses[col].unique()))"
      ],
      "id": "mQzcVuEgoZ8I"
    },
    {
      "cell_type": "code",
      "execution_count": null,
      "metadata": {
        "colab": {
          "background_save": true
        },
        "id": "3bFdIhZyp_6t",
        "outputId": "2256c9ba-9eee-4a48-8bd5-44487bf00a9a"
      },
      "outputs": [
        {
          "data": {
            "text/plain": [
              "0        0.000017\n",
              "1        0.000023\n",
              "2        0.000017\n",
              "3        0.000042\n",
              "4        0.000070\n",
              "           ...   \n",
              "24688    0.000015\n",
              "24689    0.000012\n",
              "24690    0.000005\n",
              "24691    0.000021\n",
              "24692    0.000037\n",
              "Name: total_outputs, Length: 24693, dtype: float64"
            ]
          },
          "execution_count": 31,
          "metadata": {},
          "output_type": "execute_result"
        }
      ],
      "source": [
        "csv_synapses['total_outputs']/sum(csv_synapses['total_outputs']) # how to normalize"
      ],
      "id": "3bFdIhZyp_6t"
    },
    {
      "cell_type": "code",
      "execution_count": null,
      "metadata": {
        "colab": {
          "base_uri": "https://localhost:8080/",
          "height": 467
        },
        "id": "OfeADL4roBR1",
        "outputId": "70d472d6-9c6a-4e6a-cfda-b22adbd3231e"
      },
      "outputs": [
        {
          "data": {
            "text/html": [
              "\n",
              "  <div id=\"df-54f20044-ac9f-403a-bcec-db012ca46674\">\n",
              "    <div class=\"colab-df-container\">\n",
              "      <div>\n",
              "<style scoped>\n",
              "    .dataframe tbody tr th:only-of-type {\n",
              "        vertical-align: middle;\n",
              "    }\n",
              "\n",
              "    .dataframe tbody tr th {\n",
              "        vertical-align: top;\n",
              "    }\n",
              "\n",
              "    .dataframe thead th {\n",
              "        text-align: right;\n",
              "    }\n",
              "</style>\n",
              "<table border=\"1\" class=\"dataframe\">\n",
              "  <thead>\n",
              "    <tr style=\"text-align: right;\">\n",
              "      <th></th>\n",
              "      <th>pre</th>\n",
              "      <th>post</th>\n",
              "      <th>upstream</th>\n",
              "      <th>downstream</th>\n",
              "      <th>total_outputs</th>\n",
              "      <th>total_inputs</th>\n",
              "      <th>total_outputs_density</th>\n",
              "      <th>total_inputs_density</th>\n",
              "      <th>total_length</th>\n",
              "    </tr>\n",
              "  </thead>\n",
              "  <tbody>\n",
              "    <tr>\n",
              "      <th>0</th>\n",
              "      <td>233</td>\n",
              "      <td>411</td>\n",
              "      <td>411</td>\n",
              "      <td>742</td>\n",
              "      <td>737</td>\n",
              "      <td>411</td>\n",
              "      <td>1.165768</td>\n",
              "      <td>0.650109</td>\n",
              "      <td>632.201495</td>\n",
              "    </tr>\n",
              "    <tr>\n",
              "      <th>1</th>\n",
              "      <td>103</td>\n",
              "      <td>114</td>\n",
              "      <td>114</td>\n",
              "      <td>959</td>\n",
              "      <td>959</td>\n",
              "      <td>112</td>\n",
              "      <td>1.085772</td>\n",
              "      <td>0.126806</td>\n",
              "      <td>883.242118</td>\n",
              "    </tr>\n",
              "    <tr>\n",
              "      <th>2</th>\n",
              "      <td>219</td>\n",
              "      <td>646</td>\n",
              "      <td>646</td>\n",
              "      <td>710</td>\n",
              "      <td>710</td>\n",
              "      <td>645</td>\n",
              "      <td>0.747531</td>\n",
              "      <td>0.679095</td>\n",
              "      <td>949.793992</td>\n",
              "    </tr>\n",
              "    <tr>\n",
              "      <th>3</th>\n",
              "      <td>339</td>\n",
              "      <td>1017</td>\n",
              "      <td>1017</td>\n",
              "      <td>1804</td>\n",
              "      <td>1800</td>\n",
              "      <td>1008</td>\n",
              "      <td>0.985150</td>\n",
              "      <td>0.551684</td>\n",
              "      <td>1827.133769</td>\n",
              "    </tr>\n",
              "    <tr>\n",
              "      <th>4</th>\n",
              "      <td>392</td>\n",
              "      <td>4143</td>\n",
              "      <td>4143</td>\n",
              "      <td>2972</td>\n",
              "      <td>2972</td>\n",
              "      <td>4122</td>\n",
              "      <td>0.398117</td>\n",
              "      <td>0.552166</td>\n",
              "      <td>7465.149818</td>\n",
              "    </tr>\n",
              "    <tr>\n",
              "      <th>...</th>\n",
              "      <td>...</td>\n",
              "      <td>...</td>\n",
              "      <td>...</td>\n",
              "      <td>...</td>\n",
              "      <td>...</td>\n",
              "      <td>...</td>\n",
              "      <td>...</td>\n",
              "      <td>...</td>\n",
              "      <td>...</td>\n",
              "    </tr>\n",
              "    <tr>\n",
              "      <th>24688</th>\n",
              "      <td>88</td>\n",
              "      <td>189</td>\n",
              "      <td>189</td>\n",
              "      <td>634</td>\n",
              "      <td>634</td>\n",
              "      <td>188</td>\n",
              "      <td>0.571944</td>\n",
              "      <td>0.169599</td>\n",
              "      <td>1108.500157</td>\n",
              "    </tr>\n",
              "    <tr>\n",
              "      <th>24689</th>\n",
              "      <td>193</td>\n",
              "      <td>1395</td>\n",
              "      <td>1395</td>\n",
              "      <td>514</td>\n",
              "      <td>509</td>\n",
              "      <td>1389</td>\n",
              "      <td>0.196862</td>\n",
              "      <td>0.537213</td>\n",
              "      <td>2585.566400</td>\n",
              "    </tr>\n",
              "    <tr>\n",
              "      <th>24690</th>\n",
              "      <td>45</td>\n",
              "      <td>325</td>\n",
              "      <td>325</td>\n",
              "      <td>212</td>\n",
              "      <td>205</td>\n",
              "      <td>325</td>\n",
              "      <td>0.152806</td>\n",
              "      <td>0.242253</td>\n",
              "      <td>1341.570095</td>\n",
              "    </tr>\n",
              "    <tr>\n",
              "      <th>24691</th>\n",
              "      <td>139</td>\n",
              "      <td>173</td>\n",
              "      <td>173</td>\n",
              "      <td>872</td>\n",
              "      <td>872</td>\n",
              "      <td>172</td>\n",
              "      <td>1.696385</td>\n",
              "      <td>0.334608</td>\n",
              "      <td>514.034171</td>\n",
              "    </tr>\n",
              "    <tr>\n",
              "      <th>24692</th>\n",
              "      <td>205</td>\n",
              "      <td>299</td>\n",
              "      <td>299</td>\n",
              "      <td>1571</td>\n",
              "      <td>1571</td>\n",
              "      <td>298</td>\n",
              "      <td>1.384462</td>\n",
              "      <td>0.262616</td>\n",
              "      <td>1134.736820</td>\n",
              "    </tr>\n",
              "  </tbody>\n",
              "</table>\n",
              "<p>24693 rows × 9 columns</p>\n",
              "</div>\n",
              "      <button class=\"colab-df-convert\" onclick=\"convertToInteractive('df-54f20044-ac9f-403a-bcec-db012ca46674')\"\n",
              "              title=\"Convert this dataframe to an interactive table.\"\n",
              "              style=\"display:none;\">\n",
              "        \n",
              "  <svg xmlns=\"http://www.w3.org/2000/svg\" height=\"24px\"viewBox=\"0 0 24 24\"\n",
              "       width=\"24px\">\n",
              "    <path d=\"M0 0h24v24H0V0z\" fill=\"none\"/>\n",
              "    <path d=\"M18.56 5.44l.94 2.06.94-2.06 2.06-.94-2.06-.94-.94-2.06-.94 2.06-2.06.94zm-11 1L8.5 8.5l.94-2.06 2.06-.94-2.06-.94L8.5 2.5l-.94 2.06-2.06.94zm10 10l.94 2.06.94-2.06 2.06-.94-2.06-.94-.94-2.06-.94 2.06-2.06.94z\"/><path d=\"M17.41 7.96l-1.37-1.37c-.4-.4-.92-.59-1.43-.59-.52 0-1.04.2-1.43.59L10.3 9.45l-7.72 7.72c-.78.78-.78 2.05 0 2.83L4 21.41c.39.39.9.59 1.41.59.51 0 1.02-.2 1.41-.59l7.78-7.78 2.81-2.81c.8-.78.8-2.07 0-2.86zM5.41 20L4 18.59l7.72-7.72 1.47 1.35L5.41 20z\"/>\n",
              "  </svg>\n",
              "      </button>\n",
              "      \n",
              "  <style>\n",
              "    .colab-df-container {\n",
              "      display:flex;\n",
              "      flex-wrap:wrap;\n",
              "      gap: 12px;\n",
              "    }\n",
              "\n",
              "    .colab-df-convert {\n",
              "      background-color: #E8F0FE;\n",
              "      border: none;\n",
              "      border-radius: 50%;\n",
              "      cursor: pointer;\n",
              "      display: none;\n",
              "      fill: #1967D2;\n",
              "      height: 32px;\n",
              "      padding: 0 0 0 0;\n",
              "      width: 32px;\n",
              "    }\n",
              "\n",
              "    .colab-df-convert:hover {\n",
              "      background-color: #E2EBFA;\n",
              "      box-shadow: 0px 1px 2px rgba(60, 64, 67, 0.3), 0px 1px 3px 1px rgba(60, 64, 67, 0.15);\n",
              "      fill: #174EA6;\n",
              "    }\n",
              "\n",
              "    [theme=dark] .colab-df-convert {\n",
              "      background-color: #3B4455;\n",
              "      fill: #D2E3FC;\n",
              "    }\n",
              "\n",
              "    [theme=dark] .colab-df-convert:hover {\n",
              "      background-color: #434B5C;\n",
              "      box-shadow: 0px 1px 3px 1px rgba(0, 0, 0, 0.15);\n",
              "      filter: drop-shadow(0px 1px 2px rgba(0, 0, 0, 0.3));\n",
              "      fill: #FFFFFF;\n",
              "    }\n",
              "  </style>\n",
              "\n",
              "      <script>\n",
              "        const buttonEl =\n",
              "          document.querySelector('#df-54f20044-ac9f-403a-bcec-db012ca46674 button.colab-df-convert');\n",
              "        buttonEl.style.display =\n",
              "          google.colab.kernel.accessAllowed ? 'block' : 'none';\n",
              "\n",
              "        async function convertToInteractive(key) {\n",
              "          const element = document.querySelector('#df-54f20044-ac9f-403a-bcec-db012ca46674');\n",
              "          const dataTable =\n",
              "            await google.colab.kernel.invokeFunction('convertToInteractive',\n",
              "                                                     [key], {});\n",
              "          if (!dataTable) return;\n",
              "\n",
              "          const docLinkHtml = 'Like what you see? Visit the ' +\n",
              "            '<a target=\"_blank\" href=https://colab.research.google.com/notebooks/data_table.ipynb>data table notebook</a>'\n",
              "            + ' to learn more about interactive tables.';\n",
              "          element.innerHTML = '';\n",
              "          dataTable['output_type'] = 'display_data';\n",
              "          await google.colab.output.renderOutput(dataTable, element);\n",
              "          const docLink = document.createElement('div');\n",
              "          docLink.innerHTML = docLinkHtml;\n",
              "          element.appendChild(docLink);\n",
              "        }\n",
              "      </script>\n",
              "    </div>\n",
              "  </div>\n",
              "  "
            ],
            "text/plain": [
              "       pre  post  upstream  downstream  total_outputs  total_inputs  \\\n",
              "0      233   411       411         742            737           411   \n",
              "1      103   114       114         959            959           112   \n",
              "2      219   646       646         710            710           645   \n",
              "3      339  1017      1017        1804           1800          1008   \n",
              "4      392  4143      4143        2972           2972          4122   \n",
              "...    ...   ...       ...         ...            ...           ...   \n",
              "24688   88   189       189         634            634           188   \n",
              "24689  193  1395      1395         514            509          1389   \n",
              "24690   45   325       325         212            205           325   \n",
              "24691  139   173       173         872            872           172   \n",
              "24692  205   299       299        1571           1571           298   \n",
              "\n",
              "       total_outputs_density  total_inputs_density  total_length  \n",
              "0                   1.165768              0.650109    632.201495  \n",
              "1                   1.085772              0.126806    883.242118  \n",
              "2                   0.747531              0.679095    949.793992  \n",
              "3                   0.985150              0.551684   1827.133769  \n",
              "4                   0.398117              0.552166   7465.149818  \n",
              "...                      ...                   ...           ...  \n",
              "24688               0.571944              0.169599   1108.500157  \n",
              "24689               0.196862              0.537213   2585.566400  \n",
              "24690               0.152806              0.242253   1341.570095  \n",
              "24691               1.696385              0.334608    514.034171  \n",
              "24692               1.384462              0.262616   1134.736820  \n",
              "\n",
              "[24693 rows x 9 columns]"
            ]
          },
          "execution_count": 141,
          "metadata": {},
          "output_type": "execute_result"
        }
      ],
      "source": [
        "# find quantitative features\n",
        "# too much NaN: overlap_locality, axon_outputs_density\n",
        "csv_synapses[['pre', 'post', 'upstream', 'downstream', 'total_outputs', 'total_inputs',  'total_outputs_density', 'total_inputs_density', 'total_length']]"
      ],
      "id": "OfeADL4roBR1"
    },
    {
      "cell_type": "code",
      "execution_count": null,
      "metadata": {
        "colab": {
          "base_uri": "https://localhost:8080/"
        },
        "id": "Xl-o8mFPfUcK",
        "outputId": "c287dba1-04ce-48d9-aa26-4c5843fb767e"
      },
      "outputs": [
        {
          "data": {
            "text/plain": [
              "{numpy.float64}"
            ]
          },
          "execution_count": 89,
          "metadata": {},
          "output_type": "execute_result"
        }
      ],
      "source": [
        "set(type(entry) for entry in csv_synapses['dend_length'].unique())"
      ],
      "id": "Xl-o8mFPfUcK"
    },
    {
      "cell_type": "code",
      "execution_count": null,
      "metadata": {
        "colab": {
          "base_uri": "https://localhost:8080/"
        },
        "id": "pjV0r18KfYtA",
        "outputId": "4ec7b7bb-ef3f-47e5-b0c9-6d7b1f7aef94"
      },
      "outputs": [
        {
          "data": {
            "text/plain": [
              "{numpy.float64}"
            ]
          },
          "execution_count": 90,
          "metadata": {},
          "output_type": "execute_result"
        }
      ],
      "source": [
        "set(type(entry) for entry in csv_synapses['pd_length'].unique())"
      ],
      "id": "pjV0r18KfYtA"
    },
    {
      "cell_type": "code",
      "execution_count": null,
      "metadata": {
        "id": "cvsCwP7OfsfD"
      },
      "outputs": [],
      "source": [
        "set(type(entry) for entry in csv_synapses['dend_length'].unique())"
      ],
      "id": "cvsCwP7OfsfD"
    },
    {
      "cell_type": "code",
      "execution_count": null,
      "metadata": {
        "colab": {
          "base_uri": "https://localhost:8080/"
        },
        "id": "qz2leih1V0hn",
        "outputId": "c2252c86-9b60-4dc6-a8c5-501f14e5afb5"
      },
      "outputs": [
        {
          "data": {
            "text/plain": [
              "array([False,  True])"
            ]
          },
          "execution_count": 58,
          "metadata": {},
          "output_type": "execute_result"
        }
      ],
      "source": [
        "csv_synapses['soma'].unique()"
      ],
      "id": "qz2leih1V0hn"
    },
    {
      "cell_type": "code",
      "execution_count": null,
      "metadata": {
        "colab": {
          "base_uri": "https://localhost:8080/"
        },
        "id": "cdi0V8WINErJ",
        "outputId": "cadf51ad-4cb0-421a-9380-c97b559af4fd"
      },
      "outputs": [
        {
          "data": {
            "text/plain": [
              "array([  233,   103,   219, ..., 17628,  4957,  7499])"
            ]
          },
          "execution_count": 108,
          "metadata": {},
          "output_type": "execute_result"
        }
      ],
      "source": [
        "csv_synapses['pre'].unique()"
      ],
      "id": "cdi0V8WINErJ"
    },
    {
      "cell_type": "code",
      "execution_count": null,
      "metadata": {
        "colab": {
          "base_uri": "https://localhost:8080/"
        },
        "id": "bC87ZymYSS-F",
        "outputId": "74c294b1-9bb4-4895-e8e4-7823729214f5"
      },
      "outputs": [
        {
          "data": {
            "text/plain": [
              "127148"
            ]
          },
          "execution_count": 57,
          "metadata": {},
          "output_type": "execute_result"
        }
      ],
      "source": [
        "max(csv_synapses['post'])\n",
        "# proof that 'post' here returns to the node count, not the postsynaptic-bodyId of a synapse"
      ],
      "id": "bC87ZymYSS-F"
    },
    {
      "cell_type": "code",
      "execution_count": null,
      "metadata": {
        "colab": {
          "base_uri": "https://localhost:8080/",
          "height": 423
        },
        "id": "-PhAYRSY3D2w",
        "outputId": "54bcd056-9bc3-4c17-a645-9bbb23323d83"
      },
      "outputs": [
        {
          "data": {
            "text/html": [
              "\n",
              "  <div id=\"df-351827a5-aa58-4b25-ab23-f1ded2952aac\">\n",
              "    <div class=\"colab-df-container\">\n",
              "      <div>\n",
              "<style scoped>\n",
              "    .dataframe tbody tr th:only-of-type {\n",
              "        vertical-align: middle;\n",
              "    }\n",
              "\n",
              "    .dataframe tbody tr th {\n",
              "        vertical-align: top;\n",
              "    }\n",
              "\n",
              "    .dataframe thead th {\n",
              "        text-align: right;\n",
              "    }\n",
              "</style>\n",
              "<table border=\"1\" class=\"dataframe\">\n",
              "  <thead>\n",
              "    <tr style=\"text-align: right;\">\n",
              "      <th></th>\n",
              "      <th>bodyid</th>\n",
              "      <th>pre</th>\n",
              "      <th>post</th>\n",
              "      <th>upstream</th>\n",
              "      <th>downstream</th>\n",
              "      <th>name</th>\n",
              "      <th>type</th>\n",
              "    </tr>\n",
              "  </thead>\n",
              "  <tbody>\n",
              "    <tr>\n",
              "      <th>0</th>\n",
              "      <td>5812980768</td>\n",
              "      <td>233</td>\n",
              "      <td>411</td>\n",
              "      <td>411</td>\n",
              "      <td>742</td>\n",
              "      <td>KCab-s_R</td>\n",
              "      <td>KCab-s</td>\n",
              "    </tr>\n",
              "    <tr>\n",
              "      <th>1</th>\n",
              "      <td>480918798</td>\n",
              "      <td>103</td>\n",
              "      <td>114</td>\n",
              "      <td>114</td>\n",
              "      <td>959</td>\n",
              "      <td>LHPD3a4_c_R</td>\n",
              "      <td>LHPD3a4_c</td>\n",
              "    </tr>\n",
              "    <tr>\n",
              "      <th>2</th>\n",
              "      <td>599674785</td>\n",
              "      <td>219</td>\n",
              "      <td>646</td>\n",
              "      <td>646</td>\n",
              "      <td>710</td>\n",
              "      <td>KCab-m_R</td>\n",
              "      <td>KCab-m</td>\n",
              "    </tr>\n",
              "    <tr>\n",
              "      <th>3</th>\n",
              "      <td>358424052</td>\n",
              "      <td>339</td>\n",
              "      <td>1017</td>\n",
              "      <td>1017</td>\n",
              "      <td>1804</td>\n",
              "      <td>FB8G_L</td>\n",
              "      <td>FB8G</td>\n",
              "    </tr>\n",
              "    <tr>\n",
              "      <th>4</th>\n",
              "      <td>326530038</td>\n",
              "      <td>392</td>\n",
              "      <td>4143</td>\n",
              "      <td>4143</td>\n",
              "      <td>2972</td>\n",
              "      <td>SMP505_R</td>\n",
              "      <td>SMP505</td>\n",
              "    </tr>\n",
              "    <tr>\n",
              "      <th>...</th>\n",
              "      <td>...</td>\n",
              "      <td>...</td>\n",
              "      <td>...</td>\n",
              "      <td>...</td>\n",
              "      <td>...</td>\n",
              "      <td>...</td>\n",
              "      <td>...</td>\n",
              "    </tr>\n",
              "    <tr>\n",
              "      <th>24688</th>\n",
              "      <td>1535427917</td>\n",
              "      <td>88</td>\n",
              "      <td>189</td>\n",
              "      <td>189</td>\n",
              "      <td>634</td>\n",
              "      <td>WED040_a_R</td>\n",
              "      <td>WED040_a</td>\n",
              "    </tr>\n",
              "    <tr>\n",
              "      <th>24689</th>\n",
              "      <td>1598296804</td>\n",
              "      <td>193</td>\n",
              "      <td>1395</td>\n",
              "      <td>1395</td>\n",
              "      <td>514</td>\n",
              "      <td>PVLP023_R</td>\n",
              "      <td>PVLP023</td>\n",
              "    </tr>\n",
              "    <tr>\n",
              "      <th>24690</th>\n",
              "      <td>5812994890</td>\n",
              "      <td>45</td>\n",
              "      <td>325</td>\n",
              "      <td>325</td>\n",
              "      <td>212</td>\n",
              "      <td>PS224_R</td>\n",
              "      <td>PS224</td>\n",
              "    </tr>\n",
              "    <tr>\n",
              "      <th>24691</th>\n",
              "      <td>1753034787</td>\n",
              "      <td>139</td>\n",
              "      <td>173</td>\n",
              "      <td>173</td>\n",
              "      <td>872</td>\n",
              "      <td>LC18</td>\n",
              "      <td>LC18</td>\n",
              "    </tr>\n",
              "    <tr>\n",
              "      <th>24692</th>\n",
              "      <td>5813061760</td>\n",
              "      <td>205</td>\n",
              "      <td>299</td>\n",
              "      <td>299</td>\n",
              "      <td>1571</td>\n",
              "      <td>AVLP424_R</td>\n",
              "      <td>AVLP424</td>\n",
              "    </tr>\n",
              "  </tbody>\n",
              "</table>\n",
              "<p>24693 rows × 7 columns</p>\n",
              "</div>\n",
              "      <button class=\"colab-df-convert\" onclick=\"convertToInteractive('df-351827a5-aa58-4b25-ab23-f1ded2952aac')\"\n",
              "              title=\"Convert this dataframe to an interactive table.\"\n",
              "              style=\"display:none;\">\n",
              "        \n",
              "  <svg xmlns=\"http://www.w3.org/2000/svg\" height=\"24px\"viewBox=\"0 0 24 24\"\n",
              "       width=\"24px\">\n",
              "    <path d=\"M0 0h24v24H0V0z\" fill=\"none\"/>\n",
              "    <path d=\"M18.56 5.44l.94 2.06.94-2.06 2.06-.94-2.06-.94-.94-2.06-.94 2.06-2.06.94zm-11 1L8.5 8.5l.94-2.06 2.06-.94-2.06-.94L8.5 2.5l-.94 2.06-2.06.94zm10 10l.94 2.06.94-2.06 2.06-.94-2.06-.94-.94-2.06-.94 2.06-2.06.94z\"/><path d=\"M17.41 7.96l-1.37-1.37c-.4-.4-.92-.59-1.43-.59-.52 0-1.04.2-1.43.59L10.3 9.45l-7.72 7.72c-.78.78-.78 2.05 0 2.83L4 21.41c.39.39.9.59 1.41.59.51 0 1.02-.2 1.41-.59l7.78-7.78 2.81-2.81c.8-.78.8-2.07 0-2.86zM5.41 20L4 18.59l7.72-7.72 1.47 1.35L5.41 20z\"/>\n",
              "  </svg>\n",
              "      </button>\n",
              "      \n",
              "  <style>\n",
              "    .colab-df-container {\n",
              "      display:flex;\n",
              "      flex-wrap:wrap;\n",
              "      gap: 12px;\n",
              "    }\n",
              "\n",
              "    .colab-df-convert {\n",
              "      background-color: #E8F0FE;\n",
              "      border: none;\n",
              "      border-radius: 50%;\n",
              "      cursor: pointer;\n",
              "      display: none;\n",
              "      fill: #1967D2;\n",
              "      height: 32px;\n",
              "      padding: 0 0 0 0;\n",
              "      width: 32px;\n",
              "    }\n",
              "\n",
              "    .colab-df-convert:hover {\n",
              "      background-color: #E2EBFA;\n",
              "      box-shadow: 0px 1px 2px rgba(60, 64, 67, 0.3), 0px 1px 3px 1px rgba(60, 64, 67, 0.15);\n",
              "      fill: #174EA6;\n",
              "    }\n",
              "\n",
              "    [theme=dark] .colab-df-convert {\n",
              "      background-color: #3B4455;\n",
              "      fill: #D2E3FC;\n",
              "    }\n",
              "\n",
              "    [theme=dark] .colab-df-convert:hover {\n",
              "      background-color: #434B5C;\n",
              "      box-shadow: 0px 1px 3px 1px rgba(0, 0, 0, 0.15);\n",
              "      filter: drop-shadow(0px 1px 2px rgba(0, 0, 0, 0.3));\n",
              "      fill: #FFFFFF;\n",
              "    }\n",
              "  </style>\n",
              "\n",
              "      <script>\n",
              "        const buttonEl =\n",
              "          document.querySelector('#df-351827a5-aa58-4b25-ab23-f1ded2952aac button.colab-df-convert');\n",
              "        buttonEl.style.display =\n",
              "          google.colab.kernel.accessAllowed ? 'block' : 'none';\n",
              "\n",
              "        async function convertToInteractive(key) {\n",
              "          const element = document.querySelector('#df-351827a5-aa58-4b25-ab23-f1ded2952aac');\n",
              "          const dataTable =\n",
              "            await google.colab.kernel.invokeFunction('convertToInteractive',\n",
              "                                                     [key], {});\n",
              "          if (!dataTable) return;\n",
              "\n",
              "          const docLinkHtml = 'Like what you see? Visit the ' +\n",
              "            '<a target=\"_blank\" href=https://colab.research.google.com/notebooks/data_table.ipynb>data table notebook</a>'\n",
              "            + ' to learn more about interactive tables.';\n",
              "          element.innerHTML = '';\n",
              "          dataTable['output_type'] = 'display_data';\n",
              "          await google.colab.output.renderOutput(dataTable, element);\n",
              "          const docLink = document.createElement('div');\n",
              "          docLink.innerHTML = docLinkHtml;\n",
              "          element.appendChild(docLink);\n",
              "        }\n",
              "      </script>\n",
              "    </div>\n",
              "  </div>\n",
              "  "
            ],
            "text/plain": [
              "           bodyid  pre  post  upstream  downstream         name       type\n",
              "0      5812980768  233   411       411         742     KCab-s_R     KCab-s\n",
              "1       480918798  103   114       114         959  LHPD3a4_c_R  LHPD3a4_c\n",
              "2       599674785  219   646       646         710     KCab-m_R     KCab-m\n",
              "3       358424052  339  1017      1017        1804       FB8G_L       FB8G\n",
              "4       326530038  392  4143      4143        2972     SMP505_R     SMP505\n",
              "...           ...  ...   ...       ...         ...          ...        ...\n",
              "24688  1535427917   88   189       189         634   WED040_a_R   WED040_a\n",
              "24689  1598296804  193  1395      1395         514    PVLP023_R    PVLP023\n",
              "24690  5812994890   45   325       325         212      PS224_R      PS224\n",
              "24691  1753034787  139   173       173         872         LC18       LC18\n",
              "24692  5813061760  205   299       299        1571    AVLP424_R    AVLP424\n",
              "\n",
              "[24693 rows x 7 columns]"
            ]
          },
          "execution_count": 71,
          "metadata": {},
          "output_type": "execute_result"
        }
      ],
      "source": [
        "csv_synapses[['bodyid', 'pre', 'post', 'upstream', 'downstream', 'name', 'type']]"
      ],
      "id": "-PhAYRSY3D2w"
    },
    {
      "cell_type": "code",
      "execution_count": null,
      "metadata": {
        "colab": {
          "base_uri": "https://localhost:8080/",
          "height": 165
        },
        "id": "PKj3y4vWJykt",
        "outputId": "7ffe44dc-1644-4300-8040-dac956e11029"
      },
      "outputs": [
        {
          "ename": "AttributeError",
          "evalue": "ignored",
          "output_type": "error",
          "traceback": [
            "\u001b[0;31m---------------------------------------------------------------------------\u001b[0m",
            "\u001b[0;31mAttributeError\u001b[0m                            Traceback (most recent call last)",
            "\u001b[0;32m<ipython-input-99-f31bb857291b>\u001b[0m in \u001b[0;36m<cell line: 1>\u001b[0;34m()\u001b[0m\n\u001b[0;32m----> 1\u001b[0;31m \u001b[0mnp\u001b[0m\u001b[0;34m.\u001b[0m\u001b[0marray\u001b[0m\u001b[0;34m(\u001b[0m\u001b[0;34m[\u001b[0m\u001b[0;36m0\u001b[0m\u001b[0;34m,\u001b[0m \u001b[0;36m1\u001b[0m\u001b[0;34m,\u001b[0m \u001b[0;36m2\u001b[0m\u001b[0;34m,\u001b[0m \u001b[0;36m3\u001b[0m\u001b[0;34m,\u001b[0m \u001b[0;36m4\u001b[0m\u001b[0;34m,\u001b[0m\u001b[0;34m]\u001b[0m\u001b[0;34m)\u001b[0m\u001b[0;34m.\u001b[0m\u001b[0mfind\u001b[0m\u001b[0;34m(\u001b[0m\u001b[0;36m0\u001b[0m\u001b[0;34m)\u001b[0m\u001b[0;34m\u001b[0m\u001b[0;34m\u001b[0m\u001b[0m\n\u001b[0m",
            "\u001b[0;31mAttributeError\u001b[0m: 'numpy.ndarray' object has no attribute 'find'"
          ]
        }
      ],
      "source": [
        "np.array([0, 1, 2, 3, 4,]).sear(0)"
      ],
      "id": "PKj3y4vWJykt"
    },
    {
      "cell_type": "code",
      "execution_count": null,
      "metadata": {
        "colab": {
          "base_uri": "https://localhost:8080/"
        },
        "id": "x_umWm0oZ9n8",
        "outputId": "edc88319-4b21-4705-9012-d76b5c411740"
      },
      "outputs": [
        {
          "data": {
            "text/plain": [
              "5606"
            ]
          },
          "execution_count": 87,
          "metadata": {},
          "output_type": "execute_result"
        }
      ],
      "source": [
        "csv_synapses['type'].nunique()"
      ],
      "id": "x_umWm0oZ9n8"
    },
    {
      "cell_type": "code",
      "execution_count": null,
      "metadata": {
        "colab": {
          "base_uri": "https://localhost:8080/"
        },
        "id": "SZ_5X5ereMoC",
        "outputId": "fa23408d-9b0e-4151-f058-d98a15d43191"
      },
      "outputs": [
        {
          "data": {
            "text/plain": [
              "4741"
            ]
          },
          "execution_count": 86,
          "metadata": {},
          "output_type": "execute_result"
        }
      ],
      "source": [
        "traced_neurons['type'].nunique()"
      ],
      "id": "SZ_5X5ereMoC"
    },
    {
      "cell_type": "code",
      "execution_count": null,
      "metadata": {
        "id": "JQfqkzh7eKUT"
      },
      "outputs": [],
      "source": [],
      "id": "JQfqkzh7eKUT"
    },
    {
      "cell_type": "code",
      "execution_count": 30,
      "metadata": {
        "id": "yY2JCtU6BiBW"
      },
      "outputs": [],
      "source": [
        "# get xyz\n",
        "xyz = np.zeros((num_nodes, 3))\n",
        "for index, row in csv_synapses.iterrows():\n",
        "    if row['bodyid'] in bodyIds:\n",
        "        idx = bodyId_to_idx(row['bodyid'])\n",
        "        xyz[idx, :] = row[['X', 'Y', 'Z']]"
      ],
      "id": "yY2JCtU6BiBW"
    },
    {
      "cell_type": "code",
      "execution_count": null,
      "metadata": {
        "colab": {
          "base_uri": "https://localhost:8080/"
        },
        "id": "dR23pH6tFpTg",
        "outputId": "72e5526b-4274-4a4e-dc7c-910951530b80"
      },
      "outputs": [
        {
          "data": {
            "text/plain": [
              "[200326126,\n",
              " 202916528,\n",
              " 203253072,\n",
              " 203257652,\n",
              " 203594169,\n",
              " 203594175,\n",
              " 203598499,\n",
              " 203598504,\n",
              " 203598542,\n",
              " 203598557,\n",
              " 203931040,\n",
              " 204613133,\n",
              " 204962646,\n",
              " 205299889,\n",
              " 206555682,\n",
              " 232513628,\n",
              " 232513671,\n",
              " 233105330,\n",
              " 233877926,\n",
              " 234292899,\n",
              " 235985275,\n",
              " 236330337,\n",
              " 236331138,\n",
              " 262167456,\n",
              " 262504004,\n",
              " 262517074,\n",
              " 262840563,\n",
              " 263199096,\n",
              " 263475451,\n",
              " 263522664,\n",
              " 263674097,\n",
              " 264014957,\n",
              " 264083994,\n",
              " 264438143,\n",
              " 264779403,\n",
              " 264783939,\n",
              " 264822904,\n",
              " 264986706,\n",
              " 265120223,\n",
              " 265120324,\n",
              " 265120424,\n",
              " 265120467,\n",
              " 265120589,\n",
              " 265120597,\n",
              " 265120677,\n",
              " 265124786,\n",
              " 265155147,\n",
              " 265655867,\n",
              " 266187342,\n",
              " 266187383,\n",
              " 266187477,\n",
              " 266187480,\n",
              " 266187532,\n",
              " 266187559,\n",
              " 266191395,\n",
              " 266191407,\n",
              " 266200011,\n",
              " 266527996,\n",
              " 266528044,\n",
              " 266528078,\n",
              " 266528086,\n",
              " 266536576,\n",
              " 266847236,\n",
              " 266873389,\n",
              " 266873401,\n",
              " 266873591,\n",
              " 267214250,\n",
              " 267223027,\n",
              " 267223104,\n",
              " 267227062,\n",
              " 267304783,\n",
              " 267551639,\n",
              " 267559575,\n",
              " 267559665,\n",
              " 267564140,\n",
              " 267572587,\n",
              " 267896359,\n",
              " 267896360,\n",
              " 268237554,\n",
              " 268725517,\n",
              " 270322941,\n",
              " 294161385,\n",
              " 294424196,\n",
              " 294428266,\n",
              " 294432626,\n",
              " 294432760,\n",
              " 294436967,\n",
              " 294437328,\n",
              " 294437347,\n",
              " 294441510,\n",
              " 294445804,\n",
              " 294445931,\n",
              " 294450004,\n",
              " 294450495,\n",
              " 294756576,\n",
              " 294760680,\n",
              " 294760699,\n",
              " 294760723,\n",
              " 294760837,\n",
              " 294773987,\n",
              " 294774719,\n",
              " 294774792,\n",
              " 294778999,\n",
              " 294782432,\n",
              " 294782488,\n",
              " 294783423,\n",
              " 294786630,\n",
              " 294786785,\n",
              " 294787849,\n",
              " 294791509,\n",
              " 294791642,\n",
              " 294792184,\n",
              " 294792311,\n",
              " 294792344,\n",
              " 294795822,\n",
              " 294799968,\n",
              " 294800293,\n",
              " 295063181,\n",
              " 295106899,\n",
              " 295107514,\n",
              " 295111672,\n",
              " 295111734,\n",
              " 295115222,\n",
              " 295115429,\n",
              " 295115628,\n",
              " 295115794,\n",
              " 295116165,\n",
              " 295116205,\n",
              " 295119694,\n",
              " 295120601,\n",
              " 295120620,\n",
              " 295124412,\n",
              " 295127956,\n",
              " 295132077,\n",
              " 295132487,\n",
              " 295132551,\n",
              " 295132845,\n",
              " 295133015,\n",
              " 295133452,\n",
              " 295133743,\n",
              " 295133778,\n",
              " 295133927,\n",
              " 295136450,\n",
              " 295136668,\n",
              " 295136778,\n",
              " 295136965,\n",
              " 295137019,\n",
              " 295137392,\n",
              " 295137515,\n",
              " 295141570,\n",
              " 295141618,\n",
              " 295434457,\n",
              " 295439322,\n",
              " 295443136,\n",
              " 295443724,\n",
              " 295456248,\n",
              " 295456869,\n",
              " 295461302,\n",
              " 295461534,\n",
              " 295461570,\n",
              " 295461707,\n",
              " 295461871,\n",
              " 295466276,\n",
              " 295470623,\n",
              " 295470816,\n",
              " 295473400,\n",
              " 295473813,\n",
              " 295473947,\n",
              " 295474250,\n",
              " 295474441,\n",
              " 295474876,\n",
              " 295477467,\n",
              " 295477903,\n",
              " 295478082,\n",
              " 295478389,\n",
              " 295482340,\n",
              " 295482551,\n",
              " 295482578,\n",
              " 295482646,\n",
              " 295490804,\n",
              " 295490863,\n",
              " 295779879,\n",
              " 295779961,\n",
              " 295780154,\n",
              " 295785459,\n",
              " 295793991,\n",
              " 295797312,\n",
              " 295798962,\n",
              " 295799057,\n",
              " 295802733,\n",
              " 295805243,\n",
              " 295807109,\n",
              " 295807429,\n",
              " 295814411,\n",
              " 295814565,\n",
              " 295814630,\n",
              " 295814895,\n",
              " 295814932,\n",
              " 295815100,\n",
              " 295815897,\n",
              " 295815955,\n",
              " 295816140,\n",
              " 295819960,\n",
              " 295819998,\n",
              " 295820056,\n",
              " 295820069,\n",
              " 295820085,\n",
              " 295823782,\n",
              " 295827899,\n",
              " 295828029,\n",
              " 295849217,\n",
              " 295849410,\n",
              " 296120593,\n",
              " 296139882,\n",
              " 296143798,\n",
              " 296143923,\n",
              " 296148102,\n",
              " 296153150,\n",
              " 296153261,\n",
              " 296155122,\n",
              " 296156918,\n",
              " 296160764,\n",
              " 296164879,\n",
              " 296168382,\n",
              " 296194535,\n",
              " 296199021,\n",
              " 296199026,\n",
              " 296199149,\n",
              " 296203324,\n",
              " 296203325,\n",
              " 296203392,\n",
              " 296203434,\n",
              " 296203440,\n",
              " 296203608,\n",
              " 296203623,\n",
              " 296479813,\n",
              " 296489073,\n",
              " 296496999,\n",
              " 296497316,\n",
              " 296501634,\n",
              " 296502002,\n",
              " 296502294,\n",
              " 296505463,\n",
              " 296509709,\n",
              " 296514350,\n",
              " 296531366,\n",
              " 296531421,\n",
              " 296535619,\n",
              " 296535655,\n",
              " 296535868,\n",
              " 296543992,\n",
              " 296544262,\n",
              " 296544364,\n",
              " 296690817,\n",
              " 296829531,\n",
              " 296837846,\n",
              " 296838079,\n",
              " 296838229,\n",
              " 296838734,\n",
              " 296841676,\n",
              " 296842335,\n",
              " 296843037,\n",
              " 296846109,\n",
              " 296846314,\n",
              " 296846768,\n",
              " 296850634,\n",
              " 296851132,\n",
              " 296851235,\n",
              " 296851261,\n",
              " 296855409,\n",
              " 296859399,\n",
              " 296859438,\n",
              " 296863817,\n",
              " 296867934,\n",
              " 296868077,\n",
              " 296872298,\n",
              " 296872415,\n",
              " 296880800,\n",
              " 296885362,\n",
              " 297165904,\n",
              " 297166053,\n",
              " 297166197,\n",
              " 297178509,\n",
              " 297179343,\n",
              " 297183244,\n",
              " 297183251,\n",
              " 297192193,\n",
              " 297192204,\n",
              " 297196636,\n",
              " 297217528,\n",
              " 297221971,\n",
              " 297230760,\n",
              " 297239396,\n",
              " 297243542,\n",
              " 297251714,\n",
              " 297251765,\n",
              " 297498027,\n",
              " 297502392,\n",
              " 297519736,\n",
              " 297519807,\n",
              " 297519815,\n",
              " 297519843,\n",
              " 297519947,\n",
              " 297520036,\n",
              " 297524212,\n",
              " 297528119,\n",
              " 297528741,\n",
              " 297533212,\n",
              " 297541369,\n",
              " 297558862,\n",
              " 297563139,\n",
              " 297563270,\n",
              " 297572076,\n",
              " 297572235,\n",
              " 297580512,\n",
              " 297580589,\n",
              " 297584752,\n",
              " 297584869,\n",
              " 297588775,\n",
              " 297588838,\n",
              " 297588995,\n",
              " 297593055,\n",
              " 297856167,\n",
              " 297860327,\n",
              " 297860627,\n",
              " 297869179,\n",
              " 297899921,\n",
              " 297908595,\n",
              " 297912117,\n",
              " 297917158,\n",
              " 297917363,\n",
              " 297917364,\n",
              " 297917474,\n",
              " 297917475,\n",
              " 297921527,\n",
              " 297921570,\n",
              " 297921608,\n",
              " 297921642,\n",
              " 297921808,\n",
              " 297925478,\n",
              " 297925608,\n",
              " 297925719,\n",
              " 297925742,\n",
              " 297929768,\n",
              " 297929815,\n",
              " 297930040,\n",
              " 297934349,\n",
              " 297938585,\n",
              " 297947227,\n",
              " 298055752,\n",
              " 298210543,\n",
              " 298214577,\n",
              " 298240936,\n",
              " 298241038,\n",
              " 298245448,\n",
              " 298245502,\n",
              " 298249624,\n",
              " 298254380,\n",
              " 298254384,\n",
              " 298254474,\n",
              " 298258134,\n",
              " 298258354,\n",
              " 298258399,\n",
              " 298258513,\n",
              " 298258611,\n",
              " 298258714,\n",
              " 298262599,\n",
              " 298262644,\n",
              " 298262663,\n",
              " 298262867,\n",
              " 298266716,\n",
              " 298266903,\n",
              " 298267207,\n",
              " 298270808,\n",
              " 298275356,\n",
              " 298279629,\n",
              " 298288301,\n",
              " 298405402,\n",
              " 298542439,\n",
              " 298547259,\n",
              " 298547436,\n",
              " 298586553,\n",
              " 298586733,\n",
              " 298590924,\n",
              " 298591075,\n",
              " 298591130,\n",
              " 298595196,\n",
              " 298595394,\n",
              " 298599672,\n",
              " 298603633,\n",
              " 298603693,\n",
              " 298603730,\n",
              " 298603963,\n",
              " 298607679,\n",
              " 298612190,\n",
              " 298616588,\n",
              " 298616761,\n",
              " 298625276,\n",
              " 298927224,\n",
              " 298927362,\n",
              " 298931489,\n",
              " 298931773,\n",
              " 298935111,\n",
              " 298935146,\n",
              " 298936099,\n",
              " 298944444,\n",
              " 298944479,\n",
              " 298944620,\n",
              " 298948785,\n",
              " 298957166,\n",
              " 298957344,\n",
              " 298961895,\n",
              " 298962041,\n",
              " 299043307,\n",
              " 299078990,\n",
              " 299263690,\n",
              " 299267723,\n",
              " 299268507,\n",
              " 299272434,\n",
              " 299272806,\n",
              " 299289811,\n",
              " 299290105,\n",
              " 299293552,\n",
              " 299298381,\n",
              " 299604675,\n",
              " 299604736,\n",
              " 299604862,\n",
              " 299609112,\n",
              " 299613271,\n",
              " 299613480,\n",
              " 299617484,\n",
              " 299617529,\n",
              " 299617731,\n",
              " 299617849,\n",
              " 299617872,\n",
              " 299626157,\n",
              " 299954299,\n",
              " 299954300,\n",
              " 299958695,\n",
              " 299958696,\n",
              " 300455904,\n",
              " 300968622,\n",
              " 300972942,\n",
              " 301037686,\n",
              " 301309622,\n",
              " 301314150,\n",
              " 301314154,\n",
              " 301314208,\n",
              " 301318641,\n",
              " 324370873,\n",
              " 324721026,\n",
              " 324725187,\n",
              " 324790113,\n",
              " 324846570,\n",
              " 325113795,\n",
              " 325122109,\n",
              " 325122525,\n",
              " 325122802,\n",
              " 325127286,\n",
              " 325131735,\n",
              " 325446181,\n",
              " 325455002,\n",
              " 325455305,\n",
              " 325455473,\n",
              " 325458991,\n",
              " 325460206,\n",
              " 325472654,\n",
              " 325484974,\n",
              " 325489440,\n",
              " 325490014,\n",
              " 325529237,\n",
              " 325743813,\n",
              " 325787243,\n",
              " 325791831,\n",
              " 325791855,\n",
              " 325797488,\n",
              " 325797575,\n",
              " 325802256,\n",
              " 325814461,\n",
              " 325814669,\n",
              " 325814784,\n",
              " 325815440,\n",
              " 325826011,\n",
              " 325834652,\n",
              " 325839288,\n",
              " 325839302,\n",
              " 326124243,\n",
              " 326128466,\n",
              " 326128670,\n",
              " 326134056,\n",
              " 326134570,\n",
              " 326137566,\n",
              " 326154371,\n",
              " 326155085,\n",
              " 326159593,\n",
              " 326159897,\n",
              " 326159907,\n",
              " 326164634,\n",
              " 326164742,\n",
              " 326184549,\n",
              " 326227760,\n",
              " 326253554,\n",
              " 326460989,\n",
              " 326465302,\n",
              " 326474963,\n",
              " 326475920,\n",
              " 326496740,\n",
              " 326500709,\n",
              " 326504486,\n",
              " 326508001,\n",
              " 326508583,\n",
              " 326509224,\n",
              " 326521082,\n",
              " 326525255,\n",
              " 326525339,\n",
              " 326530038,\n",
              " 326542980,\n",
              " 326547252,\n",
              " 326560782,\n",
              " 326810603,\n",
              " 326811922,\n",
              " 326812225,\n",
              " 326817334,\n",
              " 326817510,\n",
              " 326817565,\n",
              " 326849964,\n",
              " 326870795,\n",
              " 326875404,\n",
              " 326879917,\n",
              " 326884203,\n",
              " 326884223,\n",
              " 326884250,\n",
              " 326884264,\n",
              " 326884331,\n",
              " 326888433,\n",
              " 326888609,\n",
              " 326888627,\n",
              " 326888675,\n",
              " 326892322,\n",
              " 326892728,\n",
              " 326901620,\n",
              " 326905980,\n",
              " 327147292,\n",
              " 327147610,\n",
              " 327152465,\n",
              " 327153088,\n",
              " 327158282,\n",
              " 327158831,\n",
              " 327203386,\n",
              " 327220514,\n",
              " 327225145,\n",
              " 327229641,\n",
              " 327242169,\n",
              " 327242287,\n",
              " 327246381,\n",
              " 327246931,\n",
              " 327255181,\n",
              " 327398074,\n",
              " 327499164,\n",
              " 327506825,\n",
              " 327509674,\n",
              " 327511994,\n",
              " 327519295,\n",
              " 327531576,\n",
              " 327532246,\n",
              " 327535642,\n",
              " 327544990,\n",
              " 327565511,\n",
              " 327565800,\n",
              " 327566042,\n",
              " 327566137,\n",
              " 327587580,\n",
              " 327587644,\n",
              " 327588225,\n",
              " 327588446,\n",
              " 327592562,\n",
              " 327596420,\n",
              " 327596481,\n",
              " 327730878,\n",
              " 327838570,\n",
              " 327843160,\n",
              " 327844600,\n",
              " 327847540,\n",
              " 327848116,\n",
              " 327850917,\n",
              " 327851331,\n",
              " 327852122,\n",
              " 327852276,\n",
              " 327857238,\n",
              " 327860997,\n",
              " 327861138,\n",
              " 327865394,\n",
              " 327872592,\n",
              " 327872615,\n",
              " 327873821,\n",
              " 327877252,\n",
              " 327881747,\n",
              " 327928411,\n",
              " 327932807,\n",
              " 327933008,\n",
              " 327933027,\n",
              " 327933061,\n",
              " 327933208,\n",
              " 327933679,\n",
              " 327933814,\n",
              " 327937328,\n",
              " 327937494,\n",
              " 327937628,\n",
              " 327941844,\n",
              " 328010530,\n",
              " 328179112,\n",
              " 328179117,\n",
              " 328187494,\n",
              " 328188238,\n",
              " 328188777,\n",
              " 328193076,\n",
              " 328197044,\n",
              " 328201793,\n",
              " 328206519,\n",
              " 328209735,\n",
              " 328213227,\n",
              " 328213594,\n",
              " 328213824,\n",
              " 328214655,\n",
              " 328244591,\n",
              " 328253133,\n",
              " 328265182,\n",
              " 328265281,\n",
              " 328265389,\n",
              " 328269766,\n",
              " 328270395,\n",
              " 328273806,\n",
              " 328274638,\n",
              " 328274706,\n",
              " 328278368,\n",
              " 328278449,\n",
              " 328283406,\n",
              " 328291093,\n",
              " 328373131,\n",
              " 328519723,\n",
              " 328519904,\n",
              " 328524517,\n",
              " 328524867,\n",
              " 328524904,\n",
              " 328525017,\n",
              " 328530120,\n",
              " 328533761,\n",
              " 328533799,\n",
              " 328533857,\n",
              " 328533896,\n",
              " 328537891,\n",
              " 328538398,\n",
              " 328538408,\n",
              " 328542009,\n",
              " 328542218,\n",
              " 328543014,\n",
              " 328543082,\n",
              " 328546621,\n",
              " 328546871,\n",
              " 328559607,\n",
              " 328563364,\n",
              " 328593903,\n",
              " 328601956,\n",
              " 328611004,\n",
              " 328611467,\n",
              " 328611654,\n",
              " 328632707,\n",
              " 328744210,\n",
              " 328860895,\n",
              " 328860948,\n",
              " 328861072,\n",
              " 328861126,\n",
              " 328861282,\n",
              " 328870472,\n",
              " 328875073,\n",
              " 328879562,\n",
              " 328879764,\n",
              " 328883562,\n",
              " 328883690,\n",
              " 328887932,\n",
              " 328887977,\n",
              " 328896613,\n",
              " 328905011,\n",
              " 328909029,\n",
              " 328909309,\n",
              " 328930845,\n",
              " 328935472,\n",
              " 328939480,\n",
              " 328948348,\n",
              " 328952123,\n",
              " 328956505,\n",
              " 329102850,\n",
              " 329206270,\n",
              " 329206392,\n",
              " 329206628,\n",
              " 329210713,\n",
              " 329211098,\n",
              " 329211374,\n",
              " 329214990,\n",
              " 329215304,\n",
              " 329215923,\n",
              " 329215976,\n",
              " 329215996,\n",
              " 329216050,\n",
              " 329220439,\n",
              " 329221260,\n",
              " 329225149,\n",
              " 329246255,\n",
              " 329254286,\n",
              " 329254539,\n",
              " 329257947,\n",
              " 329258532,\n",
              " 329289084,\n",
              " 329301513,\n",
              " 329301762,\n",
              " 329435390,\n",
              " 329552035,\n",
              " 329560716,\n",
              " 329561513,\n",
              " 329561615,\n",
              " 329561679,\n",
              " 329566174,\n",
              " 329566187,\n",
              " 329566197,\n",
              " 329566335,\n",
              " 329566467,\n",
              " 329574917,\n",
              " 329578247,\n",
              " 329581637,\n",
              " 329582105,\n",
              " 329599710,\n",
              " 329638509,\n",
              " 329646990,\n",
              " 329772284,\n",
              " 329897241,\n",
              " 329897255,\n",
              " 329901950,\n",
              " 329906396,\n",
              " 329918685,\n",
              " 329919036,\n",
              " 329966674,\n",
              " 329970706,\n",
              " 329978745,\n",
              " 329983926,\n",
              " 329988112,\n",
              " 330237771,\n",
              " 330238043,\n",
              " 330246657,\n",
              " 330256546,\n",
              " 330259272,\n",
              " 330260421,\n",
              " 330268940,\n",
              " 330276998,\n",
              " 330303073,\n",
              " 330316013,\n",
              " 330319977,\n",
              " 330319983,\n",
              " 330388864,\n",
              " 330604760,\n",
              " 330640044,\n",
              " 330640381,\n",
              " 330661529,\n",
              " 330661573,\n",
              " 330937034,\n",
              " 330989587,\n",
              " 330998090,\n",
              " 331002291,\n",
              " 331006655,\n",
              " 331011085,\n",
              " 331338959,\n",
              " 331343089,\n",
              " 331411807,\n",
              " 331662668,\n",
              " 331662710,\n",
              " 331662717,\n",
              " 331999156,\n",
              " 331999213,\n",
              " 332003372,\n",
              " 332003629,\n",
              " 332003730,\n",
              " 332003895,\n",
              " 332003899,\n",
              " 332007728,\n",
              " 332008063,\n",
              " 332008082,\n",
              " 332340127,\n",
              " 332340236,\n",
              " 332344539,\n",
              " 332344592,\n",
              " 332344670,\n",
              " 332344760,\n",
              " 332344908,\n",
              " 332349228,\n",
              " 332349327,\n",
              " 332353106,\n",
              " 332353336,\n",
              " 332353438,\n",
              " 332353566,\n",
              " 332685594,\n",
              " 332685751,\n",
              " 332685755,\n",
              " 332689776,\n",
              " 332690153,\n",
              " 333030976,\n",
              " 333031114,\n",
              " 333035349,\n",
              " 333039671,\n",
              " 354775482,\n",
              " 354779890,\n",
              " 354797099,\n",
              " 355073569,\n",
              " 355077858,\n",
              " 355086967,\n",
              " 355133859,\n",
              " 355453590,\n",
              " 355651857,\n",
              " 355816896,\n",
              " 356131764,\n",
              " 356136008,\n",
              " 356140100,\n",
              " 356140121,\n",
              " 356144721,\n",
              " 356153135,\n",
              " 356429209,\n",
              " 356467849,\n",
              " 356468264,\n",
              " 356472628,\n",
              " 356472645,\n",
              " 356472660,\n",
              " 356481698,\n",
              " 356486199,\n",
              " 356490891,\n",
              " 356494648,\n",
              " 356499529,\n",
              " 356503889,\n",
              " 356517307,\n",
              " 356670712,\n",
              " 356809554,\n",
              " 356809556,\n",
              " 356818390,\n",
              " 356818551,\n",
              " 356818664,\n",
              " 356823065,\n",
              " 356832459,\n",
              " 356832508,\n",
              " 356835277,\n",
              " 356844539,\n",
              " 356878521,\n",
              " 356909006,\n",
              " 356913605,\n",
              " 357146296,\n",
              " 357150583,\n",
              " 357160116,\n",
              " 357223889,\n",
              " 357224041,\n",
              " 357245785,\n",
              " 357249472,\n",
              " 357249642,\n",
              " 357249801,\n",
              " 357249838,\n",
              " 357249875,\n",
              " 357250005,\n",
              " 357250124,\n",
              " 357250238,\n",
              " 357490931,\n",
              " 357496172,\n",
              " 357505462,\n",
              " 357515217,\n",
              " 357522097,\n",
              " 357522570,\n",
              " 357530358,\n",
              " 357569116,\n",
              " 357569231,\n",
              " 357569240,\n",
              " 357573154,\n",
              " 357573309,\n",
              " 357581846,\n",
              " 357581860,\n",
              " 357581939,\n",
              " 357663649,\n",
              " 357814777,\n",
              " 357823645,\n",
              " 357832762,\n",
              " 357842366,\n",
              " 357855613,\n",
              " 357859600,\n",
              " 357862532,\n",
              " 357863646,\n",
              " 357901388,\n",
              " 357909813,\n",
              " 357919199,\n",
              " 357923095,\n",
              " 357932060,\n",
              " 357940977,\n",
              " 357944721,\n",
              " 357944930,\n",
              " 357945095,\n",
              " 357945155,\n",
              " 357949102,\n",
              " 357949364,\n",
              " 358197007,\n",
              " 358197600,\n",
              " 358208973,\n",
              " 358209090,\n",
              " 358209104,\n",
              " 358209154,\n",
              " 358213022,\n",
              " 358251878,\n",
              " 358259842,\n",
              " 358264919,\n",
              " 358264979,\n",
              " 358272988,\n",
              " 358281935,\n",
              " 358281997,\n",
              " 358285424,\n",
              " 358286194,\n",
              " 358286442,\n",
              " 358290727,\n",
              " 358424052,\n",
              " 358501372,\n",
              " 358514340,\n",
              " 358515278,\n",
              " 358529697,\n",
              " 358538040,\n",
              " 358538491,\n",
              " 358541542,\n",
              " 358545984,\n",
              " 358593042,\n",
              " 358613806,\n",
              " 358613830,\n",
              " 358631450,\n",
              " 358631537,\n",
              " 358635284,\n",
              " 358639742,\n",
              " 358639884,\n",
              " 358847551,\n",
              " 358865451,\n",
              " 358870425,\n",
              " 358874595,\n",
              " 358877435,\n",
              " 358878546,\n",
              " 358879127,\n",
              " 358890923,\n",
              " 358899943,\n",
              " 358976440,\n",
              " 358976515,\n",
              " 359027729,\n",
              " 359183551,\n",
              " 359210228,\n",
              " 359210479,\n",
              " 359214479,\n",
              " 359215268,\n",
              " 359218739,\n",
              " 359218762,\n",
              " 359219263,\n",
              " 359219503,\n",
              " 359219722,\n",
              " 359223830,\n",
              " 359227113,\n",
              " 359240144,\n",
              " 359240396,\n",
              " 359279388,\n",
              " 359287673,\n",
              " 359292188,\n",
              " 359317340,\n",
              " 359326764,\n",
              " 359524536,\n",
              " 359529027,\n",
              " 359555152,\n",
              " 359555628,\n",
              " 359555689,\n",
              " 359556017,\n",
              " 359560118,\n",
              " 359560701,\n",
              " 359560762,\n",
              " 359564703,\n",
              " 359568205,\n",
              " 359568460,\n",
              " 359581549,\n",
              " 359586213,\n",
              " 359594119,\n",
              " 359598627,\n",
              " 359628017,\n",
              " 359637824,\n",
              " 359891881,\n",
              " 359892436,\n",
              " 359892669,\n",
              " 359897288,\n",
              " 359897526,\n",
              " 359900300,\n",
              " 359901157,\n",
              " 359905678,\n",
              " 359913281,\n",
              " 359913782,\n",
              " 359917896,\n",
              " 359918228,\n",
              " 359926718,\n",
              " 359926731,\n",
              " 359926787,\n",
              " 359926923,\n",
              " ...]"
            ]
          },
          "execution_count": 51,
          "metadata": {},
          "output_type": "execute_result"
        }
      ],
      "source": [
        "bodyIds"
      ],
      "id": "dR23pH6tFpTg"
    },
    {
      "cell_type": "code",
      "execution_count": null,
      "metadata": {
        "colab": {
          "base_uri": "https://localhost:8080/",
          "height": 423
        },
        "id": "HxgAfVf8FYY6",
        "outputId": "3a0a13fd-a1b6-43f2-9029-78c9dd125d11"
      },
      "outputs": [
        {
          "data": {
            "text/html": [
              "\n",
              "  <div id=\"df-6bd8c074-6752-492e-b8fc-e67f9d6464eb\">\n",
              "    <div class=\"colab-df-container\">\n",
              "      <div>\n",
              "<style scoped>\n",
              "    .dataframe tbody tr th:only-of-type {\n",
              "        vertical-align: middle;\n",
              "    }\n",
              "\n",
              "    .dataframe tbody tr th {\n",
              "        vertical-align: top;\n",
              "    }\n",
              "\n",
              "    .dataframe thead th {\n",
              "        text-align: right;\n",
              "    }\n",
              "</style>\n",
              "<table border=\"1\" class=\"dataframe\">\n",
              "  <thead>\n",
              "    <tr style=\"text-align: right;\">\n",
              "      <th></th>\n",
              "      <th>post</th>\n",
              "      <th>pre</th>\n",
              "      <th>bodyid</th>\n",
              "    </tr>\n",
              "  </thead>\n",
              "  <tbody>\n",
              "    <tr>\n",
              "      <th>0</th>\n",
              "      <td>411</td>\n",
              "      <td>233</td>\n",
              "      <td>5812980768</td>\n",
              "    </tr>\n",
              "    <tr>\n",
              "      <th>1</th>\n",
              "      <td>114</td>\n",
              "      <td>103</td>\n",
              "      <td>480918798</td>\n",
              "    </tr>\n",
              "    <tr>\n",
              "      <th>2</th>\n",
              "      <td>646</td>\n",
              "      <td>219</td>\n",
              "      <td>599674785</td>\n",
              "    </tr>\n",
              "    <tr>\n",
              "      <th>3</th>\n",
              "      <td>1017</td>\n",
              "      <td>339</td>\n",
              "      <td>358424052</td>\n",
              "    </tr>\n",
              "    <tr>\n",
              "      <th>4</th>\n",
              "      <td>4143</td>\n",
              "      <td>392</td>\n",
              "      <td>326530038</td>\n",
              "    </tr>\n",
              "    <tr>\n",
              "      <th>...</th>\n",
              "      <td>...</td>\n",
              "      <td>...</td>\n",
              "      <td>...</td>\n",
              "    </tr>\n",
              "    <tr>\n",
              "      <th>24688</th>\n",
              "      <td>189</td>\n",
              "      <td>88</td>\n",
              "      <td>1535427917</td>\n",
              "    </tr>\n",
              "    <tr>\n",
              "      <th>24689</th>\n",
              "      <td>1395</td>\n",
              "      <td>193</td>\n",
              "      <td>1598296804</td>\n",
              "    </tr>\n",
              "    <tr>\n",
              "      <th>24690</th>\n",
              "      <td>325</td>\n",
              "      <td>45</td>\n",
              "      <td>5812994890</td>\n",
              "    </tr>\n",
              "    <tr>\n",
              "      <th>24691</th>\n",
              "      <td>173</td>\n",
              "      <td>139</td>\n",
              "      <td>1753034787</td>\n",
              "    </tr>\n",
              "    <tr>\n",
              "      <th>24692</th>\n",
              "      <td>299</td>\n",
              "      <td>205</td>\n",
              "      <td>5813061760</td>\n",
              "    </tr>\n",
              "  </tbody>\n",
              "</table>\n",
              "<p>24693 rows × 3 columns</p>\n",
              "</div>\n",
              "      <button class=\"colab-df-convert\" onclick=\"convertToInteractive('df-6bd8c074-6752-492e-b8fc-e67f9d6464eb')\"\n",
              "              title=\"Convert this dataframe to an interactive table.\"\n",
              "              style=\"display:none;\">\n",
              "        \n",
              "  <svg xmlns=\"http://www.w3.org/2000/svg\" height=\"24px\"viewBox=\"0 0 24 24\"\n",
              "       width=\"24px\">\n",
              "    <path d=\"M0 0h24v24H0V0z\" fill=\"none\"/>\n",
              "    <path d=\"M18.56 5.44l.94 2.06.94-2.06 2.06-.94-2.06-.94-.94-2.06-.94 2.06-2.06.94zm-11 1L8.5 8.5l.94-2.06 2.06-.94-2.06-.94L8.5 2.5l-.94 2.06-2.06.94zm10 10l.94 2.06.94-2.06 2.06-.94-2.06-.94-.94-2.06-.94 2.06-2.06.94z\"/><path d=\"M17.41 7.96l-1.37-1.37c-.4-.4-.92-.59-1.43-.59-.52 0-1.04.2-1.43.59L10.3 9.45l-7.72 7.72c-.78.78-.78 2.05 0 2.83L4 21.41c.39.39.9.59 1.41.59.51 0 1.02-.2 1.41-.59l7.78-7.78 2.81-2.81c.8-.78.8-2.07 0-2.86zM5.41 20L4 18.59l7.72-7.72 1.47 1.35L5.41 20z\"/>\n",
              "  </svg>\n",
              "      </button>\n",
              "      \n",
              "  <style>\n",
              "    .colab-df-container {\n",
              "      display:flex;\n",
              "      flex-wrap:wrap;\n",
              "      gap: 12px;\n",
              "    }\n",
              "\n",
              "    .colab-df-convert {\n",
              "      background-color: #E8F0FE;\n",
              "      border: none;\n",
              "      border-radius: 50%;\n",
              "      cursor: pointer;\n",
              "      display: none;\n",
              "      fill: #1967D2;\n",
              "      height: 32px;\n",
              "      padding: 0 0 0 0;\n",
              "      width: 32px;\n",
              "    }\n",
              "\n",
              "    .colab-df-convert:hover {\n",
              "      background-color: #E2EBFA;\n",
              "      box-shadow: 0px 1px 2px rgba(60, 64, 67, 0.3), 0px 1px 3px 1px rgba(60, 64, 67, 0.15);\n",
              "      fill: #174EA6;\n",
              "    }\n",
              "\n",
              "    [theme=dark] .colab-df-convert {\n",
              "      background-color: #3B4455;\n",
              "      fill: #D2E3FC;\n",
              "    }\n",
              "\n",
              "    [theme=dark] .colab-df-convert:hover {\n",
              "      background-color: #434B5C;\n",
              "      box-shadow: 0px 1px 3px 1px rgba(0, 0, 0, 0.15);\n",
              "      filter: drop-shadow(0px 1px 2px rgba(0, 0, 0, 0.3));\n",
              "      fill: #FFFFFF;\n",
              "    }\n",
              "  </style>\n",
              "\n",
              "      <script>\n",
              "        const buttonEl =\n",
              "          document.querySelector('#df-6bd8c074-6752-492e-b8fc-e67f9d6464eb button.colab-df-convert');\n",
              "        buttonEl.style.display =\n",
              "          google.colab.kernel.accessAllowed ? 'block' : 'none';\n",
              "\n",
              "        async function convertToInteractive(key) {\n",
              "          const element = document.querySelector('#df-6bd8c074-6752-492e-b8fc-e67f9d6464eb');\n",
              "          const dataTable =\n",
              "            await google.colab.kernel.invokeFunction('convertToInteractive',\n",
              "                                                     [key], {});\n",
              "          if (!dataTable) return;\n",
              "\n",
              "          const docLinkHtml = 'Like what you see? Visit the ' +\n",
              "            '<a target=\"_blank\" href=https://colab.research.google.com/notebooks/data_table.ipynb>data table notebook</a>'\n",
              "            + ' to learn more about interactive tables.';\n",
              "          element.innerHTML = '';\n",
              "          dataTable['output_type'] = 'display_data';\n",
              "          await google.colab.output.renderOutput(dataTable, element);\n",
              "          const docLink = document.createElement('div');\n",
              "          docLink.innerHTML = docLinkHtml;\n",
              "          element.appendChild(docLink);\n",
              "        }\n",
              "      </script>\n",
              "    </div>\n",
              "  </div>\n",
              "  "
            ],
            "text/plain": [
              "       post  pre      bodyid\n",
              "0       411  233  5812980768\n",
              "1       114  103   480918798\n",
              "2       646  219   599674785\n",
              "3      1017  339   358424052\n",
              "4      4143  392   326530038\n",
              "...     ...  ...         ...\n",
              "24688   189   88  1535427917\n",
              "24689  1395  193  1598296804\n",
              "24690   325   45  5812994890\n",
              "24691   173  139  1753034787\n",
              "24692   299  205  5813061760\n",
              "\n",
              "[24693 rows x 3 columns]"
            ]
          },
          "execution_count": 50,
          "metadata": {},
          "output_type": "execute_result"
        }
      ],
      "source": [
        "csv_synapses[['post', 'pre', 'bodyid']]"
      ],
      "id": "HxgAfVf8FYY6"
    },
    {
      "cell_type": "code",
      "execution_count": null,
      "metadata": {
        "colab": {
          "base_uri": "https://localhost:8080/"
        },
        "id": "mmbWL5fbF-CS",
        "outputId": "667235fa-d545-447f-825c-bdd9105f2ffb"
      },
      "outputs": [
        {
          "data": {
            "text/plain": [
              "True"
            ]
          },
          "execution_count": 55,
          "metadata": {},
          "output_type": "execute_result"
        }
      ],
      "source": [
        "5812980768 in bodyIds"
      ],
      "id": "mmbWL5fbF-CS"
    },
    {
      "cell_type": "code",
      "execution_count": null,
      "metadata": {
        "colab": {
          "base_uri": "https://localhost:8080/",
          "height": 661
        },
        "id": "GOC3Gm8QFtGD",
        "outputId": "a03245de-a69a-4d1b-d2dc-5bcc2cb915de"
      },
      "outputs": [
        {
          "data": {
            "text/html": [
              "\n",
              "  <div id=\"df-e986ae1e-5a00-40ff-bb3d-d615b6523a1d\">\n",
              "    <div class=\"colab-df-container\">\n",
              "      <div>\n",
              "<style scoped>\n",
              "    .dataframe tbody tr th:only-of-type {\n",
              "        vertical-align: middle;\n",
              "    }\n",
              "\n",
              "    .dataframe tbody tr th {\n",
              "        vertical-align: top;\n",
              "    }\n",
              "\n",
              "    .dataframe thead th {\n",
              "        text-align: right;\n",
              "    }\n",
              "</style>\n",
              "<table border=\"1\" class=\"dataframe\">\n",
              "  <thead>\n",
              "    <tr style=\"text-align: right;\">\n",
              "      <th></th>\n",
              "      <th>cellBodyFiber</th>\n",
              "      <th>bodyid</th>\n",
              "      <th>pre</th>\n",
              "      <th>post</th>\n",
              "      <th>upstream</th>\n",
              "      <th>downstream</th>\n",
              "      <th>status</th>\n",
              "      <th>statusLabel</th>\n",
              "      <th>cropped</th>\n",
              "      <th>name</th>\n",
              "      <th>...</th>\n",
              "      <th>total_inputs_density</th>\n",
              "      <th>axon_outputs_density</th>\n",
              "      <th>dend_outputs_density</th>\n",
              "      <th>axon_inputs_density</th>\n",
              "      <th>dend_inputs_density</th>\n",
              "      <th>total_length</th>\n",
              "      <th>axon_length</th>\n",
              "      <th>dend_length</th>\n",
              "      <th>pd_length</th>\n",
              "      <th>segregation_index</th>\n",
              "    </tr>\n",
              "  </thead>\n",
              "  <tbody>\n",
              "    <tr>\n",
              "      <th>0</th>\n",
              "      <td>PDL03</td>\n",
              "      <td>5812980768</td>\n",
              "      <td>233</td>\n",
              "      <td>411</td>\n",
              "      <td>411</td>\n",
              "      <td>742</td>\n",
              "      <td>Traced</td>\n",
              "      <td>Roughly traced</td>\n",
              "      <td>False</td>\n",
              "      <td>KCab-s_R</td>\n",
              "      <td>...</td>\n",
              "      <td>0.650109</td>\n",
              "      <td>1.955320</td>\n",
              "      <td>1.200554</td>\n",
              "      <td>0.990357</td>\n",
              "      <td>0.734604</td>\n",
              "      <td>632.201495</td>\n",
              "      <td>118.139233</td>\n",
              "      <td>238.223429</td>\n",
              "      <td>35.604968</td>\n",
              "      <td>0.001535</td>\n",
              "    </tr>\n",
              "    <tr>\n",
              "      <th>1</th>\n",
              "      <td>PDL13</td>\n",
              "      <td>480918798</td>\n",
              "      <td>103</td>\n",
              "      <td>114</td>\n",
              "      <td>114</td>\n",
              "      <td>959</td>\n",
              "      <td>Traced</td>\n",
              "      <td>Roughly traced</td>\n",
              "      <td>False</td>\n",
              "      <td>LHPD3a4_c_R</td>\n",
              "      <td>...</td>\n",
              "      <td>0.126806</td>\n",
              "      <td>2.580372</td>\n",
              "      <td>0.191259</td>\n",
              "      <td>0.234836</td>\n",
              "      <td>0.205426</td>\n",
              "      <td>883.242118</td>\n",
              "      <td>353.437411</td>\n",
              "      <td>141.169837</td>\n",
              "      <td>25.929089</td>\n",
              "      <td>0.090287</td>\n",
              "    </tr>\n",
              "    <tr>\n",
              "      <th>2</th>\n",
              "      <td>PDL02</td>\n",
              "      <td>599674785</td>\n",
              "      <td>219</td>\n",
              "      <td>646</td>\n",
              "      <td>646</td>\n",
              "      <td>710</td>\n",
              "      <td>Traced</td>\n",
              "      <td>Roughly traced</td>\n",
              "      <td>False</td>\n",
              "      <td>KCab-m_R</td>\n",
              "      <td>...</td>\n",
              "      <td>0.679095</td>\n",
              "      <td>1.501290</td>\n",
              "      <td>0.249419</td>\n",
              "      <td>1.162849</td>\n",
              "      <td>0.657951</td>\n",
              "      <td>949.793992</td>\n",
              "      <td>345.702765</td>\n",
              "      <td>232.540022</td>\n",
              "      <td>238.696006</td>\n",
              "      <td>0.037496</td>\n",
              "    </tr>\n",
              "    <tr>\n",
              "      <th>3</th>\n",
              "      <td>AVM10</td>\n",
              "      <td>358424052</td>\n",
              "      <td>339</td>\n",
              "      <td>1017</td>\n",
              "      <td>1017</td>\n",
              "      <td>1804</td>\n",
              "      <td>Traced</td>\n",
              "      <td>Roughly traced</td>\n",
              "      <td>False</td>\n",
              "      <td>FB8G_L</td>\n",
              "      <td>...</td>\n",
              "      <td>0.551684</td>\n",
              "      <td>1.719117</td>\n",
              "      <td>0.248872</td>\n",
              "      <td>0.869320</td>\n",
              "      <td>0.325608</td>\n",
              "      <td>1827.133769</td>\n",
              "      <td>973.173907</td>\n",
              "      <td>482.174694</td>\n",
              "      <td>110.849331</td>\n",
              "      <td>0.015147</td>\n",
              "    </tr>\n",
              "    <tr>\n",
              "      <th>4</th>\n",
              "      <td>PDM22</td>\n",
              "      <td>326530038</td>\n",
              "      <td>392</td>\n",
              "      <td>4143</td>\n",
              "      <td>4143</td>\n",
              "      <td>2972</td>\n",
              "      <td>Traced</td>\n",
              "      <td>Roughly traced</td>\n",
              "      <td>False</td>\n",
              "      <td>SMP505_R</td>\n",
              "      <td>...</td>\n",
              "      <td>0.552166</td>\n",
              "      <td>0.869836</td>\n",
              "      <td>0.198318</td>\n",
              "      <td>0.637777</td>\n",
              "      <td>0.680308</td>\n",
              "      <td>7465.149818</td>\n",
              "      <td>2602.790350</td>\n",
              "      <td>3549.861045</td>\n",
              "      <td>182.180829</td>\n",
              "      <td>0.095016</td>\n",
              "    </tr>\n",
              "    <tr>\n",
              "      <th>...</th>\n",
              "      <td>...</td>\n",
              "      <td>...</td>\n",
              "      <td>...</td>\n",
              "      <td>...</td>\n",
              "      <td>...</td>\n",
              "      <td>...</td>\n",
              "      <td>...</td>\n",
              "      <td>...</td>\n",
              "      <td>...</td>\n",
              "      <td>...</td>\n",
              "      <td>...</td>\n",
              "      <td>...</td>\n",
              "      <td>...</td>\n",
              "      <td>...</td>\n",
              "      <td>...</td>\n",
              "      <td>...</td>\n",
              "      <td>...</td>\n",
              "      <td>...</td>\n",
              "      <td>...</td>\n",
              "      <td>...</td>\n",
              "      <td>...</td>\n",
              "    </tr>\n",
              "    <tr>\n",
              "      <th>24688</th>\n",
              "      <td>AVL04</td>\n",
              "      <td>1535427917</td>\n",
              "      <td>88</td>\n",
              "      <td>189</td>\n",
              "      <td>189</td>\n",
              "      <td>634</td>\n",
              "      <td>Traced</td>\n",
              "      <td>Roughly traced</td>\n",
              "      <td>False</td>\n",
              "      <td>WED040_a_R</td>\n",
              "      <td>...</td>\n",
              "      <td>0.169599</td>\n",
              "      <td>NaN</td>\n",
              "      <td>0.571944</td>\n",
              "      <td>NaN</td>\n",
              "      <td>0.169599</td>\n",
              "      <td>1108.500157</td>\n",
              "      <td>NaN</td>\n",
              "      <td>1108.500157</td>\n",
              "      <td>NaN</td>\n",
              "      <td>NaN</td>\n",
              "    </tr>\n",
              "    <tr>\n",
              "      <th>24689</th>\n",
              "      <td>AVL05</td>\n",
              "      <td>1598296804</td>\n",
              "      <td>193</td>\n",
              "      <td>1395</td>\n",
              "      <td>1395</td>\n",
              "      <td>514</td>\n",
              "      <td>Traced</td>\n",
              "      <td>Roughly traced</td>\n",
              "      <td>False</td>\n",
              "      <td>PVLP023_R</td>\n",
              "      <td>...</td>\n",
              "      <td>0.537213</td>\n",
              "      <td>NaN</td>\n",
              "      <td>0.196862</td>\n",
              "      <td>NaN</td>\n",
              "      <td>0.537213</td>\n",
              "      <td>2585.566400</td>\n",
              "      <td>NaN</td>\n",
              "      <td>2585.566400</td>\n",
              "      <td>NaN</td>\n",
              "      <td>NaN</td>\n",
              "    </tr>\n",
              "    <tr>\n",
              "      <th>24690</th>\n",
              "      <td>PVM02</td>\n",
              "      <td>5812994890</td>\n",
              "      <td>45</td>\n",
              "      <td>325</td>\n",
              "      <td>325</td>\n",
              "      <td>212</td>\n",
              "      <td>Traced</td>\n",
              "      <td>Roughly traced</td>\n",
              "      <td>False</td>\n",
              "      <td>PS224_R</td>\n",
              "      <td>...</td>\n",
              "      <td>0.242253</td>\n",
              "      <td>NaN</td>\n",
              "      <td>0.152806</td>\n",
              "      <td>NaN</td>\n",
              "      <td>0.242253</td>\n",
              "      <td>1341.570095</td>\n",
              "      <td>NaN</td>\n",
              "      <td>1341.570095</td>\n",
              "      <td>NaN</td>\n",
              "      <td>NaN</td>\n",
              "    </tr>\n",
              "    <tr>\n",
              "      <th>24691</th>\n",
              "      <td>NaN</td>\n",
              "      <td>1753034787</td>\n",
              "      <td>139</td>\n",
              "      <td>173</td>\n",
              "      <td>173</td>\n",
              "      <td>872</td>\n",
              "      <td>Traced</td>\n",
              "      <td>Roughly traced</td>\n",
              "      <td>False</td>\n",
              "      <td>LC18</td>\n",
              "      <td>...</td>\n",
              "      <td>0.334608</td>\n",
              "      <td>NaN</td>\n",
              "      <td>1.696385</td>\n",
              "      <td>NaN</td>\n",
              "      <td>0.334608</td>\n",
              "      <td>514.034171</td>\n",
              "      <td>NaN</td>\n",
              "      <td>514.034171</td>\n",
              "      <td>NaN</td>\n",
              "      <td>NaN</td>\n",
              "    </tr>\n",
              "    <tr>\n",
              "      <th>24692</th>\n",
              "      <td>AVL21</td>\n",
              "      <td>5813061760</td>\n",
              "      <td>205</td>\n",
              "      <td>299</td>\n",
              "      <td>299</td>\n",
              "      <td>1571</td>\n",
              "      <td>Traced</td>\n",
              "      <td>Roughly traced</td>\n",
              "      <td>False</td>\n",
              "      <td>AVLP424_R</td>\n",
              "      <td>...</td>\n",
              "      <td>0.262616</td>\n",
              "      <td>NaN</td>\n",
              "      <td>1.384462</td>\n",
              "      <td>NaN</td>\n",
              "      <td>0.262616</td>\n",
              "      <td>1134.736820</td>\n",
              "      <td>NaN</td>\n",
              "      <td>1134.736820</td>\n",
              "      <td>NaN</td>\n",
              "      <td>NaN</td>\n",
              "    </tr>\n",
              "  </tbody>\n",
              "</table>\n",
              "<p>18797 rows × 63 columns</p>\n",
              "</div>\n",
              "      <button class=\"colab-df-convert\" onclick=\"convertToInteractive('df-e986ae1e-5a00-40ff-bb3d-d615b6523a1d')\"\n",
              "              title=\"Convert this dataframe to an interactive table.\"\n",
              "              style=\"display:none;\">\n",
              "        \n",
              "  <svg xmlns=\"http://www.w3.org/2000/svg\" height=\"24px\"viewBox=\"0 0 24 24\"\n",
              "       width=\"24px\">\n",
              "    <path d=\"M0 0h24v24H0V0z\" fill=\"none\"/>\n",
              "    <path d=\"M18.56 5.44l.94 2.06.94-2.06 2.06-.94-2.06-.94-.94-2.06-.94 2.06-2.06.94zm-11 1L8.5 8.5l.94-2.06 2.06-.94-2.06-.94L8.5 2.5l-.94 2.06-2.06.94zm10 10l.94 2.06.94-2.06 2.06-.94-2.06-.94-.94-2.06-.94 2.06-2.06.94z\"/><path d=\"M17.41 7.96l-1.37-1.37c-.4-.4-.92-.59-1.43-.59-.52 0-1.04.2-1.43.59L10.3 9.45l-7.72 7.72c-.78.78-.78 2.05 0 2.83L4 21.41c.39.39.9.59 1.41.59.51 0 1.02-.2 1.41-.59l7.78-7.78 2.81-2.81c.8-.78.8-2.07 0-2.86zM5.41 20L4 18.59l7.72-7.72 1.47 1.35L5.41 20z\"/>\n",
              "  </svg>\n",
              "      </button>\n",
              "      \n",
              "  <style>\n",
              "    .colab-df-container {\n",
              "      display:flex;\n",
              "      flex-wrap:wrap;\n",
              "      gap: 12px;\n",
              "    }\n",
              "\n",
              "    .colab-df-convert {\n",
              "      background-color: #E8F0FE;\n",
              "      border: none;\n",
              "      border-radius: 50%;\n",
              "      cursor: pointer;\n",
              "      display: none;\n",
              "      fill: #1967D2;\n",
              "      height: 32px;\n",
              "      padding: 0 0 0 0;\n",
              "      width: 32px;\n",
              "    }\n",
              "\n",
              "    .colab-df-convert:hover {\n",
              "      background-color: #E2EBFA;\n",
              "      box-shadow: 0px 1px 2px rgba(60, 64, 67, 0.3), 0px 1px 3px 1px rgba(60, 64, 67, 0.15);\n",
              "      fill: #174EA6;\n",
              "    }\n",
              "\n",
              "    [theme=dark] .colab-df-convert {\n",
              "      background-color: #3B4455;\n",
              "      fill: #D2E3FC;\n",
              "    }\n",
              "\n",
              "    [theme=dark] .colab-df-convert:hover {\n",
              "      background-color: #434B5C;\n",
              "      box-shadow: 0px 1px 3px 1px rgba(0, 0, 0, 0.15);\n",
              "      filter: drop-shadow(0px 1px 2px rgba(0, 0, 0, 0.3));\n",
              "      fill: #FFFFFF;\n",
              "    }\n",
              "  </style>\n",
              "\n",
              "      <script>\n",
              "        const buttonEl =\n",
              "          document.querySelector('#df-e986ae1e-5a00-40ff-bb3d-d615b6523a1d button.colab-df-convert');\n",
              "        buttonEl.style.display =\n",
              "          google.colab.kernel.accessAllowed ? 'block' : 'none';\n",
              "\n",
              "        async function convertToInteractive(key) {\n",
              "          const element = document.querySelector('#df-e986ae1e-5a00-40ff-bb3d-d615b6523a1d');\n",
              "          const dataTable =\n",
              "            await google.colab.kernel.invokeFunction('convertToInteractive',\n",
              "                                                     [key], {});\n",
              "          if (!dataTable) return;\n",
              "\n",
              "          const docLinkHtml = 'Like what you see? Visit the ' +\n",
              "            '<a target=\"_blank\" href=https://colab.research.google.com/notebooks/data_table.ipynb>data table notebook</a>'\n",
              "            + ' to learn more about interactive tables.';\n",
              "          element.innerHTML = '';\n",
              "          dataTable['output_type'] = 'display_data';\n",
              "          await google.colab.output.renderOutput(dataTable, element);\n",
              "          const docLink = document.createElement('div');\n",
              "          docLink.innerHTML = docLinkHtml;\n",
              "          element.appendChild(docLink);\n",
              "        }\n",
              "      </script>\n",
              "    </div>\n",
              "  </div>\n",
              "  "
            ],
            "text/plain": [
              "      cellBodyFiber      bodyid  pre  post  upstream  downstream  status  \\\n",
              "0             PDL03  5812980768  233   411       411         742  Traced   \n",
              "1             PDL13   480918798  103   114       114         959  Traced   \n",
              "2             PDL02   599674785  219   646       646         710  Traced   \n",
              "3             AVM10   358424052  339  1017      1017        1804  Traced   \n",
              "4             PDM22   326530038  392  4143      4143        2972  Traced   \n",
              "...             ...         ...  ...   ...       ...         ...     ...   \n",
              "24688         AVL04  1535427917   88   189       189         634  Traced   \n",
              "24689         AVL05  1598296804  193  1395      1395         514  Traced   \n",
              "24690         PVM02  5812994890   45   325       325         212  Traced   \n",
              "24691           NaN  1753034787  139   173       173         872  Traced   \n",
              "24692         AVL21  5813061760  205   299       299        1571  Traced   \n",
              "\n",
              "          statusLabel cropped         name  ... total_inputs_density  \\\n",
              "0      Roughly traced   False     KCab-s_R  ...             0.650109   \n",
              "1      Roughly traced   False  LHPD3a4_c_R  ...             0.126806   \n",
              "2      Roughly traced   False     KCab-m_R  ...             0.679095   \n",
              "3      Roughly traced   False       FB8G_L  ...             0.551684   \n",
              "4      Roughly traced   False     SMP505_R  ...             0.552166   \n",
              "...               ...     ...          ...  ...                  ...   \n",
              "24688  Roughly traced   False   WED040_a_R  ...             0.169599   \n",
              "24689  Roughly traced   False    PVLP023_R  ...             0.537213   \n",
              "24690  Roughly traced   False      PS224_R  ...             0.242253   \n",
              "24691  Roughly traced   False         LC18  ...             0.334608   \n",
              "24692  Roughly traced   False    AVLP424_R  ...             0.262616   \n",
              "\n",
              "       axon_outputs_density dend_outputs_density  axon_inputs_density  \\\n",
              "0                  1.955320             1.200554             0.990357   \n",
              "1                  2.580372             0.191259             0.234836   \n",
              "2                  1.501290             0.249419             1.162849   \n",
              "3                  1.719117             0.248872             0.869320   \n",
              "4                  0.869836             0.198318             0.637777   \n",
              "...                     ...                  ...                  ...   \n",
              "24688                   NaN             0.571944                  NaN   \n",
              "24689                   NaN             0.196862                  NaN   \n",
              "24690                   NaN             0.152806                  NaN   \n",
              "24691                   NaN             1.696385                  NaN   \n",
              "24692                   NaN             1.384462                  NaN   \n",
              "\n",
              "      dend_inputs_density total_length  axon_length  dend_length   pd_length  \\\n",
              "0                0.734604   632.201495   118.139233   238.223429   35.604968   \n",
              "1                0.205426   883.242118   353.437411   141.169837   25.929089   \n",
              "2                0.657951   949.793992   345.702765   232.540022  238.696006   \n",
              "3                0.325608  1827.133769   973.173907   482.174694  110.849331   \n",
              "4                0.680308  7465.149818  2602.790350  3549.861045  182.180829   \n",
              "...                   ...          ...          ...          ...         ...   \n",
              "24688            0.169599  1108.500157          NaN  1108.500157         NaN   \n",
              "24689            0.537213  2585.566400          NaN  2585.566400         NaN   \n",
              "24690            0.242253  1341.570095          NaN  1341.570095         NaN   \n",
              "24691            0.334608   514.034171          NaN   514.034171         NaN   \n",
              "24692            0.262616  1134.736820          NaN  1134.736820         NaN   \n",
              "\n",
              "      segregation_index  \n",
              "0              0.001535  \n",
              "1              0.090287  \n",
              "2              0.037496  \n",
              "3              0.015147  \n",
              "4              0.095016  \n",
              "...                 ...  \n",
              "24688               NaN  \n",
              "24689               NaN  \n",
              "24690               NaN  \n",
              "24691               NaN  \n",
              "24692               NaN  \n",
              "\n",
              "[18797 rows x 63 columns]"
            ]
          },
          "execution_count": 53,
          "metadata": {},
          "output_type": "execute_result"
        }
      ],
      "source": [
        "csv_synapses[csv_synapses['bodyid'].isin(bodyIds)]"
      ],
      "id": "GOC3Gm8QFtGD"
    },
    {
      "cell_type": "code",
      "execution_count": 31,
      "metadata": {
        "id": "JtCC_VjlaFUF"
      },
      "outputs": [],
      "source": [
        "# get in degree, out degree\n",
        "in_degree = np.zeros(num_nodes)\n",
        "out_degree = np.zeros(num_nodes)\n",
        "\n",
        "for index, row in csv_synapses.iterrows():\n",
        "    if row['bodyid'] in bodyIds:\n",
        "        idx = bodyId_to_idx(row['bodyid'])\n",
        "        in_degree[idx] = row['post']\n",
        "        out_degree[idx] = row['pre']"
      ],
      "id": "JtCC_VjlaFUF"
    },
    {
      "cell_type": "code",
      "execution_count": null,
      "metadata": {
        "colab": {
          "base_uri": "https://localhost:8080/"
        },
        "id": "s_UYcCgVGULX",
        "outputId": "11cc1193-3231-4d06-dace-4a3eaa1a7df1"
      },
      "outputs": [
        {
          "data": {
            "text/plain": [
              "5093605.0"
            ]
          },
          "execution_count": 57,
          "metadata": {},
          "output_type": "execute_result"
        }
      ],
      "source": [
        "sum(out_degree)"
      ],
      "id": "s_UYcCgVGULX"
    },
    {
      "cell_type": "code",
      "execution_count": 32,
      "metadata": {
        "colab": {
          "base_uri": "https://localhost:8080/",
          "height": 490
        },
        "id": "vUJ_ykxfpet5",
        "outputId": "281288cd-a8da-4a30-eea6-be16338fdc82"
      },
      "outputs": [
        {
          "output_type": "execute_result",
          "data": {
            "text/plain": [
              "Text(0, 0.5, 'In degree')"
            ]
          },
          "metadata": {},
          "execution_count": 32
        },
        {
          "output_type": "display_data",
          "data": {
            "text/plain": [
              "<Figure size 640x480 with 1 Axes>"
            ],
            "image/png": "[encoded data removed]"
          },
          "metadata": {}
        }
      ],
      "source": [
        "# graphs of indegree, outdegree\n",
        "import matplotlib.pyplot as plt\n",
        "plt.bar(range(len(bodyIds)), in_degree)\n",
        "plt.title('In degrees')\n",
        "plt.xlabel('bodyId idx')\n",
        "plt.ylabel('In degree')"
      ],
      "id": "vUJ_ykxfpet5"
    },
    {
      "cell_type": "code",
      "source": [
        "import matplotlib.pyplot as plt\n",
        "plt.bar(range(len(bodyIds)), in_degree)\n",
        "plt.title('In degrees')\n",
        "plt.xlabel('bodyId idx')\n",
        "plt.ylabel('In degree')"
      ],
      "metadata": {
        "id": "w5PqOLtTQw0J",
        "outputId": "e0244434-e16c-4aa3-fb9e-7acf1e9ccc8c",
        "colab": {
          "base_uri": "https://localhost:8080/",
          "height": 490
        }
      },
      "id": "w5PqOLtTQw0J",
      "execution_count": 35,
      "outputs": [
        {
          "output_type": "execute_result",
          "data": {
            "text/plain": [
              "Text(0, 0.5, 'In degree')"
            ]
          },
          "metadata": {},
          "execution_count": 35
        },
        {
          "output_type": "display_data",
          "data": {
            "text/plain": [
              "<Figure size 640x480 with 1 Axes>"
            ],
            "image/png": "[encoded data removed]"
          },
          "metadata": {}
        }
      ]
    },
    {
      "cell_type": "code",
      "execution_count": 33,
      "metadata": {
        "colab": {
          "base_uri": "https://localhost:8080/",
          "height": 490
        },
        "id": "vcHw_9qzNedn",
        "outputId": "92782244-6c98-4bb8-a036-c50ceb27d96c"
      },
      "outputs": [
        {
          "output_type": "execute_result",
          "data": {
            "text/plain": [
              "Text(0, 0.5, 'In degree')"
            ]
          },
          "metadata": {},
          "execution_count": 33
        },
        {
          "output_type": "display_data",
          "data": {
            "text/plain": [
              "<Figure size 640x480 with 1 Axes>"
            ],
            "image/png": "[encoded data removed]"
          },
          "metadata": {}
        }
      ],
      "source": [
        "import matplotlib.pyplot as plt\n",
        "plt.bar(range(1500, 2000), in_degree[1500:2000])\n",
        "plt.title('In degrees')\n",
        "plt.xlabel('bodyId idx')\n",
        "plt.ylabel('In degree')"
      ],
      "id": "vcHw_9qzNedn"
    },
    {
      "cell_type": "code",
      "execution_count": 36,
      "metadata": {
        "id": "RRb2ILZdKUjS"
      },
      "outputs": [],
      "source": [
        "top_in_idxs = sorted(range(len(bodyIds)), key = lambda x: in_degree[x], reverse = True)[:20]"
      ],
      "id": "RRb2ILZdKUjS"
    },
    {
      "cell_type": "code",
      "execution_count": 51,
      "metadata": {
        "colab": {
          "base_uri": "https://localhost:8080/"
        },
        "id": "bcEigXpnKUjS",
        "outputId": "53d1d815-bf8b-4a8d-fcb1-d2f5ce6a3330"
      },
      "outputs": [
        {
          "output_type": "execute_result",
          "data": {
            "text/plain": [
              "array([127148.,  77269.,  32516.,  30007.,  29221.,  28662.,  27642.,\n",
              "        27350.,  27110.,  26007.,  23111.,  23052.,  22759.,  21380.,\n",
              "        21254.,  21195.,  21000.,  20981.,  20616.,  20281.])"
            ]
          },
          "metadata": {},
          "execution_count": 51
        }
      ],
      "source": [
        "in_degree[top_in_idxs]"
      ],
      "id": "bcEigXpnKUjS"
    },
    {
      "cell_type": "code",
      "source": [
        "plt.bar([str(bodyIds[idx]) for idx in top_in_idxs] + ['average'], np.concatenate([in_degree[top_in_idxs] , [np.mean(in_degree)]]) )\n",
        "plt.title('Top neurons by in degree')\n",
        "plt.xlabel('bodyId')\n",
        "plt.xticks(rotation = 90)\n",
        "plt.ylabel('in degree')"
      ],
      "metadata": {
        "id": "xpMiSbxfRSoV",
        "outputId": "75569ed6-27e2-454c-f224-c09ef174682f",
        "colab": {
          "base_uri": "https://localhost:8080/",
          "height": 564
        }
      },
      "id": "xpMiSbxfRSoV",
      "execution_count": 54,
      "outputs": [
        {
          "output_type": "execute_result",
          "data": {
            "text/plain": [
              "Text(0, 0.5, 'in degree')"
            ]
          },
          "metadata": {},
          "execution_count": 54
        },
        {
          "output_type": "display_data",
          "data": {
            "text/plain": [
              "<Figure size 640x480 with 1 Axes>"
            ],
            "image/png": "[encoded data removed]"
          },
          "metadata": {}
        }
      ]
    },
    {
      "cell_type": "code",
      "execution_count": null,
      "metadata": {
        "colab": {
          "base_uri": "https://localhost:8080/"
        },
        "id": "U5PjbXKBKi5T",
        "outputId": "0d8cbc11-7360-4fe2-b7dd-83f75370a675"
      },
      "outputs": [
        {
          "data": {
            "text/plain": [
              "[1710,\n",
              " 18571,\n",
              " 3471,\n",
              " 1702,\n",
              " 4080,\n",
              " 17337,\n",
              " 1684,\n",
              " 13070,\n",
              " 5347,\n",
              " 17067,\n",
              " 8268,\n",
              " 363,\n",
              " 17618,\n",
              " 1645,\n",
              " 2548,\n",
              " 6948,\n",
              " 1634,\n",
              " 15250,\n",
              " 18806,\n",
              " 7655]"
            ]
          },
          "execution_count": 68,
          "metadata": {},
          "output_type": "execute_result"
        }
      ],
      "source": [
        "top_in_idxs"
      ],
      "id": "U5PjbXKBKi5T"
    },
    {
      "cell_type": "code",
      "execution_count": null,
      "metadata": {
        "colab": {
          "base_uri": "https://localhost:8080/"
        },
        "id": "b4ErzJc4KmIG",
        "outputId": "1d5d6090-5102-4574-fa1a-c17b5a342704"
      },
      "outputs": [
        {
          "name": "stdout",
          "output_type": "stream",
          "text": [
            "127148.0\n",
            "16190.0\n",
            "425790257\n",
            "         bodyId instance type\n",
            "4492  425790257    APL_R  APL\n"
          ]
        }
      ],
      "source": [
        "print(in_degree[1710])\n",
        "print(out_degree[1710]) # this neuron has the most combined in , out degree - I predict it's APL (Got it!!!)\n",
        "print(bodyIds[1710])\n",
        "print(traced_neurons[traced_neurons['bodyId'] == bodyIds[1710]])"
      ],
      "id": "b4ErzJc4KmIG"
    },
    {
      "cell_type": "code",
      "execution_count": 61,
      "metadata": {
        "colab": {
          "base_uri": "https://localhost:8080/",
          "height": 490
        },
        "id": "4UyLjw4uE0q3",
        "outputId": "b21da559-18bc-4051-8656-a79e7ae27f71"
      },
      "outputs": [
        {
          "output_type": "execute_result",
          "data": {
            "text/plain": [
              "Text(0, 0.5, 'Out degree')"
            ]
          },
          "metadata": {},
          "execution_count": 61
        },
        {
          "output_type": "display_data",
          "data": {
            "text/plain": [
              "<Figure size 640x480 with 1 Axes>"
            ],
            "image/png": "[encoded data removed]"
          },
          "metadata": {}
        }
      ],
      "source": [
        "plt.bar(range(len(bodyIds)), out_degree)\n",
        "plt.title('Out degrees')\n",
        "plt.xlabel('bodyId idx')\n",
        "plt.ylabel('Out degree')"
      ],
      "id": "4UyLjw4uE0q3"
    },
    {
      "cell_type": "code",
      "source": [
        "plt.bar(range(len(bodyIds)-500, len(bodyIds)), out_degree[-500:])\n",
        "plt.title('Out degrees')\n",
        "plt.xlabel('bodyId idx')\n",
        "plt.ylabel('Out degree')"
      ],
      "metadata": {
        "id": "WFPzu5DlUdQy",
        "outputId": "0e69eb1a-acbd-4e3d-e53d-6c4a981141dc",
        "colab": {
          "base_uri": "https://localhost:8080/",
          "height": 490
        }
      },
      "id": "WFPzu5DlUdQy",
      "execution_count": 62,
      "outputs": [
        {
          "output_type": "execute_result",
          "data": {
            "text/plain": [
              "Text(0, 0.5, 'Out degree')"
            ]
          },
          "metadata": {},
          "execution_count": 62
        },
        {
          "output_type": "display_data",
          "data": {
            "text/plain": [
              "<Figure size 640x480 with 1 Axes>"
            ],
            "image/png": "[encoded data removed]"
          },
          "metadata": {}
        }
      ]
    },
    {
      "cell_type": "code",
      "execution_count": 55,
      "metadata": {
        "id": "QUnzyRAPphLc"
      },
      "outputs": [],
      "source": [
        ",top_out_idxs = sorted(range(len(bodyIds)), key = lambda x: out_degree[x], reverse = True)[:20]"
      ],
      "id": "QUnzyRAPphLc"
    },
    {
      "cell_type": "code",
      "source": [
        "top_out_idxs[:5]"
      ],
      "metadata": {
        "id": "9mxgo2k-UWHz",
        "outputId": "e5aeef47-22fb-4341-84c4-2d75c6dd04a8",
        "colab": {
          "base_uri": "https://localhost:8080/"
        }
      },
      "id": "9mxgo2k-UWHz",
      "execution_count": 58,
      "outputs": [
        {
          "output_type": "execute_result",
          "data": {
            "text/plain": [
              "[18571, 1710, 721, 17067, 13070]"
            ]
          },
          "metadata": {},
          "execution_count": 58
        }
      ]
    },
    {
      "cell_type": "code",
      "execution_count": 56,
      "metadata": {
        "colab": {
          "base_uri": "https://localhost:8080/"
        },
        "id": "GhuqIh8sIZIM",
        "outputId": "cbfe5afd-b9ad-4a46-d74e-01a4e2d4abf0"
      },
      "outputs": [
        {
          "output_type": "execute_result",
          "data": {
            "text/plain": [
              "array([17628., 16190.,  8626.,  8150.,  7997.,  7499.,  7490.,  7281.,\n",
              "        7088.,  6861.,  6540.,  5875.,  5869.,  5584.,  5226.,  5032.,\n",
              "        5016.,  4957.,  4812.,  4789.])"
            ]
          },
          "metadata": {},
          "execution_count": 56
        }
      ],
      "source": [
        "out_degree[top_out_idxs]"
      ],
      "id": "GhuqIh8sIZIM"
    },
    {
      "cell_type": "code",
      "source": [
        "print(np.mean(in_degree), np.mean(out_degree))"
      ],
      "metadata": {
        "id": "_A-UVF42WiUY",
        "outputId": "4f2a7119-78fb-4743-ca28-bcc4dda0bc29",
        "colab": {
          "base_uri": "https://localhost:8080/"
        }
      },
      "id": "_A-UVF42WiUY",
      "execution_count": 63,
      "outputs": [
        {
          "output_type": "stream",
          "name": "stdout",
          "text": [
            "895.0161915379307 270.40425757817064\n"
          ]
        }
      ]
    },
    {
      "cell_type": "code",
      "source": [],
      "metadata": {
        "id": "rrcWKg_YWjIL"
      },
      "id": "rrcWKg_YWjIL",
      "execution_count": null,
      "outputs": []
    },
    {
      "cell_type": "code",
      "source": [
        "plt.bar([str(bodyIds[idx]) for idx in top_out_idxs] + ['average'], np.concatenate([out_degree[top_out_idxs] , [np.mean(out_degree)]]) )\n",
        "plt.title('Top neurons by out degree')\n",
        "plt.xlabel('bodyId')\n",
        "plt.xticks(rotation = 90)\n",
        "plt.ylabel('out degree')"
      ],
      "metadata": {
        "id": "S9yluLobTmTs",
        "outputId": "fbeb0ae0-5f99-4125-8560-c08cfe5b8011",
        "colab": {
          "base_uri": "https://localhost:8080/",
          "height": 564
        }
      },
      "id": "S9yluLobTmTs",
      "execution_count": 57,
      "outputs": [
        {
          "output_type": "execute_result",
          "data": {
            "text/plain": [
              "Text(0, 0.5, 'out degree')"
            ]
          },
          "metadata": {},
          "execution_count": 57
        },
        {
          "output_type": "display_data",
          "data": {
            "text/plain": [
              "<Figure size 640x480 with 1 Axes>"
            ],
            "image/png": "[encoded data removed]"
          },
          "metadata": {}
        }
      ]
    },
    {
      "cell_type": "code",
      "execution_count": null,
      "metadata": {
        "colab": {
          "base_uri": "https://localhost:8080/"
        },
        "id": "aUvpq7sDIeXc",
        "outputId": "7e5bbe68-8e84-4780-ba5c-c315e21b8b26"
      },
      "outputs": [
        {
          "data": {
            "text/plain": [
              "18571"
            ]
          },
          "execution_count": 73,
          "metadata": {},
          "output_type": "execute_result"
        }
      ],
      "source": [
        "top_out_idxs[0]"
      ],
      "id": "aUvpq7sDIeXc"
    },
    {
      "cell_type": "code",
      "execution_count": null,
      "metadata": {
        "colab": {
          "base_uri": "https://localhost:8080/"
        },
        "id": "QegL1HAdLXNK",
        "outputId": "4ec343e8-aa05-4b73-9f7d-12382210942d"
      },
      "outputs": [
        {
          "name": "stdout",
          "output_type": "stream",
          "text": [
            "5813105172\n",
            "77269.0\n",
            "           bodyId instance type\n",
            "10712  5813105172    DPM_R  DPM\n"
          ]
        }
      ],
      "source": [
        "print(bodyIds[18571])\n",
        "print(in_degree[18571])\n",
        "print(traced_neurons[traced_neurons['bodyId'] == bodyIds[18571]]) # DPM has the second highest degree"
      ],
      "id": "QegL1HAdLXNK"
    },
    {
      "cell_type": "code",
      "execution_count": null,
      "metadata": {
        "id": "0XmPZiHXLU-5"
      },
      "outputs": [],
      "source": [],
      "id": "0XmPZiHXLU-5"
    },
    {
      "cell_type": "code",
      "execution_count": null,
      "metadata": {
        "colab": {
          "background_save": true
        },
        "id": "WLgyWHwMJjea",
        "outputId": "5e5876bd-8c09-4054-f770-1db30235e7a0"
      },
      "outputs": [
        {
          "name": "stdout",
          "output_type": "stream",
          "text": [
            "(18837,)\n",
            "(18837, 3)\n",
            "(18837, 5)\n"
          ]
        }
      ],
      "source": [
        "# input feature vector: Num_nodes x 5\n",
        "print(in_degree.shape)\n",
        "print(xyz.shape)\n",
        "\n",
        "X = np.zeros((num_nodes, 5))\n",
        "X[:, 0] = in_degree\n",
        "X[:, 1] = out_degree\n",
        "X[:, 2:5] = xyz\n",
        "print(X.shape)"
      ],
      "id": "WLgyWHwMJjea"
    },
    {
      "cell_type": "code",
      "execution_count": null,
      "metadata": {
        "id": "WWb9woIoW4G0"
      },
      "outputs": [],
      "source": [
        "# normalize?"
      ],
      "id": "WWb9woIoW4G0"
    },
    {
      "cell_type": "markdown",
      "metadata": {
        "id": "gvBFyx6SWVBH"
      },
      "source": [
        "# Network architecture"
      ],
      "id": "gvBFyx6SWVBH"
    },
    {
      "cell_type": "code",
      "execution_count": null,
      "metadata": {
        "id": "UPUepoCfWWDS"
      },
      "outputs": [],
      "source": [
        "class BaselineGNN(nn.Module):\n",
        "    def __init__(self,\n",
        "                 num_in_feats,\n",
        "                 adjacency,\n",
        "                 num_classes,\n",
        "                 ):\n",
        "\n",
        "        super().__init__()\n",
        "\n",
        "        self.num_in_feats = num_in_feats\n",
        "        self.A = adjacency\n",
        "        self.num_classes = num_classes\n",
        "\n",
        "        self.activation = nn.Sigmoid()\n",
        "        self.softmax = nn.Softmax()\n",
        "\n",
        "        _, self.F1, self.F2, self.F3, self.F4, self.F5 = np.geomspace(self.num_in_feats, self.num_classes, 6, dtype = int)\n",
        "\n",
        "        self.W1 = nn.Linear(self.num_in_feats, self.F1)\n",
        "        self.W2 = nn.Linear(self.F1, self.F2)\n",
        "        self.W3 = nn.Linear(self.F2, self.F3)\n",
        "        self.W4 = nn.Linear(self.F3, self.F4)\n",
        "        self.W5 = nn.Linear(self.F4, self.F5)\n",
        "\n",
        "\n",
        "\n",
        "    \n",
        "    def forward(self, X):\n",
        "        H1 = self.activation(self.W1(X))\n",
        "        H2 = self.activation(self.W2(H1))\n",
        "        H3 = self.activation(self.W3(H2))\n",
        "        H4 = self.activation(self.W4(H3))\n",
        "        H5 = self.softmax(self.W5(H4))\n",
        "\n",
        "        # print(H3.shape)\n",
        "\n",
        "        return H5"
      ],
      "id": "UPUepoCfWWDS"
    },
    {
      "cell_type": "code",
      "execution_count": null,
      "metadata": {
        "id": "zMlLPGTJYm-7"
      },
      "outputs": [],
      "source": [
        "model = BaselineGNN(5, A_tensor, num_classes)"
      ],
      "id": "zMlLPGTJYm-7"
    },
    {
      "cell_type": "markdown",
      "metadata": {
        "id": "FajdOCcF6uzL"
      },
      "source": [
        "### Balance out DPM and APL"
      ],
      "id": "FajdOCcF6uzL"
    },
    {
      "cell_type": "code",
      "execution_count": null,
      "metadata": {
        "colab": {
          "base_uri": "https://localhost:8080/"
        },
        "id": "UJcVkNXLPpaz",
        "outputId": "34b7f50e-38a2-4e81-8a37-dcd18f07a1af"
      },
      "outputs": [
        {
          "data": {
            "text/plain": [
              "array([127148.,  16190.,  16460.,  18318.,   5310.])"
            ]
          },
          "execution_count": 80,
          "metadata": {},
          "output_type": "execute_result"
        }
      ],
      "source": [
        "X[1710]"
      ],
      "id": "UJcVkNXLPpaz"
    },
    {
      "cell_type": "code",
      "execution_count": null,
      "metadata": {
        "id": "zcIvV9cJPwdV"
      },
      "outputs": [],
      "source": [
        "X[1710, 0] = 0 # set to 0 for APL"
      ],
      "id": "zcIvV9cJPwdV"
    },
    {
      "cell_type": "code",
      "execution_count": null,
      "metadata": {
        "colab": {
          "base_uri": "https://localhost:8080/"
        },
        "id": "FUsmREk5PqXV",
        "outputId": "6540679b-58d2-4d87-8653-82e645bf283f"
      },
      "outputs": [
        {
          "data": {
            "text/plain": [
              "array([77269., 17628., 25266., 32639., 13604.])"
            ]
          },
          "execution_count": 81,
          "metadata": {},
          "output_type": "execute_result"
        }
      ],
      "source": [
        "X[18571]"
      ],
      "id": "FUsmREk5PqXV"
    },
    {
      "cell_type": "code",
      "execution_count": null,
      "metadata": {
        "id": "nOkL15cUPuhi"
      },
      "outputs": [],
      "source": [
        "X[18571, 0 ] = 0 # set to 0 for DPM"
      ],
      "id": "nOkL15cUPuhi"
    },
    {
      "cell_type": "code",
      "execution_count": null,
      "metadata": {
        "id": "NfyO8A9cY3y5"
      },
      "outputs": [],
      "source": [
        "# normalize stuff?\n",
        "# note: if we include APL, then in degree will be normalized to 0...\n",
        "X_normed = np.zeros_like(X)\n",
        "for i in range(X_normed.shape[1]):\n",
        "    X_normed[:, i] = X[:, i] / sum(X[:, i])"
      ],
      "id": "NfyO8A9cY3y5"
    },
    {
      "cell_type": "code",
      "execution_count": null,
      "metadata": {
        "id": "uy6BuBEbf2kr"
      },
      "outputs": [],
      "source": [
        "Y = nn.functional.one_hot(torch.tensor(labels))"
      ],
      "id": "uy6BuBEbf2kr"
    },
    {
      "cell_type": "code",
      "execution_count": null,
      "metadata": {
        "colab": {
          "base_uri": "https://localhost:8080/"
        },
        "id": "ZlkrQ4bAg0PB",
        "outputId": "1d615d50-8927-423b-b22a-a467e25951b0"
      },
      "outputs": [
        {
          "data": {
            "text/plain": [
              "torch.Size([18837, 4741])"
            ]
          },
          "execution_count": 93,
          "metadata": {},
          "output_type": "execute_result"
        }
      ],
      "source": [
        "Y.shape"
      ],
      "id": "ZlkrQ4bAg0PB"
    },
    {
      "cell_type": "code",
      "execution_count": null,
      "metadata": {
        "id": "f1cnUxvMbUw3"
      },
      "outputs": [],
      "source": [
        "# separate into test and train\n",
        "X_tensor = torch.tensor(X_normed).to(torch.float32)\n",
        "Y = Y.to(torch.float32)\n",
        "\n",
        "indexes = range(len(X_tensor))\n",
        "\n",
        "train_indexes = np.random.choice(indexes, 15000)\n",
        "val_indexes = np.random.choice(indexes, 1000)\n",
        "test_indexes = indexes\n",
        "# train_indexes = np.random.choice(indexes, 150)\n",
        "# val_indexes = np.random.choice(indexes, 100)\n",
        "# test_indexes = np.random.choice(indexes, 50)\n",
        "\n",
        "X_train = X_tensor[train_indexes]\n",
        "Y_train = Y[train_indexes]\n",
        "\n",
        "X_val = X_tensor[val_indexes]\n",
        "Y_val = Y[val_indexes]\n",
        "\n",
        "X_test = X_tensor[test_indexes]\n",
        "Y_test = Y[test_indexes]\n",
        "\n",
        "# X_train = X_tensor[:15000]\n",
        "# Y_train = Y[:15000]\n",
        "\n",
        "# X_val = X_tensor[15000:16000]\n",
        "# Y_val = Y[15000:16000]\n",
        "\n",
        "# X_test = X_tensor[16000:]\n",
        "# Y_test = Y[16000:]"
      ],
      "id": "f1cnUxvMbUw3"
    },
    {
      "cell_type": "markdown",
      "metadata": {
        "id": "AVK7dUXDWUAh"
      },
      "source": [
        "# Training Loop - Baseline Accuracy"
      ],
      "id": "AVK7dUXDWUAh"
    },
    {
      "cell_type": "code",
      "execution_count": null,
      "metadata": {
        "id": "oK0er8PciPZI"
      },
      "outputs": [],
      "source": [
        "model = BaselineGNN(5, A_tensor, num_classes)"
      ],
      "id": "oK0er8PciPZI"
    },
    {
      "cell_type": "code",
      "execution_count": null,
      "metadata": {
        "id": "gRINscRXa3_c"
      },
      "outputs": [],
      "source": [
        "optimizer = torch.optim.SGD(\n",
        "  model.parameters(), lr=1e-4, momentum=0.1\n",
        ")\n",
        "loss_fn = nn.CrossEntropyLoss()\n",
        "# loss_fn = nn.MSELoss()\n",
        "\n",
        "train_accuracies = []\n",
        "test_accuracies = []\n",
        "val_accuracies = []\n",
        "\n",
        "\n",
        "num_epochs = 100\n",
        "n_batches = 10\n",
        "batch_size = len(X_train)//n_batches\n",
        "\n",
        "for epoch in range(num_epochs):\n",
        "    print(f\"Epoch: {epoch}\")\n",
        "    for batch in range(n_batches):\n",
        "        # print(f\"batch: {batch}\")\n",
        "        # features = X_train[batch*(batch_size) : (batch+1) * batch_size] # should be random\n",
        "        # targets = Y_train[batch*(batch_size) : (batch+1) * batch_size]\n",
        "        # print(features.shape)\n",
        "        rand_indexes = np.random.choice(len(X_train), size=batch_size) # \n",
        "        features   = X_train[rand_indexes]\n",
        "        # print(features.shape)\n",
        "        targets = Y_train[rand_indexes]\n",
        "            \n",
        "        forward_pass_outputs = model(features)\n",
        "        loss = loss_fn(forward_pass_outputs, targets)\n",
        "        optimizer.zero_grad()\n",
        "        loss.backward()\n",
        "        optimizer.step()\n",
        "\n",
        "    print(f\"Loss = {loss}\")\n",
        "\n",
        "    train_outputs = model(X_train)\n",
        "    train_accuracy = sum(sum(torch.mul(train_outputs, Y_train)) / len(Y_train))\n",
        "    train_accuracies.append(train_accuracy)\n",
        "    print(f\"Train accuracy = {train_accuracy}\")\n",
        "\n",
        "    val_outputs = model(X_val)\n",
        "    val_accuracy = sum(sum(torch.mul(val_outputs, Y_val))) / len(Y_val)\n",
        "    val_accuraccies.append(val_accuracy)\n",
        "    print(f\"Val accuracy = {val_accuracy}\")\n",
        "\n",
        "    test_outputs = model(X_test)\n",
        "    test_accuracy = sum(sum(torch.mul(test_outputs, Y_test)) / len(Y_test))\n",
        "    test_accuracies.append(test_accuracy)\n",
        "    print(f\"Test accuracy = {test_accuracy}\")\n",
        "\n"
      ],
      "id": "gRINscRXa3_c"
    },
    {
      "cell_type": "code",
      "execution_count": null,
      "metadata": {
        "colab": {
          "base_uri": "https://localhost:8080/",
          "height": 661
        },
        "id": "sGAj4Lmx3jGD",
        "outputId": "2488dfed-970c-445c-bae2-fb210cc24d6f"
      },
      "outputs": [
        {
          "data": {
            "text/html": [
              "\n",
              "  <div id=\"df-352df2a6-e90b-4e0e-9b7d-175c182bd203\">\n",
              "    <div class=\"colab-df-container\">\n",
              "      <div>\n",
              "<style scoped>\n",
              "    .dataframe tbody tr th:only-of-type {\n",
              "        vertical-align: middle;\n",
              "    }\n",
              "\n",
              "    .dataframe tbody tr th {\n",
              "        vertical-align: top;\n",
              "    }\n",
              "\n",
              "    .dataframe thead th {\n",
              "        text-align: right;\n",
              "    }\n",
              "</style>\n",
              "<table border=\"1\" class=\"dataframe\">\n",
              "  <thead>\n",
              "    <tr style=\"text-align: right;\">\n",
              "      <th></th>\n",
              "      <th>cellBodyFiber</th>\n",
              "      <th>bodyid</th>\n",
              "      <th>pre</th>\n",
              "      <th>post</th>\n",
              "      <th>upstream</th>\n",
              "      <th>downstream</th>\n",
              "      <th>status</th>\n",
              "      <th>statusLabel</th>\n",
              "      <th>cropped</th>\n",
              "      <th>name</th>\n",
              "      <th>...</th>\n",
              "      <th>total_inputs_density</th>\n",
              "      <th>axon_outputs_density</th>\n",
              "      <th>dend_outputs_density</th>\n",
              "      <th>axon_inputs_density</th>\n",
              "      <th>dend_inputs_density</th>\n",
              "      <th>total_length</th>\n",
              "      <th>axon_length</th>\n",
              "      <th>dend_length</th>\n",
              "      <th>pd_length</th>\n",
              "      <th>segregation_index</th>\n",
              "    </tr>\n",
              "  </thead>\n",
              "  <tbody>\n",
              "    <tr>\n",
              "      <th>0</th>\n",
              "      <td>PDL03</td>\n",
              "      <td>5812980768</td>\n",
              "      <td>233</td>\n",
              "      <td>411</td>\n",
              "      <td>411</td>\n",
              "      <td>742</td>\n",
              "      <td>Traced</td>\n",
              "      <td>Roughly traced</td>\n",
              "      <td>False</td>\n",
              "      <td>KCab-s_R</td>\n",
              "      <td>...</td>\n",
              "      <td>0.650109</td>\n",
              "      <td>1.955320</td>\n",
              "      <td>1.200554</td>\n",
              "      <td>0.990357</td>\n",
              "      <td>0.734604</td>\n",
              "      <td>632.201495</td>\n",
              "      <td>118.139233</td>\n",
              "      <td>238.223429</td>\n",
              "      <td>35.604968</td>\n",
              "      <td>0.001535</td>\n",
              "    </tr>\n",
              "    <tr>\n",
              "      <th>799</th>\n",
              "      <td>PDL03</td>\n",
              "      <td>612669205</td>\n",
              "      <td>263</td>\n",
              "      <td>542</td>\n",
              "      <td>542</td>\n",
              "      <td>834</td>\n",
              "      <td>Traced</td>\n",
              "      <td>Roughly traced</td>\n",
              "      <td>False</td>\n",
              "      <td>KCab-s_R</td>\n",
              "      <td>...</td>\n",
              "      <td>0.599753</td>\n",
              "      <td>1.532358</td>\n",
              "      <td>0.312533</td>\n",
              "      <td>0.896236</td>\n",
              "      <td>0.570235</td>\n",
              "      <td>890.366445</td>\n",
              "      <td>388.290457</td>\n",
              "      <td>182.380885</td>\n",
              "      <td>241.076154</td>\n",
              "      <td>0.028746</td>\n",
              "    </tr>\n",
              "    <tr>\n",
              "      <th>871</th>\n",
              "      <td>PDL04</td>\n",
              "      <td>363733406</td>\n",
              "      <td>225</td>\n",
              "      <td>539</td>\n",
              "      <td>539</td>\n",
              "      <td>727</td>\n",
              "      <td>Traced</td>\n",
              "      <td>Roughly traced</td>\n",
              "      <td>False</td>\n",
              "      <td>KCab-s_R</td>\n",
              "      <td>...</td>\n",
              "      <td>0.568238</td>\n",
              "      <td>1.329161</td>\n",
              "      <td>0.156868</td>\n",
              "      <td>0.838548</td>\n",
              "      <td>0.622241</td>\n",
              "      <td>946.786507</td>\n",
              "      <td>399.500204</td>\n",
              "      <td>191.244192</td>\n",
              "      <td>210.129098</td>\n",
              "      <td>0.064717</td>\n",
              "    </tr>\n",
              "    <tr>\n",
              "      <th>919</th>\n",
              "      <td>PDL01</td>\n",
              "      <td>457507485</td>\n",
              "      <td>229</td>\n",
              "      <td>582</td>\n",
              "      <td>582</td>\n",
              "      <td>727</td>\n",
              "      <td>Traced</td>\n",
              "      <td>Roughly traced</td>\n",
              "      <td>False</td>\n",
              "      <td>KCab-s_R</td>\n",
              "      <td>...</td>\n",
              "      <td>0.614657</td>\n",
              "      <td>1.460896</td>\n",
              "      <td>0.277968</td>\n",
              "      <td>0.998005</td>\n",
              "      <td>0.708818</td>\n",
              "      <td>945.243398</td>\n",
              "      <td>304.607612</td>\n",
              "      <td>215.852232</td>\n",
              "      <td>287.775082</td>\n",
              "      <td>0.049813</td>\n",
              "    </tr>\n",
              "    <tr>\n",
              "      <th>943</th>\n",
              "      <td>PDL03</td>\n",
              "      <td>5812980611</td>\n",
              "      <td>201</td>\n",
              "      <td>483</td>\n",
              "      <td>483</td>\n",
              "      <td>634</td>\n",
              "      <td>Traced</td>\n",
              "      <td>Roughly traced</td>\n",
              "      <td>False</td>\n",
              "      <td>KCab-s_R</td>\n",
              "      <td>...</td>\n",
              "      <td>0.579244</td>\n",
              "      <td>1.210175</td>\n",
              "      <td>0.265735</td>\n",
              "      <td>0.738265</td>\n",
              "      <td>0.664336</td>\n",
              "      <td>833.845471</td>\n",
              "      <td>345.404622</td>\n",
              "      <td>218.262892</td>\n",
              "      <td>203.333959</td>\n",
              "      <td>0.059441</td>\n",
              "    </tr>\n",
              "    <tr>\n",
              "      <th>...</th>\n",
              "      <td>...</td>\n",
              "      <td>...</td>\n",
              "      <td>...</td>\n",
              "      <td>...</td>\n",
              "      <td>...</td>\n",
              "      <td>...</td>\n",
              "      <td>...</td>\n",
              "      <td>...</td>\n",
              "      <td>...</td>\n",
              "      <td>...</td>\n",
              "      <td>...</td>\n",
              "      <td>...</td>\n",
              "      <td>...</td>\n",
              "      <td>...</td>\n",
              "      <td>...</td>\n",
              "      <td>...</td>\n",
              "      <td>...</td>\n",
              "      <td>...</td>\n",
              "      <td>...</td>\n",
              "      <td>...</td>\n",
              "      <td>...</td>\n",
              "    </tr>\n",
              "    <tr>\n",
              "      <th>3490</th>\n",
              "      <td>PDL03</td>\n",
              "      <td>631051012</td>\n",
              "      <td>216</td>\n",
              "      <td>615</td>\n",
              "      <td>615</td>\n",
              "      <td>670</td>\n",
              "      <td>Traced</td>\n",
              "      <td>Roughly traced</td>\n",
              "      <td>False</td>\n",
              "      <td>KCab-s_R</td>\n",
              "      <td>...</td>\n",
              "      <td>0.629009</td>\n",
              "      <td>1.347080</td>\n",
              "      <td>0.172744</td>\n",
              "      <td>0.965316</td>\n",
              "      <td>0.615869</td>\n",
              "      <td>972.959602</td>\n",
              "      <td>366.719226</td>\n",
              "      <td>266.290501</td>\n",
              "      <td>216.587647</td>\n",
              "      <td>0.063489</td>\n",
              "    </tr>\n",
              "    <tr>\n",
              "      <th>3515</th>\n",
              "      <td>PDL02</td>\n",
              "      <td>5813110928</td>\n",
              "      <td>207</td>\n",
              "      <td>546</td>\n",
              "      <td>546</td>\n",
              "      <td>653</td>\n",
              "      <td>Traced</td>\n",
              "      <td>Roughly traced</td>\n",
              "      <td>False</td>\n",
              "      <td>KCab-s_R</td>\n",
              "      <td>...</td>\n",
              "      <td>0.584750</td>\n",
              "      <td>1.455773</td>\n",
              "      <td>0.283629</td>\n",
              "      <td>0.969305</td>\n",
              "      <td>0.630287</td>\n",
              "      <td>930.311688</td>\n",
              "      <td>275.455028</td>\n",
              "      <td>222.121167</td>\n",
              "      <td>257.111581</td>\n",
              "      <td>0.044264</td>\n",
              "    </tr>\n",
              "    <tr>\n",
              "      <th>3624</th>\n",
              "      <td>PDL01</td>\n",
              "      <td>5813021263</td>\n",
              "      <td>210</td>\n",
              "      <td>616</td>\n",
              "      <td>616</td>\n",
              "      <td>680</td>\n",
              "      <td>Traced</td>\n",
              "      <td>Roughly traced</td>\n",
              "      <td>False</td>\n",
              "      <td>KCab-s_R</td>\n",
              "      <td>...</td>\n",
              "      <td>0.594168</td>\n",
              "      <td>1.301046</td>\n",
              "      <td>0.265825</td>\n",
              "      <td>1.068339</td>\n",
              "      <td>0.519567</td>\n",
              "      <td>1035.061641</td>\n",
              "      <td>378.157211</td>\n",
              "      <td>248.283657</td>\n",
              "      <td>249.652238</td>\n",
              "      <td>0.019054</td>\n",
              "    </tr>\n",
              "    <tr>\n",
              "      <th>3654</th>\n",
              "      <td>PDL03</td>\n",
              "      <td>630722830</td>\n",
              "      <td>215</td>\n",
              "      <td>530</td>\n",
              "      <td>530</td>\n",
              "      <td>678</td>\n",
              "      <td>Traced</td>\n",
              "      <td>Roughly traced</td>\n",
              "      <td>False</td>\n",
              "      <td>KCab-s_R</td>\n",
              "      <td>...</td>\n",
              "      <td>0.572111</td>\n",
              "      <td>1.276259</td>\n",
              "      <td>0.393810</td>\n",
              "      <td>0.847124</td>\n",
              "      <td>0.716018</td>\n",
              "      <td>926.393119</td>\n",
              "      <td>358.861309</td>\n",
              "      <td>195.525946</td>\n",
              "      <td>231.454371</td>\n",
              "      <td>0.030714</td>\n",
              "    </tr>\n",
              "    <tr>\n",
              "      <th>3864</th>\n",
              "      <td>PDL02</td>\n",
              "      <td>5813067779</td>\n",
              "      <td>233</td>\n",
              "      <td>584</td>\n",
              "      <td>584</td>\n",
              "      <td>729</td>\n",
              "      <td>Traced</td>\n",
              "      <td>Roughly traced</td>\n",
              "      <td>False</td>\n",
              "      <td>KCab-s_R</td>\n",
              "      <td>...</td>\n",
              "      <td>0.594962</td>\n",
              "      <td>1.311902</td>\n",
              "      <td>0.348102</td>\n",
              "      <td>0.928780</td>\n",
              "      <td>0.646475</td>\n",
              "      <td>981.574847</td>\n",
              "      <td>344.537922</td>\n",
              "      <td>221.199433</td>\n",
              "      <td>254.926609</td>\n",
              "      <td>0.028009</td>\n",
              "    </tr>\n",
              "  </tbody>\n",
              "</table>\n",
              "<p>223 rows × 63 columns</p>\n",
              "</div>\n",
              "      <button class=\"colab-df-convert\" onclick=\"convertToInteractive('df-352df2a6-e90b-4e0e-9b7d-175c182bd203')\"\n",
              "              title=\"Convert this dataframe to an interactive table.\"\n",
              "              style=\"display:none;\">\n",
              "        \n",
              "  <svg xmlns=\"http://www.w3.org/2000/svg\" height=\"24px\"viewBox=\"0 0 24 24\"\n",
              "       width=\"24px\">\n",
              "    <path d=\"M0 0h24v24H0V0z\" fill=\"none\"/>\n",
              "    <path d=\"M18.56 5.44l.94 2.06.94-2.06 2.06-.94-2.06-.94-.94-2.06-.94 2.06-2.06.94zm-11 1L8.5 8.5l.94-2.06 2.06-.94-2.06-.94L8.5 2.5l-.94 2.06-2.06.94zm10 10l.94 2.06.94-2.06 2.06-.94-2.06-.94-.94-2.06-.94 2.06-2.06.94z\"/><path d=\"M17.41 7.96l-1.37-1.37c-.4-.4-.92-.59-1.43-.59-.52 0-1.04.2-1.43.59L10.3 9.45l-7.72 7.72c-.78.78-.78 2.05 0 2.83L4 21.41c.39.39.9.59 1.41.59.51 0 1.02-.2 1.41-.59l7.78-7.78 2.81-2.81c.8-.78.8-2.07 0-2.86zM5.41 20L4 18.59l7.72-7.72 1.47 1.35L5.41 20z\"/>\n",
              "  </svg>\n",
              "      </button>\n",
              "      \n",
              "  <style>\n",
              "    .colab-df-container {\n",
              "      display:flex;\n",
              "      flex-wrap:wrap;\n",
              "      gap: 12px;\n",
              "    }\n",
              "\n",
              "    .colab-df-convert {\n",
              "      background-color: #E8F0FE;\n",
              "      border: none;\n",
              "      border-radius: 50%;\n",
              "      cursor: pointer;\n",
              "      display: none;\n",
              "      fill: #1967D2;\n",
              "      height: 32px;\n",
              "      padding: 0 0 0 0;\n",
              "      width: 32px;\n",
              "    }\n",
              "\n",
              "    .colab-df-convert:hover {\n",
              "      background-color: #E2EBFA;\n",
              "      box-shadow: 0px 1px 2px rgba(60, 64, 67, 0.3), 0px 1px 3px 1px rgba(60, 64, 67, 0.15);\n",
              "      fill: #174EA6;\n",
              "    }\n",
              "\n",
              "    [theme=dark] .colab-df-convert {\n",
              "      background-color: #3B4455;\n",
              "      fill: #D2E3FC;\n",
              "    }\n",
              "\n",
              "    [theme=dark] .colab-df-convert:hover {\n",
              "      background-color: #434B5C;\n",
              "      box-shadow: 0px 1px 3px 1px rgba(0, 0, 0, 0.15);\n",
              "      filter: drop-shadow(0px 1px 2px rgba(0, 0, 0, 0.3));\n",
              "      fill: #FFFFFF;\n",
              "    }\n",
              "  </style>\n",
              "\n",
              "      <script>\n",
              "        const buttonEl =\n",
              "          document.querySelector('#df-352df2a6-e90b-4e0e-9b7d-175c182bd203 button.colab-df-convert');\n",
              "        buttonEl.style.display =\n",
              "          google.colab.kernel.accessAllowed ? 'block' : 'none';\n",
              "\n",
              "        async function convertToInteractive(key) {\n",
              "          const element = document.querySelector('#df-352df2a6-e90b-4e0e-9b7d-175c182bd203');\n",
              "          const dataTable =\n",
              "            await google.colab.kernel.invokeFunction('convertToInteractive',\n",
              "                                                     [key], {});\n",
              "          if (!dataTable) return;\n",
              "\n",
              "          const docLinkHtml = 'Like what you see? Visit the ' +\n",
              "            '<a target=\"_blank\" href=https://colab.research.google.com/notebooks/data_table.ipynb>data table notebook</a>'\n",
              "            + ' to learn more about interactive tables.';\n",
              "          element.innerHTML = '';\n",
              "          dataTable['output_type'] = 'display_data';\n",
              "          await google.colab.output.renderOutput(dataTable, element);\n",
              "          const docLink = document.createElement('div');\n",
              "          docLink.innerHTML = docLinkHtml;\n",
              "          element.appendChild(docLink);\n",
              "        }\n",
              "      </script>\n",
              "    </div>\n",
              "  </div>\n",
              "  "
            ],
            "text/plain": [
              "     cellBodyFiber      bodyid  pre  post  upstream  downstream  status  \\\n",
              "0            PDL03  5812980768  233   411       411         742  Traced   \n",
              "799          PDL03   612669205  263   542       542         834  Traced   \n",
              "871          PDL04   363733406  225   539       539         727  Traced   \n",
              "919          PDL01   457507485  229   582       582         727  Traced   \n",
              "943          PDL03  5812980611  201   483       483         634  Traced   \n",
              "...            ...         ...  ...   ...       ...         ...     ...   \n",
              "3490         PDL03   631051012  216   615       615         670  Traced   \n",
              "3515         PDL02  5813110928  207   546       546         653  Traced   \n",
              "3624         PDL01  5813021263  210   616       616         680  Traced   \n",
              "3654         PDL03   630722830  215   530       530         678  Traced   \n",
              "3864         PDL02  5813067779  233   584       584         729  Traced   \n",
              "\n",
              "         statusLabel cropped      name  ... total_inputs_density  \\\n",
              "0     Roughly traced   False  KCab-s_R  ...             0.650109   \n",
              "799   Roughly traced   False  KCab-s_R  ...             0.599753   \n",
              "871   Roughly traced   False  KCab-s_R  ...             0.568238   \n",
              "919   Roughly traced   False  KCab-s_R  ...             0.614657   \n",
              "943   Roughly traced   False  KCab-s_R  ...             0.579244   \n",
              "...              ...     ...       ...  ...                  ...   \n",
              "3490  Roughly traced   False  KCab-s_R  ...             0.629009   \n",
              "3515  Roughly traced   False  KCab-s_R  ...             0.584750   \n",
              "3624  Roughly traced   False  KCab-s_R  ...             0.594168   \n",
              "3654  Roughly traced   False  KCab-s_R  ...             0.572111   \n",
              "3864  Roughly traced   False  KCab-s_R  ...             0.594962   \n",
              "\n",
              "      axon_outputs_density dend_outputs_density  axon_inputs_density  \\\n",
              "0                 1.955320             1.200554             0.990357   \n",
              "799               1.532358             0.312533             0.896236   \n",
              "871               1.329161             0.156868             0.838548   \n",
              "919               1.460896             0.277968             0.998005   \n",
              "943               1.210175             0.265735             0.738265   \n",
              "...                    ...                  ...                  ...   \n",
              "3490              1.347080             0.172744             0.965316   \n",
              "3515              1.455773             0.283629             0.969305   \n",
              "3624              1.301046             0.265825             1.068339   \n",
              "3654              1.276259             0.393810             0.847124   \n",
              "3864              1.311902             0.348102             0.928780   \n",
              "\n",
              "     dend_inputs_density total_length axon_length dend_length   pd_length  \\\n",
              "0               0.734604   632.201495  118.139233  238.223429   35.604968   \n",
              "799             0.570235   890.366445  388.290457  182.380885  241.076154   \n",
              "871             0.622241   946.786507  399.500204  191.244192  210.129098   \n",
              "919             0.708818   945.243398  304.607612  215.852232  287.775082   \n",
              "943             0.664336   833.845471  345.404622  218.262892  203.333959   \n",
              "...                  ...          ...         ...         ...         ...   \n",
              "3490            0.615869   972.959602  366.719226  266.290501  216.587647   \n",
              "3515            0.630287   930.311688  275.455028  222.121167  257.111581   \n",
              "3624            0.519567  1035.061641  378.157211  248.283657  249.652238   \n",
              "3654            0.716018   926.393119  358.861309  195.525946  231.454371   \n",
              "3864            0.646475   981.574847  344.537922  221.199433  254.926609   \n",
              "\n",
              "     segregation_index  \n",
              "0             0.001535  \n",
              "799           0.028746  \n",
              "871           0.064717  \n",
              "919           0.049813  \n",
              "943           0.059441  \n",
              "...                ...  \n",
              "3490          0.063489  \n",
              "3515          0.044264  \n",
              "3624          0.019054  \n",
              "3654          0.030714  \n",
              "3864          0.028009  \n",
              "\n",
              "[223 rows x 63 columns]"
            ]
          },
          "execution_count": 72,
          "metadata": {},
          "output_type": "execute_result"
        }
      ],
      "source": [
        "# note: KCab cells are involved in olfaction (ECBM6070)\n",
        "csv_synapses[csv_synapses['type'] == 'KCab-s']"
      ],
      "id": "sGAj4Lmx3jGD"
    },
    {
      "cell_type": "code",
      "execution_count": null,
      "metadata": {
        "colab": {
          "base_uri": "https://localhost:8080/",
          "height": 191
        },
        "id": "Fo3aD-7S3sPt",
        "outputId": "ab4f0364-eb3d-41ca-e6ac-bf168de8a0d3"
      },
      "outputs": [
        {
          "data": {
            "text/html": [
              "\n",
              "  <div id=\"df-7974f3ac-fb6c-4245-b4d9-5a395159326e\">\n",
              "    <div class=\"colab-df-container\">\n",
              "      <div>\n",
              "<style scoped>\n",
              "    .dataframe tbody tr th:only-of-type {\n",
              "        vertical-align: middle;\n",
              "    }\n",
              "\n",
              "    .dataframe tbody tr th {\n",
              "        vertical-align: top;\n",
              "    }\n",
              "\n",
              "    .dataframe thead th {\n",
              "        text-align: right;\n",
              "    }\n",
              "</style>\n",
              "<table border=\"1\" class=\"dataframe\">\n",
              "  <thead>\n",
              "    <tr style=\"text-align: right;\">\n",
              "      <th></th>\n",
              "      <th>cellBodyFiber</th>\n",
              "      <th>bodyid</th>\n",
              "      <th>pre</th>\n",
              "      <th>post</th>\n",
              "      <th>upstream</th>\n",
              "      <th>downstream</th>\n",
              "      <th>status</th>\n",
              "      <th>statusLabel</th>\n",
              "      <th>cropped</th>\n",
              "      <th>name</th>\n",
              "      <th>...</th>\n",
              "      <th>total_inputs_density</th>\n",
              "      <th>axon_outputs_density</th>\n",
              "      <th>dend_outputs_density</th>\n",
              "      <th>axon_inputs_density</th>\n",
              "      <th>dend_inputs_density</th>\n",
              "      <th>total_length</th>\n",
              "      <th>axon_length</th>\n",
              "      <th>dend_length</th>\n",
              "      <th>pd_length</th>\n",
              "      <th>segregation_index</th>\n",
              "    </tr>\n",
              "  </thead>\n",
              "  <tbody>\n",
              "    <tr>\n",
              "      <th>0</th>\n",
              "      <td>PDL03</td>\n",
              "      <td>5812980768</td>\n",
              "      <td>233</td>\n",
              "      <td>411</td>\n",
              "      <td>411</td>\n",
              "      <td>742</td>\n",
              "      <td>Traced</td>\n",
              "      <td>Roughly traced</td>\n",
              "      <td>False</td>\n",
              "      <td>KCab-s_R</td>\n",
              "      <td>...</td>\n",
              "      <td>0.650109</td>\n",
              "      <td>1.95532</td>\n",
              "      <td>1.200554</td>\n",
              "      <td>0.990357</td>\n",
              "      <td>0.734604</td>\n",
              "      <td>632.201495</td>\n",
              "      <td>118.139233</td>\n",
              "      <td>238.223429</td>\n",
              "      <td>35.604968</td>\n",
              "      <td>0.001535</td>\n",
              "    </tr>\n",
              "  </tbody>\n",
              "</table>\n",
              "<p>1 rows × 63 columns</p>\n",
              "</div>\n",
              "      <button class=\"colab-df-convert\" onclick=\"convertToInteractive('df-7974f3ac-fb6c-4245-b4d9-5a395159326e')\"\n",
              "              title=\"Convert this dataframe to an interactive table.\"\n",
              "              style=\"display:none;\">\n",
              "        \n",
              "  <svg xmlns=\"http://www.w3.org/2000/svg\" height=\"24px\"viewBox=\"0 0 24 24\"\n",
              "       width=\"24px\">\n",
              "    <path d=\"M0 0h24v24H0V0z\" fill=\"none\"/>\n",
              "    <path d=\"M18.56 5.44l.94 2.06.94-2.06 2.06-.94-2.06-.94-.94-2.06-.94 2.06-2.06.94zm-11 1L8.5 8.5l.94-2.06 2.06-.94-2.06-.94L8.5 2.5l-.94 2.06-2.06.94zm10 10l.94 2.06.94-2.06 2.06-.94-2.06-.94-.94-2.06-.94 2.06-2.06.94z\"/><path d=\"M17.41 7.96l-1.37-1.37c-.4-.4-.92-.59-1.43-.59-.52 0-1.04.2-1.43.59L10.3 9.45l-7.72 7.72c-.78.78-.78 2.05 0 2.83L4 21.41c.39.39.9.59 1.41.59.51 0 1.02-.2 1.41-.59l7.78-7.78 2.81-2.81c.8-.78.8-2.07 0-2.86zM5.41 20L4 18.59l7.72-7.72 1.47 1.35L5.41 20z\"/>\n",
              "  </svg>\n",
              "      </button>\n",
              "      \n",
              "  <style>\n",
              "    .colab-df-container {\n",
              "      display:flex;\n",
              "      flex-wrap:wrap;\n",
              "      gap: 12px;\n",
              "    }\n",
              "\n",
              "    .colab-df-convert {\n",
              "      background-color: #E8F0FE;\n",
              "      border: none;\n",
              "      border-radius: 50%;\n",
              "      cursor: pointer;\n",
              "      display: none;\n",
              "      fill: #1967D2;\n",
              "      height: 32px;\n",
              "      padding: 0 0 0 0;\n",
              "      width: 32px;\n",
              "    }\n",
              "\n",
              "    .colab-df-convert:hover {\n",
              "      background-color: #E2EBFA;\n",
              "      box-shadow: 0px 1px 2px rgba(60, 64, 67, 0.3), 0px 1px 3px 1px rgba(60, 64, 67, 0.15);\n",
              "      fill: #174EA6;\n",
              "    }\n",
              "\n",
              "    [theme=dark] .colab-df-convert {\n",
              "      background-color: #3B4455;\n",
              "      fill: #D2E3FC;\n",
              "    }\n",
              "\n",
              "    [theme=dark] .colab-df-convert:hover {\n",
              "      background-color: #434B5C;\n",
              "      box-shadow: 0px 1px 3px 1px rgba(0, 0, 0, 0.15);\n",
              "      filter: drop-shadow(0px 1px 2px rgba(0, 0, 0, 0.3));\n",
              "      fill: #FFFFFF;\n",
              "    }\n",
              "  </style>\n",
              "\n",
              "      <script>\n",
              "        const buttonEl =\n",
              "          document.querySelector('#df-7974f3ac-fb6c-4245-b4d9-5a395159326e button.colab-df-convert');\n",
              "        buttonEl.style.display =\n",
              "          google.colab.kernel.accessAllowed ? 'block' : 'none';\n",
              "\n",
              "        async function convertToInteractive(key) {\n",
              "          const element = document.querySelector('#df-7974f3ac-fb6c-4245-b4d9-5a395159326e');\n",
              "          const dataTable =\n",
              "            await google.colab.kernel.invokeFunction('convertToInteractive',\n",
              "                                                     [key], {});\n",
              "          if (!dataTable) return;\n",
              "\n",
              "          const docLinkHtml = 'Like what you see? Visit the ' +\n",
              "            '<a target=\"_blank\" href=https://colab.research.google.com/notebooks/data_table.ipynb>data table notebook</a>'\n",
              "            + ' to learn more about interactive tables.';\n",
              "          element.innerHTML = '';\n",
              "          dataTable['output_type'] = 'display_data';\n",
              "          await google.colab.output.renderOutput(dataTable, element);\n",
              "          const docLink = document.createElement('div');\n",
              "          docLink.innerHTML = docLinkHtml;\n",
              "          element.appendChild(docLink);\n",
              "        }\n",
              "      </script>\n",
              "    </div>\n",
              "  </div>\n",
              "  "
            ],
            "text/plain": [
              "  cellBodyFiber      bodyid  pre  post  upstream  downstream  status  \\\n",
              "0         PDL03  5812980768  233   411       411         742  Traced   \n",
              "\n",
              "      statusLabel cropped      name  ... total_inputs_density  \\\n",
              "0  Roughly traced   False  KCab-s_R  ...             0.650109   \n",
              "\n",
              "   axon_outputs_density dend_outputs_density  axon_inputs_density  \\\n",
              "0               1.95532             1.200554             0.990357   \n",
              "\n",
              "  dend_inputs_density total_length axon_length dend_length  pd_length  \\\n",
              "0            0.734604   632.201495  118.139233  238.223429  35.604968   \n",
              "\n",
              "  segregation_index  \n",
              "0          0.001535  \n",
              "\n",
              "[1 rows x 63 columns]"
            ]
          },
          "execution_count": 74,
          "metadata": {},
          "output_type": "execute_result"
        }
      ],
      "source": [
        "csv_synapses[csv_synapses['bodyid'] == 5812980768]"
      ],
      "id": "Fo3aD-7S3sPt"
    },
    {
      "cell_type": "code",
      "execution_count": null,
      "metadata": {
        "id": "4e8197f9",
        "outputId": "36f8b4e0-7256-446d-c646-de27bfe9f2d5"
      },
      "outputs": [
        {
          "data": {
            "text/html": [
              "<div>\n",
              "<style scoped>\n",
              "    .dataframe tbody tr th:only-of-type {\n",
              "        vertical-align: middle;\n",
              "    }\n",
              "\n",
              "    .dataframe tbody tr th {\n",
              "        vertical-align: top;\n",
              "    }\n",
              "\n",
              "    .dataframe thead th {\n",
              "        text-align: right;\n",
              "    }\n",
              "</style>\n",
              "<table border=\"1\" class=\"dataframe\">\n",
              "  <thead>\n",
              "    <tr style=\"text-align: right;\">\n",
              "      <th></th>\n",
              "      <th>X</th>\n",
              "      <th>Y</th>\n",
              "      <th>Z</th>\n",
              "    </tr>\n",
              "  </thead>\n",
              "  <tbody>\n",
              "    <tr>\n",
              "      <th>0</th>\n",
              "      <td>10372.0</td>\n",
              "      <td>12128.0</td>\n",
              "      <td>12116.0</td>\n",
              "    </tr>\n",
              "    <tr>\n",
              "      <th>1</th>\n",
              "      <td>8416.0</td>\n",
              "      <td>22008.0</td>\n",
              "      <td>4650.0</td>\n",
              "    </tr>\n",
              "    <tr>\n",
              "      <th>2</th>\n",
              "      <td>11448.0</td>\n",
              "      <td>13554.0</td>\n",
              "      <td>9230.0</td>\n",
              "    </tr>\n",
              "    <tr>\n",
              "      <th>3</th>\n",
              "      <td>29797.0</td>\n",
              "      <td>31023.0</td>\n",
              "      <td>23871.0</td>\n",
              "    </tr>\n",
              "    <tr>\n",
              "      <th>4</th>\n",
              "      <td>19205.0</td>\n",
              "      <td>12326.0</td>\n",
              "      <td>13177.0</td>\n",
              "    </tr>\n",
              "    <tr>\n",
              "      <th>...</th>\n",
              "      <td>...</td>\n",
              "      <td>...</td>\n",
              "      <td>...</td>\n",
              "    </tr>\n",
              "    <tr>\n",
              "      <th>24688</th>\n",
              "      <td>2644.0</td>\n",
              "      <td>17146.0</td>\n",
              "      <td>8106.0</td>\n",
              "    </tr>\n",
              "    <tr>\n",
              "      <th>24689</th>\n",
              "      <td>27750.0</td>\n",
              "      <td>32354.0</td>\n",
              "      <td>8070.0</td>\n",
              "    </tr>\n",
              "    <tr>\n",
              "      <th>24690</th>\n",
              "      <td>11479.0</td>\n",
              "      <td>11915.0</td>\n",
              "      <td>14828.0</td>\n",
              "    </tr>\n",
              "    <tr>\n",
              "      <th>24691</th>\n",
              "      <td>18248.0</td>\n",
              "      <td>13876.0</td>\n",
              "      <td>9032.0</td>\n",
              "    </tr>\n",
              "    <tr>\n",
              "      <th>24692</th>\n",
              "      <td>30458.0</td>\n",
              "      <td>32236.0</td>\n",
              "      <td>24134.0</td>\n",
              "    </tr>\n",
              "  </tbody>\n",
              "</table>\n",
              "<p>24693 rows × 3 columns</p>\n",
              "</div>"
            ],
            "text/plain": [
              "             X        Y        Z\n",
              "0      10372.0  12128.0  12116.0\n",
              "1       8416.0  22008.0   4650.0\n",
              "2      11448.0  13554.0   9230.0\n",
              "3      29797.0  31023.0  23871.0\n",
              "4      19205.0  12326.0  13177.0\n",
              "...        ...      ...      ...\n",
              "24688   2644.0  17146.0   8106.0\n",
              "24689  27750.0  32354.0   8070.0\n",
              "24690  11479.0  11915.0  14828.0\n",
              "24691  18248.0  13876.0   9032.0\n",
              "24692  30458.0  32236.0  24134.0\n",
              "\n",
              "[24693 rows x 3 columns]"
            ]
          },
          "execution_count": 11,
          "metadata": {},
          "output_type": "execute_result"
        }
      ],
      "source": [
        "csv_synapses[['X', 'Y', 'Z']]"
      ],
      "id": "4e8197f9"
    },
    {
      "cell_type": "code",
      "execution_count": null,
      "metadata": {
        "id": "8Vk9M5iyt64b"
      },
      "outputs": [],
      "source": [],
      "id": "8Vk9M5iyt64b"
    },
    {
      "cell_type": "markdown",
      "metadata": {
        "id": "0868f03b"
      },
      "source": [
        "### Metadata for neurons"
      ],
      "id": "0868f03b"
    },
    {
      "cell_type": "code",
      "execution_count": null,
      "metadata": {
        "id": "90ad6f18"
      },
      "outputs": [],
      "source": [
        "csv = pd.read_csv('data-raw/hemibrain_all_neurons_metrics_polypre_centrifugal_distance.csv')"
      ],
      "id": "90ad6f18"
    },
    {
      "cell_type": "code",
      "execution_count": null,
      "metadata": {
        "colab": {
          "base_uri": "https://localhost:8080/",
          "height": 191
        },
        "id": "ryetwzNP4IbR",
        "outputId": "c32ff6e7-6768-4cb9-d9f3-19ecc013b67f"
      },
      "outputs": [
        {
          "data": {
            "text/html": [
              "\n",
              "  <div id=\"df-01ae2a4b-2928-4c19-95b8-e2f2d171e541\">\n",
              "    <div class=\"colab-df-container\">\n",
              "      <div>\n",
              "<style scoped>\n",
              "    .dataframe tbody tr th:only-of-type {\n",
              "        vertical-align: middle;\n",
              "    }\n",
              "\n",
              "    .dataframe tbody tr th {\n",
              "        vertical-align: top;\n",
              "    }\n",
              "\n",
              "    .dataframe thead th {\n",
              "        text-align: right;\n",
              "    }\n",
              "</style>\n",
              "<table border=\"1\" class=\"dataframe\">\n",
              "  <thead>\n",
              "    <tr style=\"text-align: right;\">\n",
              "      <th></th>\n",
              "      <th>Unnamed: 0</th>\n",
              "      <th>bodyid</th>\n",
              "      <th>pre</th>\n",
              "      <th>post</th>\n",
              "      <th>status</th>\n",
              "      <th>statusLabel</th>\n",
              "      <th>cropped</th>\n",
              "      <th>name</th>\n",
              "      <th>type</th>\n",
              "      <th>cellBodyFiber</th>\n",
              "      <th>...</th>\n",
              "      <th>axon_outputs_density</th>\n",
              "      <th>dend_outputs_density</th>\n",
              "      <th>axon_inputs_density</th>\n",
              "      <th>dend_inputs_density</th>\n",
              "      <th>total_length</th>\n",
              "      <th>axon_length</th>\n",
              "      <th>dend_length</th>\n",
              "      <th>pd_length</th>\n",
              "      <th>segregation_index</th>\n",
              "      <th>overlap_locality</th>\n",
              "    </tr>\n",
              "  </thead>\n",
              "  <tbody>\n",
              "    <tr>\n",
              "      <th>3326</th>\n",
              "      <td>5812980768</td>\n",
              "      <td>5812980768</td>\n",
              "      <td>233</td>\n",
              "      <td>411</td>\n",
              "      <td>Traced</td>\n",
              "      <td>Roughly traced</td>\n",
              "      <td>False</td>\n",
              "      <td>KCab-s part</td>\n",
              "      <td>KCab-sc</td>\n",
              "      <td>PDL03</td>\n",
              "      <td>...</td>\n",
              "      <td>0.0</td>\n",
              "      <td>0.0</td>\n",
              "      <td>0.0</td>\n",
              "      <td>0.0</td>\n",
              "      <td>630.913334</td>\n",
              "      <td>211.172853</td>\n",
              "      <td>143.037622</td>\n",
              "      <td>60.587129</td>\n",
              "      <td>0.002877</td>\n",
              "      <td>NaN</td>\n",
              "    </tr>\n",
              "  </tbody>\n",
              "</table>\n",
              "<p>1 rows × 30 columns</p>\n",
              "</div>\n",
              "      <button class=\"colab-df-convert\" onclick=\"convertToInteractive('df-01ae2a4b-2928-4c19-95b8-e2f2d171e541')\"\n",
              "              title=\"Convert this dataframe to an interactive table.\"\n",
              "              style=\"display:none;\">\n",
              "        \n",
              "  <svg xmlns=\"http://www.w3.org/2000/svg\" height=\"24px\"viewBox=\"0 0 24 24\"\n",
              "       width=\"24px\">\n",
              "    <path d=\"M0 0h24v24H0V0z\" fill=\"none\"/>\n",
              "    <path d=\"M18.56 5.44l.94 2.06.94-2.06 2.06-.94-2.06-.94-.94-2.06-.94 2.06-2.06.94zm-11 1L8.5 8.5l.94-2.06 2.06-.94-2.06-.94L8.5 2.5l-.94 2.06-2.06.94zm10 10l.94 2.06.94-2.06 2.06-.94-2.06-.94-.94-2.06-.94 2.06-2.06.94z\"/><path d=\"M17.41 7.96l-1.37-1.37c-.4-.4-.92-.59-1.43-.59-.52 0-1.04.2-1.43.59L10.3 9.45l-7.72 7.72c-.78.78-.78 2.05 0 2.83L4 21.41c.39.39.9.59 1.41.59.51 0 1.02-.2 1.41-.59l7.78-7.78 2.81-2.81c.8-.78.8-2.07 0-2.86zM5.41 20L4 18.59l7.72-7.72 1.47 1.35L5.41 20z\"/>\n",
              "  </svg>\n",
              "      </button>\n",
              "      \n",
              "  <style>\n",
              "    .colab-df-container {\n",
              "      display:flex;\n",
              "      flex-wrap:wrap;\n",
              "      gap: 12px;\n",
              "    }\n",
              "\n",
              "    .colab-df-convert {\n",
              "      background-color: #E8F0FE;\n",
              "      border: none;\n",
              "      border-radius: 50%;\n",
              "      cursor: pointer;\n",
              "      display: none;\n",
              "      fill: #1967D2;\n",
              "      height: 32px;\n",
              "      padding: 0 0 0 0;\n",
              "      width: 32px;\n",
              "    }\n",
              "\n",
              "    .colab-df-convert:hover {\n",
              "      background-color: #E2EBFA;\n",
              "      box-shadow: 0px 1px 2px rgba(60, 64, 67, 0.3), 0px 1px 3px 1px rgba(60, 64, 67, 0.15);\n",
              "      fill: #174EA6;\n",
              "    }\n",
              "\n",
              "    [theme=dark] .colab-df-convert {\n",
              "      background-color: #3B4455;\n",
              "      fill: #D2E3FC;\n",
              "    }\n",
              "\n",
              "    [theme=dark] .colab-df-convert:hover {\n",
              "      background-color: #434B5C;\n",
              "      box-shadow: 0px 1px 3px 1px rgba(0, 0, 0, 0.15);\n",
              "      filter: drop-shadow(0px 1px 2px rgba(0, 0, 0, 0.3));\n",
              "      fill: #FFFFFF;\n",
              "    }\n",
              "  </style>\n",
              "\n",
              "      <script>\n",
              "        const buttonEl =\n",
              "          document.querySelector('#df-01ae2a4b-2928-4c19-95b8-e2f2d171e541 button.colab-df-convert');\n",
              "        buttonEl.style.display =\n",
              "          google.colab.kernel.accessAllowed ? 'block' : 'none';\n",
              "\n",
              "        async function convertToInteractive(key) {\n",
              "          const element = document.querySelector('#df-01ae2a4b-2928-4c19-95b8-e2f2d171e541');\n",
              "          const dataTable =\n",
              "            await google.colab.kernel.invokeFunction('convertToInteractive',\n",
              "                                                     [key], {});\n",
              "          if (!dataTable) return;\n",
              "\n",
              "          const docLinkHtml = 'Like what you see? Visit the ' +\n",
              "            '<a target=\"_blank\" href=https://colab.research.google.com/notebooks/data_table.ipynb>data table notebook</a>'\n",
              "            + ' to learn more about interactive tables.';\n",
              "          element.innerHTML = '';\n",
              "          dataTable['output_type'] = 'display_data';\n",
              "          await google.colab.output.renderOutput(dataTable, element);\n",
              "          const docLink = document.createElement('div');\n",
              "          docLink.innerHTML = docLinkHtml;\n",
              "          element.appendChild(docLink);\n",
              "        }\n",
              "      </script>\n",
              "    </div>\n",
              "  </div>\n",
              "  "
            ],
            "text/plain": [
              "      Unnamed: 0      bodyid  pre  post  status     statusLabel cropped  \\\n",
              "3326  5812980768  5812980768  233   411  Traced  Roughly traced   False   \n",
              "\n",
              "             name     type cellBodyFiber  ...  axon_outputs_density  \\\n",
              "3326  KCab-s part  KCab-sc         PDL03  ...                   0.0   \n",
              "\n",
              "      dend_outputs_density  axon_inputs_density  dend_inputs_density  \\\n",
              "3326                   0.0                  0.0                  0.0   \n",
              "\n",
              "      total_length  axon_length  dend_length  pd_length  segregation_index  \\\n",
              "3326    630.913334   211.172853   143.037622  60.587129           0.002877   \n",
              "\n",
              "      overlap_locality  \n",
              "3326               NaN  \n",
              "\n",
              "[1 rows x 30 columns]"
            ]
          },
          "execution_count": 75,
          "metadata": {},
          "output_type": "execute_result"
        }
      ],
      "source": [
        "# compare to neuron metdata\n",
        "csv[csv['bodyid'] == 5812980768]"
      ],
      "id": "ryetwzNP4IbR"
    },
    {
      "cell_type": "code",
      "execution_count": null,
      "metadata": {
        "id": "w3fwQrqK4OWm"
      },
      "outputs": [],
      "source": [],
      "id": "w3fwQrqK4OWm"
    },
    {
      "cell_type": "code",
      "execution_count": null,
      "metadata": {
        "colab": {
          "base_uri": "https://localhost:8080/",
          "height": 386
        },
        "id": "ea1b867f",
        "outputId": "9d6a11bb-5c39-4ce3-8e18-fa9b407ef754"
      },
      "outputs": [
        {
          "data": {
            "text/html": [
              "\n",
              "  <div id=\"df-3206d383-e7c7-42d7-8dfc-b1924565851b\">\n",
              "    <div class=\"colab-df-container\">\n",
              "      <div>\n",
              "<style scoped>\n",
              "    .dataframe tbody tr th:only-of-type {\n",
              "        vertical-align: middle;\n",
              "    }\n",
              "\n",
              "    .dataframe tbody tr th {\n",
              "        vertical-align: top;\n",
              "    }\n",
              "\n",
              "    .dataframe thead th {\n",
              "        text-align: right;\n",
              "    }\n",
              "</style>\n",
              "<table border=\"1\" class=\"dataframe\">\n",
              "  <thead>\n",
              "    <tr style=\"text-align: right;\">\n",
              "      <th></th>\n",
              "      <th>Unnamed: 0</th>\n",
              "      <th>bodyid</th>\n",
              "      <th>pre</th>\n",
              "      <th>post</th>\n",
              "      <th>status</th>\n",
              "      <th>statusLabel</th>\n",
              "      <th>cropped</th>\n",
              "      <th>name</th>\n",
              "      <th>type</th>\n",
              "      <th>cellBodyFiber</th>\n",
              "      <th>...</th>\n",
              "      <th>axon_outputs_density</th>\n",
              "      <th>dend_outputs_density</th>\n",
              "      <th>axon_inputs_density</th>\n",
              "      <th>dend_inputs_density</th>\n",
              "      <th>total_length</th>\n",
              "      <th>axon_length</th>\n",
              "      <th>dend_length</th>\n",
              "      <th>pd_length</th>\n",
              "      <th>segregation_index</th>\n",
              "      <th>overlap_locality</th>\n",
              "    </tr>\n",
              "  </thead>\n",
              "  <tbody>\n",
              "    <tr>\n",
              "      <th>0</th>\n",
              "      <td>202916528</td>\n",
              "      <td>202916528</td>\n",
              "      <td>95</td>\n",
              "      <td>422</td>\n",
              "      <td>Traced</td>\n",
              "      <td>Roughly traced</td>\n",
              "      <td>False</td>\n",
              "      <td>FQ12_b_C4_R</td>\n",
              "      <td>FQ12_b</td>\n",
              "      <td>PDM03</td>\n",
              "      <td>...</td>\n",
              "      <td>0.0</td>\n",
              "      <td>0.0</td>\n",
              "      <td>0.0</td>\n",
              "      <td>0.0</td>\n",
              "      <td>1112.361752</td>\n",
              "      <td>266.682070</td>\n",
              "      <td>597.883459</td>\n",
              "      <td>115.207041</td>\n",
              "      <td>0.760906</td>\n",
              "      <td>NaN</td>\n",
              "    </tr>\n",
              "    <tr>\n",
              "      <th>1</th>\n",
              "      <td>1279775082</td>\n",
              "      <td>1279775082</td>\n",
              "      <td>24</td>\n",
              "      <td>140</td>\n",
              "      <td>Traced</td>\n",
              "      <td>Roughly traced</td>\n",
              "      <td>False</td>\n",
              "      <td>FQ12_a(AB)_C1_R</td>\n",
              "      <td>FQ12_a</td>\n",
              "      <td>PDM04</td>\n",
              "      <td>...</td>\n",
              "      <td>0.0</td>\n",
              "      <td>0.0</td>\n",
              "      <td>0.0</td>\n",
              "      <td>0.0</td>\n",
              "      <td>665.584354</td>\n",
              "      <td>142.498728</td>\n",
              "      <td>215.337713</td>\n",
              "      <td>131.953748</td>\n",
              "      <td>0.590056</td>\n",
              "      <td>NaN</td>\n",
              "    </tr>\n",
              "    <tr>\n",
              "      <th>2</th>\n",
              "      <td>203253072</td>\n",
              "      <td>203253072</td>\n",
              "      <td>62</td>\n",
              "      <td>352</td>\n",
              "      <td>Traced</td>\n",
              "      <td>Roughly traced</td>\n",
              "      <td>False</td>\n",
              "      <td>FQ12_a_C3_R</td>\n",
              "      <td>FQ12_a</td>\n",
              "      <td>PDM03</td>\n",
              "      <td>...</td>\n",
              "      <td>0.0</td>\n",
              "      <td>0.0</td>\n",
              "      <td>0.0</td>\n",
              "      <td>0.0</td>\n",
              "      <td>872.035917</td>\n",
              "      <td>153.191952</td>\n",
              "      <td>398.862417</td>\n",
              "      <td>185.390775</td>\n",
              "      <td>0.452794</td>\n",
              "      <td>NaN</td>\n",
              "    </tr>\n",
              "    <tr>\n",
              "      <th>3</th>\n",
              "      <td>326530038</td>\n",
              "      <td>326530038</td>\n",
              "      <td>383</td>\n",
              "      <td>3030</td>\n",
              "      <td>Traced</td>\n",
              "      <td>Roughly traced</td>\n",
              "      <td>False</td>\n",
              "      <td>PDM22c_pct(PDM22)_R</td>\n",
              "      <td>PDM22c_pct</td>\n",
              "      <td>iPB7</td>\n",
              "      <td>...</td>\n",
              "      <td>0.0</td>\n",
              "      <td>0.0</td>\n",
              "      <td>0.0</td>\n",
              "      <td>0.0</td>\n",
              "      <td>5862.584767</td>\n",
              "      <td>2405.826341</td>\n",
              "      <td>3137.630436</td>\n",
              "      <td>181.975991</td>\n",
              "      <td>0.084045</td>\n",
              "      <td>NaN</td>\n",
              "    </tr>\n",
              "    <tr>\n",
              "      <th>4</th>\n",
              "      <td>203253253</td>\n",
              "      <td>203253253</td>\n",
              "      <td>402</td>\n",
              "      <td>2675</td>\n",
              "      <td>Traced</td>\n",
              "      <td>Roughly traced</td>\n",
              "      <td>False</td>\n",
              "      <td>(PDM09)_L</td>\n",
              "      <td>NaN</td>\n",
              "      <td>NaN</td>\n",
              "      <td>...</td>\n",
              "      <td>0.0</td>\n",
              "      <td>0.0</td>\n",
              "      <td>0.0</td>\n",
              "      <td>0.0</td>\n",
              "      <td>5446.304041</td>\n",
              "      <td>2032.027462</td>\n",
              "      <td>3135.417423</td>\n",
              "      <td>141.691472</td>\n",
              "      <td>0.197539</td>\n",
              "      <td>0.310494</td>\n",
              "    </tr>\n",
              "  </tbody>\n",
              "</table>\n",
              "<p>5 rows × 30 columns</p>\n",
              "</div>\n",
              "      <button class=\"colab-df-convert\" onclick=\"convertToInteractive('df-3206d383-e7c7-42d7-8dfc-b1924565851b')\"\n",
              "              title=\"Convert this dataframe to an interactive table.\"\n",
              "              style=\"display:none;\">\n",
              "        \n",
              "  <svg xmlns=\"http://www.w3.org/2000/svg\" height=\"24px\"viewBox=\"0 0 24 24\"\n",
              "       width=\"24px\">\n",
              "    <path d=\"M0 0h24v24H0V0z\" fill=\"none\"/>\n",
              "    <path d=\"M18.56 5.44l.94 2.06.94-2.06 2.06-.94-2.06-.94-.94-2.06-.94 2.06-2.06.94zm-11 1L8.5 8.5l.94-2.06 2.06-.94-2.06-.94L8.5 2.5l-.94 2.06-2.06.94zm10 10l.94 2.06.94-2.06 2.06-.94-2.06-.94-.94-2.06-.94 2.06-2.06.94z\"/><path d=\"M17.41 7.96l-1.37-1.37c-.4-.4-.92-.59-1.43-.59-.52 0-1.04.2-1.43.59L10.3 9.45l-7.72 7.72c-.78.78-.78 2.05 0 2.83L4 21.41c.39.39.9.59 1.41.59.51 0 1.02-.2 1.41-.59l7.78-7.78 2.81-2.81c.8-.78.8-2.07 0-2.86zM5.41 20L4 18.59l7.72-7.72 1.47 1.35L5.41 20z\"/>\n",
              "  </svg>\n",
              "      </button>\n",
              "      \n",
              "  <style>\n",
              "    .colab-df-container {\n",
              "      display:flex;\n",
              "      flex-wrap:wrap;\n",
              "      gap: 12px;\n",
              "    }\n",
              "\n",
              "    .colab-df-convert {\n",
              "      background-color: #E8F0FE;\n",
              "      border: none;\n",
              "      border-radius: 50%;\n",
              "      cursor: pointer;\n",
              "      display: none;\n",
              "      fill: #1967D2;\n",
              "      height: 32px;\n",
              "      padding: 0 0 0 0;\n",
              "      width: 32px;\n",
              "    }\n",
              "\n",
              "    .colab-df-convert:hover {\n",
              "      background-color: #E2EBFA;\n",
              "      box-shadow: 0px 1px 2px rgba(60, 64, 67, 0.3), 0px 1px 3px 1px rgba(60, 64, 67, 0.15);\n",
              "      fill: #174EA6;\n",
              "    }\n",
              "\n",
              "    [theme=dark] .colab-df-convert {\n",
              "      background-color: #3B4455;\n",
              "      fill: #D2E3FC;\n",
              "    }\n",
              "\n",
              "    [theme=dark] .colab-df-convert:hover {\n",
              "      background-color: #434B5C;\n",
              "      box-shadow: 0px 1px 3px 1px rgba(0, 0, 0, 0.15);\n",
              "      filter: drop-shadow(0px 1px 2px rgba(0, 0, 0, 0.3));\n",
              "      fill: #FFFFFF;\n",
              "    }\n",
              "  </style>\n",
              "\n",
              "      <script>\n",
              "        const buttonEl =\n",
              "          document.querySelector('#df-3206d383-e7c7-42d7-8dfc-b1924565851b button.colab-df-convert');\n",
              "        buttonEl.style.display =\n",
              "          google.colab.kernel.accessAllowed ? 'block' : 'none';\n",
              "\n",
              "        async function convertToInteractive(key) {\n",
              "          const element = document.querySelector('#df-3206d383-e7c7-42d7-8dfc-b1924565851b');\n",
              "          const dataTable =\n",
              "            await google.colab.kernel.invokeFunction('convertToInteractive',\n",
              "                                                     [key], {});\n",
              "          if (!dataTable) return;\n",
              "\n",
              "          const docLinkHtml = 'Like what you see? Visit the ' +\n",
              "            '<a target=\"_blank\" href=https://colab.research.google.com/notebooks/data_table.ipynb>data table notebook</a>'\n",
              "            + ' to learn more about interactive tables.';\n",
              "          element.innerHTML = '';\n",
              "          dataTable['output_type'] = 'display_data';\n",
              "          await google.colab.output.renderOutput(dataTable, element);\n",
              "          const docLink = document.createElement('div');\n",
              "          docLink.innerHTML = docLinkHtml;\n",
              "          element.appendChild(docLink);\n",
              "        }\n",
              "      </script>\n",
              "    </div>\n",
              "  </div>\n",
              "  "
            ],
            "text/plain": [
              "   Unnamed: 0      bodyid  pre  post  status     statusLabel cropped  \\\n",
              "0   202916528   202916528   95   422  Traced  Roughly traced   False   \n",
              "1  1279775082  1279775082   24   140  Traced  Roughly traced   False   \n",
              "2   203253072   203253072   62   352  Traced  Roughly traced   False   \n",
              "3   326530038   326530038  383  3030  Traced  Roughly traced   False   \n",
              "4   203253253   203253253  402  2675  Traced  Roughly traced   False   \n",
              "\n",
              "                  name        type cellBodyFiber  ...  axon_outputs_density  \\\n",
              "0          FQ12_b_C4_R      FQ12_b         PDM03  ...                   0.0   \n",
              "1      FQ12_a(AB)_C1_R      FQ12_a         PDM04  ...                   0.0   \n",
              "2          FQ12_a_C3_R      FQ12_a         PDM03  ...                   0.0   \n",
              "3  PDM22c_pct(PDM22)_R  PDM22c_pct          iPB7  ...                   0.0   \n",
              "4            (PDM09)_L         NaN           NaN  ...                   0.0   \n",
              "\n",
              "   dend_outputs_density  axon_inputs_density  dend_inputs_density  \\\n",
              "0                   0.0                  0.0                  0.0   \n",
              "1                   0.0                  0.0                  0.0   \n",
              "2                   0.0                  0.0                  0.0   \n",
              "3                   0.0                  0.0                  0.0   \n",
              "4                   0.0                  0.0                  0.0   \n",
              "\n",
              "   total_length  axon_length  dend_length   pd_length  segregation_index  \\\n",
              "0   1112.361752   266.682070   597.883459  115.207041           0.760906   \n",
              "1    665.584354   142.498728   215.337713  131.953748           0.590056   \n",
              "2    872.035917   153.191952   398.862417  185.390775           0.452794   \n",
              "3   5862.584767  2405.826341  3137.630436  181.975991           0.084045   \n",
              "4   5446.304041  2032.027462  3135.417423  141.691472           0.197539   \n",
              "\n",
              "   overlap_locality  \n",
              "0               NaN  \n",
              "1               NaN  \n",
              "2               NaN  \n",
              "3               NaN  \n",
              "4          0.310494  \n",
              "\n",
              "[5 rows x 30 columns]"
            ]
          },
          "execution_count": 63,
          "metadata": {},
          "output_type": "execute_result"
        }
      ],
      "source": [
        "csv.head()"
      ],
      "id": "ea1b867f"
    },
    {
      "cell_type": "code",
      "execution_count": null,
      "metadata": {
        "colab": {
          "base_uri": "https://localhost:8080/"
        },
        "id": "b11e8123",
        "outputId": "d2d63adf-b761-42ab-9c64-af0085164a15"
      },
      "outputs": [
        {
          "data": {
            "text/plain": [
              "Index(['Unnamed: 0', 'bodyid', 'pre', 'post', 'status', 'statusLabel',\n",
              "       'cropped', 'name', 'type', 'cellBodyFiber', 'voxels', 'soma',\n",
              "       'total_outputs', 'total_inputs', 'axon_outputs', 'dend_outputs',\n",
              "       'axon_inputs', 'dend_inputs', 'total_outputs_density',\n",
              "       'total_inputs_density', 'axon_outputs_density', 'dend_outputs_density',\n",
              "       'axon_inputs_density', 'dend_inputs_density', 'total_length',\n",
              "       'axon_length', 'dend_length', 'pd_length', 'segregation_index',\n",
              "       'overlap_locality'],\n",
              "      dtype='object')"
            ]
          },
          "execution_count": 64,
          "metadata": {},
          "output_type": "execute_result"
        }
      ],
      "source": [
        "csv.columns"
      ],
      "id": "b11e8123"
    },
    {
      "cell_type": "code",
      "execution_count": null,
      "metadata": {
        "colab": {
          "base_uri": "https://localhost:8080/",
          "height": 423
        },
        "id": "DAUbGRX13VqE",
        "outputId": "af61cb3c-d2dd-4b4a-a1c0-b1ea90e02e1a"
      },
      "outputs": [
        {
          "data": {
            "text/html": [
              "\n",
              "  <div id=\"df-3c684867-8462-42af-bfcf-fbd8fe12d15a\">\n",
              "    <div class=\"colab-df-container\">\n",
              "      <div>\n",
              "<style scoped>\n",
              "    .dataframe tbody tr th:only-of-type {\n",
              "        vertical-align: middle;\n",
              "    }\n",
              "\n",
              "    .dataframe tbody tr th {\n",
              "        vertical-align: top;\n",
              "    }\n",
              "\n",
              "    .dataframe thead th {\n",
              "        text-align: right;\n",
              "    }\n",
              "</style>\n",
              "<table border=\"1\" class=\"dataframe\">\n",
              "  <thead>\n",
              "    <tr style=\"text-align: right;\">\n",
              "      <th></th>\n",
              "      <th>bodyid</th>\n",
              "      <th>type</th>\n",
              "      <th>name</th>\n",
              "    </tr>\n",
              "  </thead>\n",
              "  <tbody>\n",
              "    <tr>\n",
              "      <th>0</th>\n",
              "      <td>202916528</td>\n",
              "      <td>FQ12_b</td>\n",
              "      <td>FQ12_b_C4_R</td>\n",
              "    </tr>\n",
              "    <tr>\n",
              "      <th>1</th>\n",
              "      <td>1279775082</td>\n",
              "      <td>FQ12_a</td>\n",
              "      <td>FQ12_a(AB)_C1_R</td>\n",
              "    </tr>\n",
              "    <tr>\n",
              "      <th>2</th>\n",
              "      <td>203253072</td>\n",
              "      <td>FQ12_a</td>\n",
              "      <td>FQ12_a_C3_R</td>\n",
              "    </tr>\n",
              "    <tr>\n",
              "      <th>3</th>\n",
              "      <td>326530038</td>\n",
              "      <td>PDM22c_pct</td>\n",
              "      <td>PDM22c_pct(PDM22)_R</td>\n",
              "    </tr>\n",
              "    <tr>\n",
              "      <th>4</th>\n",
              "      <td>203253253</td>\n",
              "      <td>NaN</td>\n",
              "      <td>(PDM09)_L</td>\n",
              "    </tr>\n",
              "    <tr>\n",
              "      <th>...</th>\n",
              "      <td>...</td>\n",
              "      <td>...</td>\n",
              "      <td>...</td>\n",
              "    </tr>\n",
              "    <tr>\n",
              "      <th>22562</th>\n",
              "      <td>2403140939</td>\n",
              "      <td>NaN</td>\n",
              "      <td>NaN</td>\n",
              "    </tr>\n",
              "    <tr>\n",
              "      <th>22563</th>\n",
              "      <td>2311059545</td>\n",
              "      <td>NaN</td>\n",
              "      <td>NaN</td>\n",
              "    </tr>\n",
              "    <tr>\n",
              "      <th>22564</th>\n",
              "      <td>2405523662</td>\n",
              "      <td>NaN</td>\n",
              "      <td>NaN</td>\n",
              "    </tr>\n",
              "    <tr>\n",
              "      <th>22565</th>\n",
              "      <td>2279976491</td>\n",
              "      <td>NaN</td>\n",
              "      <td>NaN</td>\n",
              "    </tr>\n",
              "    <tr>\n",
              "      <th>22566</th>\n",
              "      <td>1982306692</td>\n",
              "      <td>NaN</td>\n",
              "      <td>NaN</td>\n",
              "    </tr>\n",
              "  </tbody>\n",
              "</table>\n",
              "<p>22567 rows × 3 columns</p>\n",
              "</div>\n",
              "      <button class=\"colab-df-convert\" onclick=\"convertToInteractive('df-3c684867-8462-42af-bfcf-fbd8fe12d15a')\"\n",
              "              title=\"Convert this dataframe to an interactive table.\"\n",
              "              style=\"display:none;\">\n",
              "        \n",
              "  <svg xmlns=\"http://www.w3.org/2000/svg\" height=\"24px\"viewBox=\"0 0 24 24\"\n",
              "       width=\"24px\">\n",
              "    <path d=\"M0 0h24v24H0V0z\" fill=\"none\"/>\n",
              "    <path d=\"M18.56 5.44l.94 2.06.94-2.06 2.06-.94-2.06-.94-.94-2.06-.94 2.06-2.06.94zm-11 1L8.5 8.5l.94-2.06 2.06-.94-2.06-.94L8.5 2.5l-.94 2.06-2.06.94zm10 10l.94 2.06.94-2.06 2.06-.94-2.06-.94-.94-2.06-.94 2.06-2.06.94z\"/><path d=\"M17.41 7.96l-1.37-1.37c-.4-.4-.92-.59-1.43-.59-.52 0-1.04.2-1.43.59L10.3 9.45l-7.72 7.72c-.78.78-.78 2.05 0 2.83L4 21.41c.39.39.9.59 1.41.59.51 0 1.02-.2 1.41-.59l7.78-7.78 2.81-2.81c.8-.78.8-2.07 0-2.86zM5.41 20L4 18.59l7.72-7.72 1.47 1.35L5.41 20z\"/>\n",
              "  </svg>\n",
              "      </button>\n",
              "      \n",
              "  <style>\n",
              "    .colab-df-container {\n",
              "      display:flex;\n",
              "      flex-wrap:wrap;\n",
              "      gap: 12px;\n",
              "    }\n",
              "\n",
              "    .colab-df-convert {\n",
              "      background-color: #E8F0FE;\n",
              "      border: none;\n",
              "      border-radius: 50%;\n",
              "      cursor: pointer;\n",
              "      display: none;\n",
              "      fill: #1967D2;\n",
              "      height: 32px;\n",
              "      padding: 0 0 0 0;\n",
              "      width: 32px;\n",
              "    }\n",
              "\n",
              "    .colab-df-convert:hover {\n",
              "      background-color: #E2EBFA;\n",
              "      box-shadow: 0px 1px 2px rgba(60, 64, 67, 0.3), 0px 1px 3px 1px rgba(60, 64, 67, 0.15);\n",
              "      fill: #174EA6;\n",
              "    }\n",
              "\n",
              "    [theme=dark] .colab-df-convert {\n",
              "      background-color: #3B4455;\n",
              "      fill: #D2E3FC;\n",
              "    }\n",
              "\n",
              "    [theme=dark] .colab-df-convert:hover {\n",
              "      background-color: #434B5C;\n",
              "      box-shadow: 0px 1px 3px 1px rgba(0, 0, 0, 0.15);\n",
              "      filter: drop-shadow(0px 1px 2px rgba(0, 0, 0, 0.3));\n",
              "      fill: #FFFFFF;\n",
              "    }\n",
              "  </style>\n",
              "\n",
              "      <script>\n",
              "        const buttonEl =\n",
              "          document.querySelector('#df-3c684867-8462-42af-bfcf-fbd8fe12d15a button.colab-df-convert');\n",
              "        buttonEl.style.display =\n",
              "          google.colab.kernel.accessAllowed ? 'block' : 'none';\n",
              "\n",
              "        async function convertToInteractive(key) {\n",
              "          const element = document.querySelector('#df-3c684867-8462-42af-bfcf-fbd8fe12d15a');\n",
              "          const dataTable =\n",
              "            await google.colab.kernel.invokeFunction('convertToInteractive',\n",
              "                                                     [key], {});\n",
              "          if (!dataTable) return;\n",
              "\n",
              "          const docLinkHtml = 'Like what you see? Visit the ' +\n",
              "            '<a target=\"_blank\" href=https://colab.research.google.com/notebooks/data_table.ipynb>data table notebook</a>'\n",
              "            + ' to learn more about interactive tables.';\n",
              "          element.innerHTML = '';\n",
              "          dataTable['output_type'] = 'display_data';\n",
              "          await google.colab.output.renderOutput(dataTable, element);\n",
              "          const docLink = document.createElement('div');\n",
              "          docLink.innerHTML = docLinkHtml;\n",
              "          element.appendChild(docLink);\n",
              "        }\n",
              "      </script>\n",
              "    </div>\n",
              "  </div>\n",
              "  "
            ],
            "text/plain": [
              "           bodyid        type                 name\n",
              "0       202916528      FQ12_b          FQ12_b_C4_R\n",
              "1      1279775082      FQ12_a      FQ12_a(AB)_C1_R\n",
              "2       203253072      FQ12_a          FQ12_a_C3_R\n",
              "3       326530038  PDM22c_pct  PDM22c_pct(PDM22)_R\n",
              "4       203253253         NaN            (PDM09)_L\n",
              "...           ...         ...                  ...\n",
              "22562  2403140939         NaN                  NaN\n",
              "22563  2311059545         NaN                  NaN\n",
              "22564  2405523662         NaN                  NaN\n",
              "22565  2279976491         NaN                  NaN\n",
              "22566  1982306692         NaN                  NaN\n",
              "\n",
              "[22567 rows x 3 columns]"
            ]
          },
          "execution_count": 70,
          "metadata": {},
          "output_type": "execute_result"
        }
      ],
      "source": [
        "csv[['bodyid', 'type', 'name']]"
      ],
      "id": "DAUbGRX13VqE"
    },
    {
      "cell_type": "code",
      "execution_count": null,
      "metadata": {
        "colab": {
          "base_uri": "https://localhost:8080/"
        },
        "id": "8a1aade8",
        "outputId": "0b7b43e6-7d98-40a1-89a0-d49c6800984c"
      },
      "outputs": [
        {
          "data": {
            "text/plain": [
              "array([           nan, 3.10493574e-01, 1.02049763e-10, ...,\n",
              "       4.37864056e-02, 5.08706645e-07, 2.00402683e-24])"
            ]
          },
          "execution_count": 65,
          "metadata": {},
          "output_type": "execute_result"
        }
      ],
      "source": [
        "csv['overlap_locality'].unique()"
      ],
      "id": "8a1aade8"
    },
    {
      "cell_type": "code",
      "execution_count": null,
      "metadata": {
        "colab": {
          "base_uri": "https://localhost:8080/"
        },
        "id": "EX9YozzxuCmV",
        "outputId": "62326052-af9b-463a-c671-fd99db464386"
      },
      "outputs": [
        {
          "data": {
            "text/plain": [
              "22566"
            ]
          },
          "execution_count": 51,
          "metadata": {},
          "output_type": "execute_result"
        }
      ],
      "source": [
        "csv['voxels'].nunique()"
      ],
      "id": "EX9YozzxuCmV"
    },
    {
      "cell_type": "code",
      "execution_count": null,
      "metadata": {
        "id": "9a97780f"
      },
      "outputs": [],
      "source": [
        "# set up H feature matrix\n",
        "# H = #num_nodes x num_features\n",
        "\n",
        "# features: X, Y, Z, in_degree, out_degree"
      ],
      "id": "9a97780f"
    },
    {
      "cell_type": "markdown",
      "metadata": {
        "id": "d92b904c"
      },
      "source": [
        "# using GCN\n",
        "model from https://discuss.dgl.ai/t/how-could-use-edge-or-node-weight/1310/2"
      ],
      "id": "d92b904c"
    },
    {
      "cell_type": "code",
      "execution_count": null,
      "metadata": {
        "id": "35515bf5"
      },
      "outputs": [],
      "source": [
        "e_weights = torch.tensor(traced_total_connections['weight'].values)#.unsqueeze(-1)"
      ],
      "id": "35515bf5"
    },
    {
      "cell_type": "code",
      "execution_count": null,
      "metadata": {
        "id": "c9122916",
        "outputId": "c1647fd1-8f0a-4fff-addf-f9af3f38fd58"
      },
      "outputs": [
        {
          "data": {
            "text/plain": [
              "torch.Size([3413160])"
            ]
          },
          "execution_count": 24,
          "metadata": {},
          "output_type": "execute_result"
        }
      ],
      "source": [
        "e_weights.shape"
      ],
      "id": "c9122916"
    },
    {
      "cell_type": "code",
      "execution_count": null,
      "metadata": {
        "id": "4ef64c6f"
      },
      "outputs": [],
      "source": [
        "# pylint: disable=W0235\n",
        "class GraphConv(nn.Module):\n",
        "    r\"\"\"\n",
        "    Description\n",
        "    -----------\n",
        "    Graph convolution was introduced in `GCN <https://arxiv.org/abs/1609.02907>`__\n",
        "    and mathematically is defined as follows:\n",
        "    .. math::\n",
        "      h_i^{(l+1)} = \\sigma(b^{(l)} + \\sum_{j\\in\\mathcal{N}(i)}\\frac{1}{c_{ij}}h_j^{(l)}W^{(l)})\n",
        "    where :math:`\\mathcal{N}(i)` is the set of neighbors of node :math:`i`,\n",
        "    :math:`c_{ij}` is the product of the square root of node degrees\n",
        "    (i.e.,  :math:`c_{ij} = \\sqrt{|\\mathcal{N}(i)|}\\sqrt{|\\mathcal{N}(j)|}`),\n",
        "    and :math:`\\sigma` is an activation function.\n",
        "\n",
        "    Parameters\n",
        "    ----------\n",
        "    in_feats : int\n",
        "        Input feature size; i.e, the number of dimensions of :math:`h_j^{(l)}`.\n",
        "    out_feats : int\n",
        "        Output feature size; i.e., the number of dimensions of :math:`h_i^{(l+1)}`.\n",
        "    norm : str, optional\n",
        "        How to apply the normalizer. If is `'right'`, divide the aggregated messages\n",
        "        by each node's in-degrees, which is equivalent to averaging the received messages.\n",
        "        If is `'none'`, no normalization is applied. Default is `'both'`,\n",
        "        where the :math:`c_{ij}` in the paper is applied.\n",
        "    weight : bool, optional\n",
        "        If True, apply a linear layer. Otherwise, aggregating the messages\n",
        "        without a weight matrix.\n",
        "    bias : bool, optional\n",
        "        If True, adds a learnable bias to the output. Default: ``True``.\n",
        "    activation : callable activation function/layer or None, optional\n",
        "        If not None, applies an activation function to the updated node features.\n",
        "        Default: ``None``.\n",
        "    allow_zero_in_degree : bool, optional\n",
        "        If there are 0-in-degree nodes in the graph, output for those nodes will be invalid\n",
        "        since no message will be passed to those nodes. This is harmful for some applications\n",
        "        causing silent performance regression. This module will raise a DGLError if it detects\n",
        "        0-in-degree nodes in input graph. By setting ``True``, it will suppress the check\n",
        "        and let the users handle it by themselves. Default: ``False``.\n",
        "\n",
        "    Attributes\n",
        "    ----------\n",
        "    weight : torch.Tensor\n",
        "        The learnable weight tensor.\n",
        "    bias : torch.Tensor\n",
        "        The learnable bias tensor.\n",
        "\n",
        "    Note\n",
        "    ----\n",
        "    Zero in-degree nodes will lead to invalid output value. This is because no message\n",
        "    will be passed to those nodes, the aggregation function will be appied on empty input.\n",
        "    A common practice to avoid this is to add a self-loop for each node in the graph if\n",
        "    it is homogeneous, which can be achieved by:\n",
        "    >>> g = ... # a DGLGraph\n",
        "    >>> g = dgl.add_self_loop(g)\n",
        "    Calling ``add_self_loop`` will not work for some graphs, for example, heterogeneous graph\n",
        "    since the edge type can not be decided for self_loop edges. Set ``allow_zero_in_degree``\n",
        "    to ``True`` for those cases to unblock the code and handle zere-in-degree nodes manually.\n",
        "    A common practise to handle this is to filter out the nodes with zere-in-degree when use\n",
        "    after conv.\n",
        "\n",
        "    Examples\n",
        "    --------\n",
        "    >>> import dgl\n",
        "    >>> import numpy as np\n",
        "    >>> import torch as th\n",
        "    >>> from dgl.nn import GraphConv\n",
        "    >>> # Case 1: Homogeneous graph\n",
        "    >>> g = dgl.graph(([0,1,2,3,2,5], [1,2,3,4,0,3]))\n",
        "    >>> g = dgl.add_self_loop(g)\n",
        "    >>> feat = th.ones(6, 10)\n",
        "    >>> conv = GraphConv(10, 2, norm='both', weight=True, bias=True)\n",
        "    >>> res = conv(g, feat)\n",
        "    >>> print(res)\n",
        "    tensor([[ 1.3326, -0.2797],\n",
        "            [ 1.4673, -0.3080],\n",
        "            [ 1.3326, -0.2797],\n",
        "            [ 1.6871, -0.3541],\n",
        "            [ 1.7711, -0.3717],\n",
        "            [ 1.0375, -0.2178]], grad_fn=<AddBackward0>)\n",
        "    >>> # allow_zero_in_degree example\n",
        "    >>> g = dgl.graph(([0,1,2,3,2,5], [1,2,3,4,0,3]))\n",
        "    >>> conv = GraphConv(10, 2, norm='both', weight=True, bias=True, allow_zero_in_degree=True)\n",
        "    >>> res = conv(g, feat)\n",
        "    >>> print(res)\n",
        "    tensor([[-0.2473, -0.4631],\n",
        "            [-0.3497, -0.6549],\n",
        "            [-0.3497, -0.6549],\n",
        "            [-0.4221, -0.7905],\n",
        "            [-0.3497, -0.6549],\n",
        "            [ 0.0000,  0.0000]], grad_fn=<AddBackward0>)\n",
        "    >>> # Case 2: Unidirectional bipartite graph\n",
        "    >>> u = [0, 1, 0, 0, 1]\n",
        "    >>> v = [0, 1, 2, 3, 2]\n",
        "    >>> g = dgl.bipartite((u, v))\n",
        "    >>> u_fea = th.rand(2, 5)\n",
        "    >>> v_fea = th.rand(4, 5)\n",
        "    >>> conv = GraphConv(5, 2, norm='both', weight=True, bias=True)\n",
        "    >>> res = conv(g, (u_fea, v_fea))\n",
        "    >>> res\n",
        "    tensor([[-0.2994,  0.6106],\n",
        "            [-0.4482,  0.5540],\n",
        "            [-0.5287,  0.8235],\n",
        "            [-0.2994,  0.6106]], grad_fn=<AddBackward0>)\n",
        "    \"\"\"\n",
        "    def __init__(self,\n",
        "                 in_feats,\n",
        "                 out_feats,\n",
        "                 norm='both',\n",
        "                 weight=True,\n",
        "                 bias=True,\n",
        "                 activation=None,\n",
        "                 allow_zero_in_degree=False):\n",
        "        super(GraphConv, self).__init__()\n",
        "        if norm not in ('none', 'both', 'right'):\n",
        "            raise DGLError('Invalid norm value. Must be either \"none\", \"both\" or \"right\".'\n",
        "                           ' But got \"{}\".'.format(norm))\n",
        "        self._in_feats = in_feats\n",
        "        self._out_feats = out_feats\n",
        "        self._norm = norm\n",
        "        self._allow_zero_in_degree = allow_zero_in_degree\n",
        "\n",
        "        if weight:\n",
        "            self.weight = nn.Parameter(torch.Tensor(in_feats, out_feats))\n",
        "        else:\n",
        "            self.register_parameter('weight', None)\n",
        "\n",
        "        if bias:\n",
        "            self.bias = nn.Parameter(torch.Tensor(out_feats))\n",
        "        else:\n",
        "            self.register_parameter('bias', None)\n",
        "\n",
        "        self.reset_parameters()\n",
        "\n",
        "        self._activation = activation\n",
        "\n",
        "    def reset_parameters(self):\n",
        "        r\"\"\"\n",
        "        Description\n",
        "        -----------\n",
        "        Reinitialize learnable parameters.\n",
        "\n",
        "        Note\n",
        "        ----\n",
        "        The model parameters are initialized as in the\n",
        "        `original implementation <https://github.com/tkipf/gcn/blob/master/gcn/layers.py>`__\n",
        "        where the weight :math:`W^{(l)}` is initialized using Glorot uniform initialization\n",
        "        and the bias is initialized to be zero.\n",
        "        \"\"\"\n",
        "        if self.weight is not None:\n",
        "            init.xavier_uniform_(self.weight)\n",
        "        if self.bias is not None:\n",
        "            init.zeros_(self.bias)\n",
        "\n",
        "    def set_allow_zero_in_degree(self, set_value):\n",
        "        r\"\"\"\n",
        "        Description\n",
        "        -----------\n",
        "        Set allow_zero_in_degree flag.\n",
        "\n",
        "        Parameters\n",
        "        ----------\n",
        "        set_value : bool\n",
        "            The value to be set to the flag.\n",
        "        \"\"\"\n",
        "        self._allow_zero_in_degree = set_value\n",
        "\n",
        "    def forward(self, graph, feat, eweight, weight=None):\n",
        "        r\"\"\"\n",
        "        Description\n",
        "        -----------\n",
        "        Compute graph convolution.\n",
        "\n",
        "        Parameters\n",
        "        ----------\n",
        "        graph : DGLGraph\n",
        "            The graph.\n",
        "        feat : torch.Tensor or pair of torch.Tensor\n",
        "            If a torch.Tensor is given, it represents the input feature of shape\n",
        "            :math:`(N, D_{in})`\n",
        "            where :math:`D_{in}` is size of input feature, :math:`N` is the number of nodes.\n",
        "            If a pair of torch.Tensor is given, which is the case for bipartite graph, the pair\n",
        "            must contain two tensors of shape :math:`(N_{in}, D_{in_{src}})` and\n",
        "            :math:`(N_{out}, D_{in_{dst}})`.\n",
        "        eweight : torch.Tensor of shape (E, 1)\n",
        "            Edge weights, E for the number of edges.\n",
        "        weight : torch.Tensor, optional\n",
        "            Optional external weight tensor.\n",
        "\n",
        "        Returns\n",
        "        -------\n",
        "        torch.Tensor\n",
        "            The output feature\n",
        "\n",
        "        Raises\n",
        "        ------\n",
        "        DGLError\n",
        "            Case 1:\n",
        "            If there are 0-in-degree nodes in the input graph, it will raise DGLError\n",
        "            since no message will be passed to those nodes. This will cause invalid output.\n",
        "            The error can be ignored by setting ``allow_zero_in_degree`` parameter to ``True``.\n",
        "            Case 2:\n",
        "            External weight is provided while at the same time the module\n",
        "            has defined its own weight parameter.\n",
        "\n",
        "        Note\n",
        "        ----\n",
        "        * Input shape: :math:`(N, *, \\text{in_feats})` where * means any number of additional\n",
        "          dimensions, :math:`N` is the number of nodes.\n",
        "        * Output shape: :math:`(N, *, \\text{out_feats})` where all but the last dimension are\n",
        "          the same shape as the input.\n",
        "        * Weight shape: :math:`(\\text{in_feats}, \\text{out_feats})`.\n",
        "        \"\"\"\n",
        "        with graph.local_scope():\n",
        "            if not self._allow_zero_in_degree:\n",
        "                if (graph.in_degrees() == 0).any():\n",
        "                    raise DGLError('There are 0-in-degree nodes in the graph, '\n",
        "                                   'output for those nodes will be invalid. '\n",
        "                                   'This is harmful for some applications, '\n",
        "                                   'causing silent performance regression. '\n",
        "                                   'Adding self-loop on the input graph by '\n",
        "                                   'calling `g = dgl.add_self_loop(g)` will resolve '\n",
        "                                   'the issue. Setting ``allow_zero_in_degree`` '\n",
        "                                   'to be `True` when constructing this module will '\n",
        "                                   'suppress the check and let the code run.')\n",
        "\n",
        "            # (BarclayII) For RGCN on heterogeneous graphs we need to support GCN on bipartite.\n",
        "            feat_src, feat_dst = expand_as_pair(feat, graph)\n",
        "            if self._norm == 'both':\n",
        "                degs = graph.out_degrees().float().clamp(min=1)\n",
        "                norm = torch.pow(degs, -0.5)\n",
        "                shp = norm.shape + (1,) * (feat_src.dim() - 1)\n",
        "                norm = torch.reshape(norm, shp)\n",
        "                feat_src = feat_src * norm\n",
        "\n",
        "            if weight is not None:\n",
        "                if self.weight is not None:\n",
        "                    raise DGLError('External weight is provided while at the same time the'\n",
        "                                   ' module has defined its own weight parameter. Please'\n",
        "                                   ' create the module with flag weight=False.')\n",
        "            else:\n",
        "                weight = self.weight\n",
        "\n",
        "            # Set edge weights\n",
        "            graph.edata['w'] = eweight\n",
        "            if self._in_feats > self._out_feats:\n",
        "                # mult W first to reduce the feature size for aggregation.\n",
        "                if weight is not None:\n",
        "                    feat_src = torch.matmul(feat_src, weight)\n",
        "                graph.srcdata['h'] = feat_src\n",
        "                # Changed from fn.copy_src to fn.u_mul_e\n",
        "                graph.update_all(fn.u_mul_e(lhs_field='h', rhs_field='w', out='m'),\n",
        "                                 fn.sum(msg='m', out='h'))\n",
        "                rst = graph.dstdata['h']\n",
        "            else:\n",
        "                # aggregate first then mult W\n",
        "                graph.srcdata['h'] = feat_src\n",
        "                # Changed from fn.copy_src to fn.u_mul_e\n",
        "                graph.update_all(fn.u_mul_e(lhs_field='h', rhs_field='w', out='m'),\n",
        "                                 fn.sum(msg='m', out='h'))\n",
        "                rst = graph.dstdata['h']\n",
        "                if weight is not None:\n",
        "                    rst = torch.matmul(rst, weight)\n",
        "\n",
        "            if self._norm != 'none':\n",
        "                degs = graph.in_degrees().float().clamp(min=1)\n",
        "                if self._norm == 'both':\n",
        "                    norm = torch.pow(degs, -0.5)\n",
        "                else:\n",
        "                    norm = 1.0 / degs\n",
        "                shp = norm.shape + (1,) * (feat_dst.dim() - 1)\n",
        "                norm = torch.reshape(norm, shp)\n",
        "                rst = rst * norm\n",
        "\n",
        "            if self.bias is not None:\n",
        "                rst = rst + self.bias\n",
        "\n",
        "            if self._activation is not None:\n",
        "                rst = self._activation(rst)\n",
        "\n",
        "            return rst"
      ],
      "id": "4ef64c6f"
    },
    {
      "cell_type": "code",
      "execution_count": null,
      "metadata": {
        "id": "97e17764"
      },
      "outputs": [],
      "source": [
        "gnn = GraphConv(in_feats = 2, # in degree and out degree\n",
        "               out_feats = num_classes,\n",
        "               allow_zero_in_degree = True)"
      ],
      "id": "97e17764"
    },
    {
      "cell_type": "code",
      "execution_count": null,
      "metadata": {
        "id": "82e78c5f"
      },
      "outputs": [],
      "source": [
        "# add additional parameters"
      ],
      "id": "82e78c5f"
    },
    {
      "cell_type": "code",
      "execution_count": null,
      "metadata": {
        "id": "e98aeb37"
      },
      "outputs": [],
      "source": [
        "graph.ndata['feat'] = torch.stack([graph.in_degrees(), graph.out_degrees()]).T"
      ],
      "id": "e98aeb37"
    },
    {
      "cell_type": "code",
      "execution_count": null,
      "metadata": {
        "id": "1cff6546"
      },
      "outputs": [],
      "source": [
        "graph.ndata['train_mask'] = torch.zeros(num_nodes, dtype=bool)"
      ],
      "id": "1cff6546"
    },
    {
      "cell_type": "code",
      "execution_count": null,
      "metadata": {
        "id": "96d6b282"
      },
      "outputs": [],
      "source": [
        "graph.ndata['test_mask'] = torch.zeros(num_nodes, dtype=bool)\n",
        "graph.ndata['val_mask'] = torch.zeros(num_nodes, dtype=bool)\n"
      ],
      "id": "96d6b282"
    },
    {
      "cell_type": "code",
      "execution_count": null,
      "metadata": {
        "id": "a3a79a28"
      },
      "outputs": [],
      "source": [
        "graph.ndata['train_mask'][0:15000] = True\n",
        "graph.ndata['val_mask'][15000:16000] = True\n",
        "graph.ndata['test_mask'][16000:] = True"
      ],
      "id": "a3a79a28"
    },
    {
      "cell_type": "code",
      "execution_count": null,
      "metadata": {
        "id": "44671ac2"
      },
      "outputs": [],
      "source": [
        "graph.ndata['label'] = torch.tensor(labels)"
      ],
      "id": "44671ac2"
    },
    {
      "cell_type": "code",
      "execution_count": null,
      "metadata": {
        "id": "d3c6c987",
        "outputId": "b67c31a4-0caf-43a7-a5cd-0da37b65bcec"
      },
      "outputs": [
        {
          "name": "stderr",
          "output_type": "stream",
          "text": [
            "/home/chenzyu/columbia/sp23/coms6691/pj/env/lib/python3.9/site-packages/dgl/backend/pytorch/tensor.py:445: UserWarning: TypedStorage is deprecated. It will be removed in the future and UntypedStorage will be the only storage class. This should only matter to you if you are using storages directly.  To access UntypedStorage directly, use tensor.untyped_storage() instead of tensor.storage()\n",
            "  assert input.numel() == input.storage().size(), (\n"
          ]
        },
        {
          "name": "stdout",
          "output_type": "stream",
          "text": [
            "In epoch 0, loss: 44.112, train acc: 0.000, val acc: 0.000 (best 0.000), test acc: 0.000 (best 0.000)\n",
            "In epoch 5, loss: 31.630, train acc: 0.018, val acc: 0.016 (best 0.016), test acc: 0.016 (best 0.016)\n",
            "In epoch 10, loss: 23.862, train acc: 0.010, val acc: 0.008 (best 0.016), test acc: 0.009 (best 0.016)\n",
            "In epoch 15, loss: 18.382, train acc: 0.002, val acc: 0.004 (best 0.016), test acc: 0.004 (best 0.016)\n",
            "In epoch 20, loss: 14.554, train acc: 0.002, val acc: 0.004 (best 0.016), test acc: 0.002 (best 0.016)\n",
            "In epoch 25, loss: 12.460, train acc: 0.027, val acc: 0.023 (best 0.024), test acc: 0.022 (best 0.021)\n",
            "In epoch 30, loss: 10.892, train acc: 0.016, val acc: 0.016 (best 0.024), test acc: 0.013 (best 0.021)\n",
            "In epoch 35, loss: 9.754, train acc: 0.020, val acc: 0.018 (best 0.024), test acc: 0.018 (best 0.021)\n",
            "In epoch 40, loss: 9.337, train acc: 0.021, val acc: 0.020 (best 0.024), test acc: 0.018 (best 0.021)\n",
            "In epoch 45, loss: 9.063, train acc: 0.019, val acc: 0.019 (best 0.024), test acc: 0.014 (best 0.021)\n",
            "In epoch 50, loss: 8.903, train acc: 0.011, val acc: 0.012 (best 0.024), test acc: 0.009 (best 0.021)\n",
            "In epoch 55, loss: 8.694, train acc: 0.022, val acc: 0.022 (best 0.024), test acc: 0.017 (best 0.021)\n",
            "In epoch 60, loss: 8.594, train acc: 0.023, val acc: 0.018 (best 0.027), test acc: 0.017 (best 0.018)\n",
            "In epoch 65, loss: 8.502, train acc: 0.022, val acc: 0.027 (best 0.027), test acc: 0.019 (best 0.018)\n",
            "In epoch 70, loss: 8.419, train acc: 0.026, val acc: 0.027 (best 0.028), test acc: 0.019 (best 0.020)\n",
            "In epoch 75, loss: 8.366, train acc: 0.025, val acc: 0.023 (best 0.028), test acc: 0.019 (best 0.020)\n",
            "In epoch 80, loss: 8.317, train acc: 0.026, val acc: 0.026 (best 0.028), test acc: 0.020 (best 0.020)\n",
            "In epoch 85, loss: 8.273, train acc: 0.026, val acc: 0.023 (best 0.028), test acc: 0.019 (best 0.020)\n",
            "In epoch 90, loss: 8.238, train acc: 0.026, val acc: 0.026 (best 0.028), test acc: 0.021 (best 0.020)\n",
            "In epoch 95, loss: 8.204, train acc: 0.026, val acc: 0.024 (best 0.028), test acc: 0.020 (best 0.020)\n"
          ]
        }
      ],
      "source": [
        "def train(g, model, lr = 0.001):\n",
        "    optimizer = torch.optim.Adam(model.parameters(), lr=lr)\n",
        "    best_val_acc = 0\n",
        "    best_test_acc = 0\n",
        "\n",
        "    features = g.ndata[\"feat\"]\n",
        "    labels = g.ndata[\"label\"]\n",
        "    train_mask = g.ndata[\"train_mask\"]\n",
        "    val_mask = g.ndata[\"val_mask\"]\n",
        "    test_mask = g.ndata[\"test_mask\"]\n",
        "    for e in range(100):\n",
        "        # Forward\n",
        "        logits = model(g, features, e_weights.to(torch.float32))\n",
        "\n",
        "        # Compute prediction\n",
        "        pred = logits.argmax(1)\n",
        "\n",
        "        # Compute loss\n",
        "        # Note that you should only compute the losses of the nodes in the training set.\n",
        "        \n",
        "#         print(logits[train_mask].squeeze().shape)\n",
        "#         print(logits[train_mask].squeeze())\n",
        "#         print(labels[train_mask].shape)\n",
        "#         print(labels[train_mask])\n",
        "        \n",
        "#         loss = F.cross_entropy(logits[train_mask], labels[train_mask])\n",
        "        loss = F.cross_entropy(logits[train_mask].squeeze(0), labels[train_mask])\n",
        "\n",
        "        # Compute accuracy on training/validation/test\n",
        "        train_acc = (pred[train_mask] == labels[train_mask]).float().mean()\n",
        "        val_acc = (pred[val_mask] == labels[val_mask]).float().mean()\n",
        "        test_acc = (pred[test_mask] == labels[test_mask]).float().mean()\n",
        "\n",
        "        # Save the best validation accuracy and the corresponding test accuracy.\n",
        "        if best_val_acc < val_acc:\n",
        "            best_val_acc = val_acc\n",
        "            best_test_acc = test_acc\n",
        "\n",
        "        # Backward\n",
        "        optimizer.zero_grad()\n",
        "        loss.backward()\n",
        "        optimizer.step()\n",
        "\n",
        "        if e % 5 == 0:\n",
        "            print(\n",
        "                \"In epoch {}, loss: {:.3f}, train acc: {:.3f}, val acc: {:.3f} (best {:.3f}), test acc: {:.3f} (best {:.3f})\".format(\n",
        "                    e, loss, train_acc, val_acc, best_val_acc, test_acc, best_test_acc\n",
        "                )\n",
        "            )\n",
        "\n",
        "\n",
        "train(graph, gnn)"
      ],
      "id": "d3c6c987"
    }
  ],
  "metadata": {
    "colab": {
      "provenance": [],
      "machine_shape": "hm"
    },
    "kernelspec": {
      "display_name": "Python 3 (ipykernel)",
      "language": "python",
      "name": "python3"
    },
    "language_info": {
      "codemirror_mode": {
        "name": "ipython",
        "version": 3
      },
      "file_extension": ".py",
      "mimetype": "text/x-python",
      "name": "python",
      "nbconvert_exporter": "python",
      "pygments_lexer": "ipython3",
      "version": "3.10.10"
    },
    "vscode": {
      "interpreter": {
        "hash": "41b9996f2a854dcebc0c41034de42dfd84b8e827c1b0de597553f28bb679ef45"
      }
    },
    "gpuClass": "standard"
  },
  "nbformat": 4,
  "nbformat_minor": 5
}
